{
 "cells": [
  {
   "attachments": {},
   "cell_type": "markdown",
   "metadata": {},
   "source": [
    "# NSU 4. Domača naloga"
   ]
  },
  {
   "attachments": {},
   "cell_type": "markdown",
   "metadata": {},
   "source": [
    "## Osnovna naloga"
   ]
  },
  {
   "cell_type": "code",
   "execution_count": 1,
   "metadata": {},
   "outputs": [],
   "source": [
    "import numpy as np\n",
    "import pandas as pd\n",
    "import matplotlib.pyplot as plt\n",
    "from sklearn.preprocessing import PolynomialFeatures\n",
    "\n",
    "from DN4_2_podatky import *"
   ]
  },
  {
   "attachments": {},
   "cell_type": "markdown",
   "metadata": {},
   "source": [
    "Najprej uvozimo podatke za osnovno nalogo."
   ]
  },
  {
   "cell_type": "code",
   "execution_count": 35,
   "metadata": {},
   "outputs": [
    {
     "data": {
      "text/html": [
       "<div>\n",
       "<style scoped>\n",
       "    .dataframe tbody tr th:only-of-type {\n",
       "        vertical-align: middle;\n",
       "    }\n",
       "\n",
       "    .dataframe tbody tr th {\n",
       "        vertical-align: top;\n",
       "    }\n",
       "\n",
       "    .dataframe thead th {\n",
       "        text-align: right;\n",
       "    }\n",
       "</style>\n",
       "<table border=\"1\" class=\"dataframe\">\n",
       "  <thead>\n",
       "    <tr style=\"text-align: right;\">\n",
       "      <th></th>\n",
       "      <th>Q</th>\n",
       "      <th>Tw</th>\n",
       "      <th>Ta</th>\n",
       "      <th>theta</th>\n",
       "      <th>eta</th>\n",
       "    </tr>\n",
       "  </thead>\n",
       "  <tbody>\n",
       "    <tr>\n",
       "      <th>0</th>\n",
       "      <td>1.711929</td>\n",
       "      <td>53.005339</td>\n",
       "      <td>10.788147</td>\n",
       "      <td>0.321921</td>\n",
       "      <td>0.349083</td>\n",
       "    </tr>\n",
       "    <tr>\n",
       "      <th>1</th>\n",
       "      <td>0.067135</td>\n",
       "      <td>20.761340</td>\n",
       "      <td>12.225502</td>\n",
       "      <td>2.705824</td>\n",
       "      <td>0.821069</td>\n",
       "    </tr>\n",
       "    <tr>\n",
       "      <th>2</th>\n",
       "      <td>0.034759</td>\n",
       "      <td>39.546739</td>\n",
       "      <td>35.892183</td>\n",
       "      <td>1.873776</td>\n",
       "      <td>0.756082</td>\n",
       "    </tr>\n",
       "    <tr>\n",
       "      <th>3</th>\n",
       "      <td>0.417783</td>\n",
       "      <td>33.972185</td>\n",
       "      <td>21.385801</td>\n",
       "      <td>2.089589</td>\n",
       "      <td>0.516134</td>\n",
       "    </tr>\n",
       "    <tr>\n",
       "      <th>4</th>\n",
       "      <td>1.667614</td>\n",
       "      <td>50.092173</td>\n",
       "      <td>15.254621</td>\n",
       "      <td>0.328350</td>\n",
       "      <td>0.083327</td>\n",
       "    </tr>\n",
       "    <tr>\n",
       "      <th>...</th>\n",
       "      <td>...</td>\n",
       "      <td>...</td>\n",
       "      <td>...</td>\n",
       "      <td>...</td>\n",
       "      <td>...</td>\n",
       "    </tr>\n",
       "    <tr>\n",
       "      <th>495</th>\n",
       "      <td>1.327393</td>\n",
       "      <td>54.081114</td>\n",
       "      <td>30.039247</td>\n",
       "      <td>1.153132</td>\n",
       "      <td>0.708757</td>\n",
       "    </tr>\n",
       "    <tr>\n",
       "      <th>496</th>\n",
       "      <td>0.053967</td>\n",
       "      <td>42.933431</td>\n",
       "      <td>39.799381</td>\n",
       "      <td>1.572222</td>\n",
       "      <td>0.022975</td>\n",
       "    </tr>\n",
       "    <tr>\n",
       "      <th>497</th>\n",
       "      <td>0.707523</td>\n",
       "      <td>47.145488</td>\n",
       "      <td>30.707064</td>\n",
       "      <td>2.093919</td>\n",
       "      <td>0.684035</td>\n",
       "    </tr>\n",
       "    <tr>\n",
       "      <th>498</th>\n",
       "      <td>0.062350</td>\n",
       "      <td>39.405105</td>\n",
       "      <td>32.647363</td>\n",
       "      <td>0.311168</td>\n",
       "      <td>0.053085</td>\n",
       "    </tr>\n",
       "    <tr>\n",
       "      <th>499</th>\n",
       "      <td>0.011049</td>\n",
       "      <td>47.549837</td>\n",
       "      <td>45.866743</td>\n",
       "      <td>2.258284</td>\n",
       "      <td>0.139831</td>\n",
       "    </tr>\n",
       "  </tbody>\n",
       "</table>\n",
       "<p>500 rows × 5 columns</p>\n",
       "</div>"
      ],
      "text/plain": [
       "            Q         Tw         Ta     theta       eta\n",
       "0    1.711929  53.005339  10.788147  0.321921  0.349083\n",
       "1    0.067135  20.761340  12.225502  2.705824  0.821069\n",
       "2    0.034759  39.546739  35.892183  1.873776  0.756082\n",
       "3    0.417783  33.972185  21.385801  2.089589  0.516134\n",
       "4    1.667614  50.092173  15.254621  0.328350  0.083327\n",
       "..        ...        ...        ...       ...       ...\n",
       "495  1.327393  54.081114  30.039247  1.153132  0.708757\n",
       "496  0.053967  42.933431  39.799381  1.572222  0.022975\n",
       "497  0.707523  47.145488  30.707064  2.093919  0.684035\n",
       "498  0.062350  39.405105  32.647363  0.311168  0.053085\n",
       "499  0.011049  47.549837  45.866743  2.258284  0.139831\n",
       "\n",
       "[500 rows x 5 columns]"
      ]
     },
     "execution_count": 35,
     "metadata": {},
     "output_type": "execute_result"
    }
   ],
   "source": [
    "podatki_osnovna = pd.read_csv(\"DN4_1_podatki.csv\")\n",
    "podatki_osnovna"
   ]
  },
  {
   "attachments": {},
   "cell_type": "markdown",
   "metadata": {},
   "source": [
    "Iz domenskega predznanja lahko razberemo sledeče:\n",
    "\n",
    "- bližje vrednosti $\\frac{\\pi}{2}$ kot bo $\\theta$ večji bo toplotni tok, *c.p.*,\n",
    "\n",
    "- višja razlika kot bo med $T_w$ in $T_a$ večji bo toplotni tok, *c.p.*. Tok je verjetno odvisen samo od njune razlike,\n",
    "\n",
    "- višji kot je $\\eta$ nižji je toplotni tok, *c.p.*.\n",
    "\n",
    "Te informacije uporabimo za kreiranje novih spremenljivk kot sledi:\n",
    "\n",
    "- izračunamo sinus kota $\\theta$: $ \\widehat{\\theta} = \\sin(\\theta) $ - višja kot je vrednost, večji bo toplotni tok,\n",
    "\n",
    "- kot drugi poskus izračunamo odstopanje vrednosti $\\theta$ od $\\frac{\\pi}{2}$: $ \\widehat{\\theta_2} = |\\frac{\\pi}{2} - \\theta|$ - višja kot bo njena vrednost, večji bo toplotni tok,\n",
    "\n",
    "- izračunamo razliko med $T_w$ in $T_a$ (pomemben predznak zaradi smeri toka): $T_r = T_w - T_a$ - višja kot bo razlika, večji bo toplotni tok,\n",
    "\n",
    "- ker razmerje med razliko in $Q$ verjetno ni linearno, poračunamo še višje potence razlike (2,3,4) in njen koren,\n",
    "\n",
    "- $\\eta$ \"obrnemo\": $\\hat{\\eta} = \\frac{1}{\\eta}$ - višji kot bo njena vrednost, nižji bo toplotni tok. Poračunamo tudi kvadrat te vrednosti, $\\widehat{\\eta_2}$,\n",
    "\n",
    "- poizkusimo tudi enostavno z enostavnim kvadriranjem: $\\widehat{\\eta_3} = \\eta^2 $ - višja kot je vrednost, nižji bo toplotni tok."
   ]
  },
  {
   "cell_type": "code",
   "execution_count": 48,
   "metadata": {},
   "outputs": [
    {
     "data": {
      "text/html": [
       "<div>\n",
       "<style scoped>\n",
       "    .dataframe tbody tr th:only-of-type {\n",
       "        vertical-align: middle;\n",
       "    }\n",
       "\n",
       "    .dataframe tbody tr th {\n",
       "        vertical-align: top;\n",
       "    }\n",
       "\n",
       "    .dataframe thead th {\n",
       "        text-align: right;\n",
       "    }\n",
       "</style>\n",
       "<table border=\"1\" class=\"dataframe\">\n",
       "  <thead>\n",
       "    <tr style=\"text-align: right;\">\n",
       "      <th></th>\n",
       "      <th>Q</th>\n",
       "      <th>Tw</th>\n",
       "      <th>Ta</th>\n",
       "      <th>theta</th>\n",
       "      <th>eta</th>\n",
       "      <th>theta_hat</th>\n",
       "      <th>theta_hat_2</th>\n",
       "      <th>Tr</th>\n",
       "      <th>Tr2</th>\n",
       "      <th>Tr3</th>\n",
       "      <th>Tr4</th>\n",
       "      <th>Tr_kor</th>\n",
       "      <th>eta_hat</th>\n",
       "      <th>eta_hat_2</th>\n",
       "      <th>eta_hat_3</th>\n",
       "    </tr>\n",
       "  </thead>\n",
       "  <tbody>\n",
       "    <tr>\n",
       "      <th>0</th>\n",
       "      <td>1.711929</td>\n",
       "      <td>53.005339</td>\n",
       "      <td>10.788147</td>\n",
       "      <td>0.321921</td>\n",
       "      <td>0.349083</td>\n",
       "      <td>0.316390</td>\n",
       "      <td>1.248875</td>\n",
       "      <td>42.217191</td>\n",
       "      <td>1782.291254</td>\n",
       "      <td>75243.331122</td>\n",
       "      <td>3.176562e+06</td>\n",
       "      <td>6.497476</td>\n",
       "      <td>2.864645</td>\n",
       "      <td>8.206192</td>\n",
       "      <td>0.121859</td>\n",
       "    </tr>\n",
       "    <tr>\n",
       "      <th>1</th>\n",
       "      <td>0.067135</td>\n",
       "      <td>20.761340</td>\n",
       "      <td>12.225502</td>\n",
       "      <td>2.705824</td>\n",
       "      <td>0.821069</td>\n",
       "      <td>0.422107</td>\n",
       "      <td>1.135028</td>\n",
       "      <td>8.535838</td>\n",
       "      <td>72.860533</td>\n",
       "      <td>621.925724</td>\n",
       "      <td>5.308657e+03</td>\n",
       "      <td>2.921616</td>\n",
       "      <td>1.217925</td>\n",
       "      <td>1.483341</td>\n",
       "      <td>0.674154</td>\n",
       "    </tr>\n",
       "    <tr>\n",
       "      <th>2</th>\n",
       "      <td>0.034759</td>\n",
       "      <td>39.546739</td>\n",
       "      <td>35.892183</td>\n",
       "      <td>1.873776</td>\n",
       "      <td>0.756082</td>\n",
       "      <td>0.954452</td>\n",
       "      <td>0.302980</td>\n",
       "      <td>3.654556</td>\n",
       "      <td>13.355782</td>\n",
       "      <td>48.809456</td>\n",
       "      <td>1.783769e+02</td>\n",
       "      <td>1.911689</td>\n",
       "      <td>1.322609</td>\n",
       "      <td>1.749294</td>\n",
       "      <td>0.571659</td>\n",
       "    </tr>\n",
       "    <tr>\n",
       "      <th>3</th>\n",
       "      <td>0.417783</td>\n",
       "      <td>33.972185</td>\n",
       "      <td>21.385801</td>\n",
       "      <td>2.089589</td>\n",
       "      <td>0.516134</td>\n",
       "      <td>0.868418</td>\n",
       "      <td>0.518793</td>\n",
       "      <td>12.586385</td>\n",
       "      <td>158.417075</td>\n",
       "      <td>1993.898215</td>\n",
       "      <td>2.509597e+04</td>\n",
       "      <td>3.547729</td>\n",
       "      <td>1.937483</td>\n",
       "      <td>3.753839</td>\n",
       "      <td>0.266394</td>\n",
       "    </tr>\n",
       "    <tr>\n",
       "      <th>4</th>\n",
       "      <td>1.667614</td>\n",
       "      <td>50.092173</td>\n",
       "      <td>15.254621</td>\n",
       "      <td>0.328350</td>\n",
       "      <td>0.083327</td>\n",
       "      <td>0.322482</td>\n",
       "      <td>1.242446</td>\n",
       "      <td>34.837551</td>\n",
       "      <td>1213.654987</td>\n",
       "      <td>42280.768004</td>\n",
       "      <td>1.472958e+06</td>\n",
       "      <td>5.902334</td>\n",
       "      <td>12.000908</td>\n",
       "      <td>144.021782</td>\n",
       "      <td>0.006943</td>\n",
       "    </tr>\n",
       "    <tr>\n",
       "      <th>...</th>\n",
       "      <td>...</td>\n",
       "      <td>...</td>\n",
       "      <td>...</td>\n",
       "      <td>...</td>\n",
       "      <td>...</td>\n",
       "      <td>...</td>\n",
       "      <td>...</td>\n",
       "      <td>...</td>\n",
       "      <td>...</td>\n",
       "      <td>...</td>\n",
       "      <td>...</td>\n",
       "      <td>...</td>\n",
       "      <td>...</td>\n",
       "      <td>...</td>\n",
       "      <td>...</td>\n",
       "    </tr>\n",
       "    <tr>\n",
       "      <th>495</th>\n",
       "      <td>1.327393</td>\n",
       "      <td>54.081114</td>\n",
       "      <td>30.039247</td>\n",
       "      <td>1.153132</td>\n",
       "      <td>0.708757</td>\n",
       "      <td>0.914039</td>\n",
       "      <td>0.417664</td>\n",
       "      <td>24.041866</td>\n",
       "      <td>578.011334</td>\n",
       "      <td>13896.471200</td>\n",
       "      <td>3.340971e+05</td>\n",
       "      <td>4.903251</td>\n",
       "      <td>1.410921</td>\n",
       "      <td>1.990698</td>\n",
       "      <td>0.502336</td>\n",
       "    </tr>\n",
       "    <tr>\n",
       "      <th>496</th>\n",
       "      <td>0.053967</td>\n",
       "      <td>42.933431</td>\n",
       "      <td>39.799381</td>\n",
       "      <td>1.572222</td>\n",
       "      <td>0.022975</td>\n",
       "      <td>0.999999</td>\n",
       "      <td>0.001425</td>\n",
       "      <td>3.134050</td>\n",
       "      <td>9.822271</td>\n",
       "      <td>30.783491</td>\n",
       "      <td>9.647701e+01</td>\n",
       "      <td>1.770325</td>\n",
       "      <td>43.525620</td>\n",
       "      <td>1894.479620</td>\n",
       "      <td>0.000528</td>\n",
       "    </tr>\n",
       "    <tr>\n",
       "      <th>497</th>\n",
       "      <td>0.707523</td>\n",
       "      <td>47.145488</td>\n",
       "      <td>30.707064</td>\n",
       "      <td>2.093919</td>\n",
       "      <td>0.684035</td>\n",
       "      <td>0.866263</td>\n",
       "      <td>0.523123</td>\n",
       "      <td>16.438423</td>\n",
       "      <td>270.221761</td>\n",
       "      <td>4442.019685</td>\n",
       "      <td>7.301980e+04</td>\n",
       "      <td>4.054433</td>\n",
       "      <td>1.461914</td>\n",
       "      <td>2.137193</td>\n",
       "      <td>0.467903</td>\n",
       "    </tr>\n",
       "    <tr>\n",
       "      <th>498</th>\n",
       "      <td>0.062350</td>\n",
       "      <td>39.405105</td>\n",
       "      <td>32.647363</td>\n",
       "      <td>0.311168</td>\n",
       "      <td>0.053085</td>\n",
       "      <td>0.306171</td>\n",
       "      <td>1.259628</td>\n",
       "      <td>6.757743</td>\n",
       "      <td>45.667086</td>\n",
       "      <td>308.606417</td>\n",
       "      <td>2.085483e+03</td>\n",
       "      <td>2.599566</td>\n",
       "      <td>18.837886</td>\n",
       "      <td>354.865964</td>\n",
       "      <td>0.002818</td>\n",
       "    </tr>\n",
       "    <tr>\n",
       "      <th>499</th>\n",
       "      <td>0.011049</td>\n",
       "      <td>47.549837</td>\n",
       "      <td>45.866743</td>\n",
       "      <td>2.258284</td>\n",
       "      <td>0.139831</td>\n",
       "      <td>0.772843</td>\n",
       "      <td>0.687488</td>\n",
       "      <td>1.683094</td>\n",
       "      <td>2.832805</td>\n",
       "      <td>4.767877</td>\n",
       "      <td>8.024784e+00</td>\n",
       "      <td>1.297341</td>\n",
       "      <td>7.151497</td>\n",
       "      <td>51.143914</td>\n",
       "      <td>0.019553</td>\n",
       "    </tr>\n",
       "  </tbody>\n",
       "</table>\n",
       "<p>500 rows × 15 columns</p>\n",
       "</div>"
      ],
      "text/plain": [
       "            Q         Tw         Ta     theta       eta  theta_hat  \\\n",
       "0    1.711929  53.005339  10.788147  0.321921  0.349083   0.316390   \n",
       "1    0.067135  20.761340  12.225502  2.705824  0.821069   0.422107   \n",
       "2    0.034759  39.546739  35.892183  1.873776  0.756082   0.954452   \n",
       "3    0.417783  33.972185  21.385801  2.089589  0.516134   0.868418   \n",
       "4    1.667614  50.092173  15.254621  0.328350  0.083327   0.322482   \n",
       "..        ...        ...        ...       ...       ...        ...   \n",
       "495  1.327393  54.081114  30.039247  1.153132  0.708757   0.914039   \n",
       "496  0.053967  42.933431  39.799381  1.572222  0.022975   0.999999   \n",
       "497  0.707523  47.145488  30.707064  2.093919  0.684035   0.866263   \n",
       "498  0.062350  39.405105  32.647363  0.311168  0.053085   0.306171   \n",
       "499  0.011049  47.549837  45.866743  2.258284  0.139831   0.772843   \n",
       "\n",
       "     theta_hat_2         Tr          Tr2           Tr3           Tr4  \\\n",
       "0       1.248875  42.217191  1782.291254  75243.331122  3.176562e+06   \n",
       "1       1.135028   8.535838    72.860533    621.925724  5.308657e+03   \n",
       "2       0.302980   3.654556    13.355782     48.809456  1.783769e+02   \n",
       "3       0.518793  12.586385   158.417075   1993.898215  2.509597e+04   \n",
       "4       1.242446  34.837551  1213.654987  42280.768004  1.472958e+06   \n",
       "..           ...        ...          ...           ...           ...   \n",
       "495     0.417664  24.041866   578.011334  13896.471200  3.340971e+05   \n",
       "496     0.001425   3.134050     9.822271     30.783491  9.647701e+01   \n",
       "497     0.523123  16.438423   270.221761   4442.019685  7.301980e+04   \n",
       "498     1.259628   6.757743    45.667086    308.606417  2.085483e+03   \n",
       "499     0.687488   1.683094     2.832805      4.767877  8.024784e+00   \n",
       "\n",
       "       Tr_kor    eta_hat    eta_hat_2  eta_hat_3  \n",
       "0    6.497476   2.864645     8.206192   0.121859  \n",
       "1    2.921616   1.217925     1.483341   0.674154  \n",
       "2    1.911689   1.322609     1.749294   0.571659  \n",
       "3    3.547729   1.937483     3.753839   0.266394  \n",
       "4    5.902334  12.000908   144.021782   0.006943  \n",
       "..        ...        ...          ...        ...  \n",
       "495  4.903251   1.410921     1.990698   0.502336  \n",
       "496  1.770325  43.525620  1894.479620   0.000528  \n",
       "497  4.054433   1.461914     2.137193   0.467903  \n",
       "498  2.599566  18.837886   354.865964   0.002818  \n",
       "499  1.297341   7.151497    51.143914   0.019553  \n",
       "\n",
       "[500 rows x 15 columns]"
      ]
     },
     "execution_count": 48,
     "metadata": {},
     "output_type": "execute_result"
    }
   ],
   "source": [
    "# konstruiranje novih spremenljivk\n",
    "\n",
    "podatki_osnovna['theta_hat'] = np.sin(podatki_osnovna['theta'])\n",
    "podatki_osnovna['theta_hat_2'] = np.abs(np.pi/2 - podatki_osnovna['theta'])\n",
    "podatki_osnovna['Tr'] = podatki_osnovna['Tw'] - podatki_osnovna['Ta']\n",
    "podatki_osnovna['Tr2'] = podatki_osnovna['Tr']**2\n",
    "podatki_osnovna['Tr3'] = podatki_osnovna['Tr']**3\n",
    "podatki_osnovna['Tr4'] = podatki_osnovna['Tr']**4\n",
    "podatki_osnovna['Tr_kor'] = np.sqrt(podatki_osnovna['Tr'])\n",
    "podatki_osnovna['eta_hat'] = 1/podatki_osnovna['eta']\n",
    "podatki_osnovna['eta_hat_2'] = 1/podatki_osnovna['eta']**2\n",
    "podatki_osnovna['eta_hat_3'] = podatki_osnovna['eta']**2\n",
    "podatki_osnovna"
   ]
  },
  {
   "attachments": {},
   "cell_type": "markdown",
   "metadata": {},
   "source": [
    "Za odkrivanje povezav med spremenljivko $Q$ in preostalimi spremenljivkami bomo najprej preizkusili regresijskia orodja za odkrivanje enačb, ki smo jih spoznali na vajah:\n",
    "\n",
    "- linearna regresija\n",
    "\n",
    "- ridge regresija\n",
    "\n",
    "- lasso regresija\n",
    "\n",
    "Najprej definirajmo funkcije za vsa 3 regresijska orodja. Meje moramo nastaviti na manjše kot na vajah, saj je problem delikatnejši."
   ]
  },
  {
   "cell_type": "code",
   "execution_count": 107,
   "metadata": {},
   "outputs": [],
   "source": [
    "# linearna regresija\n",
    "\n",
    "def linearna_regresija(X, y, meja=1e-4):\n",
    "    imena = X.columns\n",
    "    beta = np.linalg.pinv(X.T.dot(X)).dot(X.T).dot(y)\n",
    "\n",
    "    izraz = \"\"\n",
    "    for i,b in enumerate(beta):\n",
    "        if b > meja:\n",
    "            if len(izraz) > 0:\n",
    "                izraz += \" + \"\n",
    "            izraz +=  f\"{b:.4f}*{imena[i]}\"\n",
    "    return izraz"
   ]
  },
  {
   "cell_type": "code",
   "execution_count": 106,
   "metadata": {},
   "outputs": [],
   "source": [
    "# ridge regresija\n",
    "\n",
    "def ridge_regresija(X, y, lam=1, meja=1e-4):\n",
    "    imena = X.columns\n",
    "    beta = np.linalg.pinv(X.T.dot(X) + lam*np.identity(X.shape[1])).dot(X.T).dot(y)\n",
    "\n",
    "    izraz = \"\"\n",
    "    for i,b in enumerate(beta):\n",
    "        if b > meja:\n",
    "            if len(izraz) > 0:\n",
    "                izraz += \" + \"\n",
    "            izraz +=  f\"{b:.4f}*{imena[i]}\"\n",
    "    return izraz"
   ]
  },
  {
   "cell_type": "code",
   "execution_count": 39,
   "metadata": {},
   "outputs": [],
   "source": [
    "from scipy.optimize import minimize\n",
    "def lasso_regresija(X, y, lam=1, meja=1e-4):\n",
    "    imena = X.columns\n",
    "\n",
    "    def f(beta):\n",
    "        yhat = X.dot(beta)\n",
    "        return np.sum((yhat-y)**2) + lam*np.sum(np.abs(beta))\n",
    "    beta = minimize(f, np.random.random(X.shape[1]))[\"x\"]\n",
    "    \n",
    "    izraz = \"\"\n",
    "    for i,b in enumerate(beta):\n",
    "        if b > meja:\n",
    "            if len(izraz) > 0:\n",
    "                izraz += \" + \"\n",
    "            izraz +=  f\"{b:.4f}*{imena[i]}\"\n",
    "    return izraz"
   ]
  },
  {
   "attachments": {},
   "cell_type": "markdown",
   "metadata": {},
   "source": [
    "Po igranju z različnimi kombinacijami, so se osnovne tri metode najbolje odrezale, ko smo večino novo generiranih spremenljivk odstranili.\n",
    "\n",
    "Iz podatkov v tem delu odstranimo $T_w$, $T_a$, $\\theta$, $\\eta$, $\\widehat{\\theta_2}$,\t$T_r$, $T_r^3$, $T_r^4$, $\\sqrt{T_r}$.\n",
    "\n",
    "Prav tako vključimo samo kvadratične kombinacije polinomskih členov - če uporabimo višje kombinacije, ali vključimo katere izmed zgoraj naštetih odstranjenih spremenljivk, so koeficienti premajhni in izbrana orodja ne najdejo nobene enačbe."
   ]
  },
  {
   "cell_type": "code",
   "execution_count": 52,
   "metadata": {},
   "outputs": [],
   "source": [
    "podatki1 = podatki_osnovna.drop([\"Tw\", \"Ta\", \"theta\", \"eta\", \"theta_hat_2\", \"Tr\", \"Tr3\", \"Tr4\", \"Tr_kor\"], axis = 1)\n",
    "\n",
    "poly = PolynomialFeatures(2)\n",
    "X = poly.fit_transform(podatki1.drop(\"Q\", axis=1))\n",
    "\n",
    "imena_stolpcev = poly.get_feature_names_out()\n",
    "X_df = pd.DataFrame(X, columns=imena_stolpcev)"
   ]
  },
  {
   "cell_type": "code",
   "execution_count": 108,
   "metadata": {},
   "outputs": [
    {
     "name": "stdout",
     "output_type": "stream",
     "text": [
      "Enača, ki jo odkrije linearna regresija, pri meji 0.001: 0.0032*theta_hat Tr2\n",
      "Enača, ki jo odkrije linearna regresija, pri meji 0.0001: 0.0002*Tr2 + 0.0032*theta_hat Tr2\n",
      "Enača, ki jo odkrije linearna regresija, pri meji 0.00001: 0.0002*Tr2 + 0.0032*theta_hat Tr2 + 0.0000*theta_hat eta_hat + 0.0000*theta_hat eta_hat_2 + 0.0001*Tr2 eta_hat\n"
     ]
    }
   ],
   "source": [
    "print(f\"Enača, ki jo odkrije linearna regresija, pri meji 0.001: {linearna_regresija(X_df, podatki1['Q'], meja=1e-3)}\")\n",
    "print(f\"Enača, ki jo odkrije linearna regresija, pri meji 0.0001: {linearna_regresija(X_df, podatki1['Q'], meja=1e-4)}\")\n",
    "print(f\"Enača, ki jo odkrije linearna regresija, pri meji 0.00001: {linearna_regresija(X_df, podatki1['Q'], meja=1e-5)}\")"
   ]
  },
  {
   "cell_type": "code",
   "execution_count": 97,
   "metadata": {},
   "outputs": [
    {
     "name": "stdout",
     "output_type": "stream",
     "text": [
      "Enača, ki jo odkrije ridge regresija, pri meji 0.001: 0.0032*theta_hat Tr2\n",
      "Enača, ki jo odkrije ridge regresija, pri meji 0.0001: 0.0002*Tr2 + 0.0032*theta_hat Tr2\n",
      "Enača, ki jo odkrije ridge regresija, pri meji 0.00001: 0.0002*Tr2 + 0.0032*theta_hat Tr2 + 0.0000*theta_hat eta_hat + 0.0000*theta_hat eta_hat_2 + 0.0001*Tr2 eta_hat\n"
     ]
    }
   ],
   "source": [
    "print(f\"Enača, ki jo odkrije ridge regresija, pri meji 0.001: {ridge_regresija(X_df, podatki1['Q'], lam=0.5,meja=1e-3)}\")\n",
    "print(f\"Enača, ki jo odkrije ridge regresija, pri meji 0.0001: {ridge_regresija(X_df, podatki1['Q'], lam=0.5,meja=1e-4)}\")\n",
    "print(f\"Enača, ki jo odkrije ridge regresija, pri meji 0.00001: {ridge_regresija(X_df, podatki1['Q'], lam=0.5,meja=1e-5)}\")"
   ]
  },
  {
   "cell_type": "code",
   "execution_count": 98,
   "metadata": {},
   "outputs": [
    {
     "name": "stdout",
     "output_type": "stream",
     "text": [
      "Enača, ki jo odkrije lasso regresija, pri meji vrednosti lambda = 1000: \n",
      " 0.3549*1 + 0.6535*theta_hat + 1.9292*Tr2 + 1.9953*eta_hat + 0.1081*eta_hat_3 + 0.1913*theta_hat^2 + 0.0958*theta_hat eta_hat_2 + 0.6264*theta_hat eta_hat_3 + 2.8426*Tr2 eta_hat + 0.7448*Tr2 eta_hat_3 + 0.3772*eta_hat eta_hat_3 + 0.0863*eta_hat_2 eta_hat_3 + 0.5499*eta_hat_3^2\n"
     ]
    }
   ],
   "source": [
    "print(f\"Enača, ki jo odkrije lasso regresija, pri meji vrednosti lambda = 1000: \\n {lasso_regresija(X_df, podatki1['Q'], lam=1000)}\")"
   ]
  },
  {
   "attachments": {},
   "cell_type": "markdown",
   "metadata": {},
   "source": [
    "Linearna in ridge regresija pri vsaki izmed mej odkrijeta enake enačbe, ki se zdijo precej enostavne in tudi smiselne. Skrb vzbuja le to, da je spremenljivka $\\eta$ ali kakšna izmed spremenljivk skonstruiranih iz nje vključena le v zadnji enačbi in še tam so vrednosti koeficientov precej nizke. Po drugi strani Lasso regresija vrne precej dolgo in kompleksno enačbo, ki zagotovo ni pravilna.\n",
    "\n",
    "V nadaljevanju za vsako izmed odkritih enačb poračunamo povprečno kvadratično napako, saj bo dober pokazatelj kako pravilna je enačba. Želimo si seveda, da bi bile vrednosti napake čim manjše. "
   ]
  },
  {
   "cell_type": "code",
   "execution_count": 77,
   "metadata": {},
   "outputs": [
    {
     "name": "stdout",
     "output_type": "stream",
     "text": [
      "Povprečna vrednost spremenljivke Q:0.683\n"
     ]
    }
   ],
   "source": [
    "print(f\"Povprečna vrednost spremenljivke Q:{np.round(np.mean(podatki_osnovna['Q']),4)}\")"
   ]
  },
  {
   "attachments": {},
   "cell_type": "markdown",
   "metadata": {},
   "source": [
    "Opazimo lahko, da je povprečna vrednost spremenljivke Q 0.6830. Če želimo da je napaka približno 1 %, potem mora biti vrednosti povprečne kvadratične napake okoli 0.01. Poračunajmo vrednosti povprečne kvadratične napake za prve tri odkrite enačbe. Pri enačbah, kjer je vrednost koeficienta 0, teh členov nismo vključili, saj se je izkazalo, da ne pripomorejo k boljši natančnosti."
   ]
  },
  {
   "cell_type": "code",
   "execution_count": 109,
   "metadata": {},
   "outputs": [
    {
     "name": "stdout",
     "output_type": "stream",
     "text": [
      "Vrednost povprečne kvadratične napake za 1. enačbo je: 0.12573554309101834\n",
      "Vrednost povprečne kvadratične napake za 2. enačbo je: 0.13360323693526674\n",
      "Vrednost povprečne kvadratične napake za 3. enačbo je: 1.3348671054876422\n"
     ]
    }
   ],
   "source": [
    "from sklearn.metrics import mean_squared_error\n",
    "\n",
    "Q_hat1 = 0.0032 * podatki_osnovna['Tr2'] * podatki_osnovna['theta_hat']\n",
    "MSE_1 = mean_squared_error(podatki_osnovna['Q'], Q_hat1)\n",
    "print(f\"Vrednost povprečne kvadratične napake za 1. enačbo je: {MSE_1}\")\n",
    "\n",
    "Q_hat2 = 0.0002 * podatki_osnovna['Tr2'] + 0.0032 * podatki_osnovna['Tr2'] * podatki_osnovna['theta_hat']\n",
    "MSE_2 = mean_squared_error(podatki_osnovna['Q'], Q_hat2)\n",
    "print(f\"Vrednost povprečne kvadratične napake za 2. enačbo je: {MSE_2}\")\n",
    "\n",
    "Q_hat3 = 0.0002 * podatki_osnovna['Tr2'] + 0.0032 * podatki_osnovna['Tr2'] * podatki_osnovna['theta_hat'] + 0.0001*podatki_osnovna['Tr2'] * podatki_osnovna['eta_hat']\n",
    "MSE_3 = mean_squared_error(podatki_osnovna['Q'], Q_hat3)\n",
    "print(f\"Vrednost povprečne kvadratične napake za 3. enačbo je: {MSE_3}\")"
   ]
  },
  {
   "attachments": {},
   "cell_type": "markdown",
   "metadata": {},
   "source": [
    "Opazimo lahko, da sta enačbi, v katerih spremenljivka $\\eta$ ni vključena precej boljši, kot zadnja enačba z vključeno $\\eta$. Hkrati lahko vidimo, da je napaka precej višja od tega kar bi si želeli, kar pomeni, da formula skoraj zagotovo ni pravilna. Verjetno manjka vključitev spremenljivke $\\eta$, na še kakšen drug, alternativen način. Morda je težava tudi v tem, da regresije iz vaj niso najprimernejše za odkrivanje enačb v tem problemu, zato se lotimo odkrivanja enačb z drugimi metodami - najprej s knjižnjico ProGED."
   ]
  },
  {
   "attachments": {},
   "cell_type": "markdown",
   "metadata": {},
   "source": [
    "V prvem poskusu vključimo v iskanje vse generirane spremenljivke."
   ]
  },
  {
   "cell_type": "code",
   "execution_count": null,
   "metadata": {},
   "outputs": [],
   "source": [
    "import ProGED as pg\n",
    "\n",
    "#theta_hat = sin(theta)\n",
    "# Tr2 = Tr^2\n",
    "# eta_hat = 1/eta\n",
    "# eta_hat_2 = eta^2\n",
    "\n",
    "np.random.seed(1)\n",
    "ED1 = pg.EqDisco(data=podatki_osnovna, \n",
    "                lhs_vars=[\"Q\"],\n",
    "                rhs_vars=[\"theta\", \"eta\", \"theta_hat\", \"theta_hat_2\", \"Tr\", \"Tr2\", \"Tr3\", \"Tr4\", \"Tr_kor\", \"eta_hat\", \"eta_hat_2\"],\n",
    "                sample_size=100)\n",
    "\n",
    "ED1.generate_models()\n",
    "ED1.fit_models()"
   ]
  },
  {
   "cell_type": "code",
   "execution_count": 117,
   "metadata": {},
   "outputs": [
    {
     "data": {
      "text/plain": [
       "ModelBox: 1 models\n",
       "-> [0.00208863155779034*Tr2], p = 2.8954996363636375e-07, error = 0.6556113356661486, time = 0.044225215911865234"
      ]
     },
     "execution_count": 117,
     "metadata": {},
     "output_type": "execute_result"
    }
   ],
   "source": [
    "ED1.get_results()"
   ]
  },
  {
   "attachments": {},
   "cell_type": "markdown",
   "metadata": {},
   "source": [
    "Model je očitno preveč enostaven, napaka pa precej višja kot pri iskanju z regresijo, zato postopamo drugače - vključimo samo spremenljivki $\\widehat{\\theta}$ in $T_r^2$, za prva dva parametra in vse generirane za parameter $\\eta$. Povišamo tudi parameter *sample_size* na 1000. Izpišemo tudi 3 najboljše modele."
   ]
  },
  {
   "cell_type": "code",
   "execution_count": null,
   "metadata": {},
   "outputs": [],
   "source": [
    "#theta_hat = sin(theta)\n",
    "# Tr2 = Tr^2\n",
    "# eta_hat = 1/eta\n",
    "# eta_hat_2 = eta^2\n",
    "# eta_hat_3 = 1/eta^2\n",
    "\n",
    "np.random.seed(1)\n",
    "ED2 = pg.EqDisco(data=podatki_osnovna, \n",
    "                lhs_vars=[\"Q\"],\n",
    "                rhs_vars=[\"theta_hat\", \"Tr2\", \"eta_hat\", \"eta_hat_2\", \"eta_hat_3\"],\n",
    "                sample_size=1000)\n",
    "\n",
    "ED2.generate_models()\n",
    "ED2.fit_models()"
   ]
  },
  {
   "cell_type": "code",
   "execution_count": 118,
   "metadata": {},
   "outputs": [
    {
     "data": {
      "text/plain": [
       "ModelBox: 3 models\n",
       "-> [0.00326687336664677*Tr2*theta_hat], p = 3.981312000000002e-05, error = 0.35370963516084986, time = 0.15263843536376953\n",
       "-> [0.00243047712091106*Tr2 - 0.00199522747619697*Tr2*eta_hat_3/eta_hat_2 + 0.00763887519493214*eta_hat_2*theta_hat**2/eta_hat], p = 6.9599471248387316e-40, error = 0.5901130169687094, time = 0.3701198101043701\n",
       "-> [Tr2*theta_hat + 0.996601881774514*Tr2*(-theta_hat - 0.000500370453485273) + eta_hat_3], p = 3.8955037265127066e-16, error = 0.6239611175476883, time = 0.21396827697753906"
      ]
     },
     "execution_count": 118,
     "metadata": {},
     "output_type": "execute_result"
    }
   ],
   "source": [
    "ED2.get_results(3)"
   ]
  },
  {
   "cell_type": "code",
   "execution_count": 120,
   "metadata": {},
   "outputs": [
    {
     "name": "stdout",
     "output_type": "stream",
     "text": [
      "Vrednost povprečne kvadratične napake za 4. enačbo je: 0.1251105060056215\n"
     ]
    }
   ],
   "source": [
    "Q_hat4 = 0.0032668733666467 * podatki_osnovna['Tr2'] * podatki_osnovna['theta_hat']\n",
    "MSE_4 = mean_squared_error(podatki_osnovna['Q'], Q_hat4)\n",
    "print(f\"Vrednost povprečne kvadratične napake za 4. enačbo je: {MSE_4}\")"
   ]
  },
  {
   "attachments": {},
   "cell_type": "markdown",
   "metadata": {},
   "source": [
    "Po popravkih, je algoritem iz knjižnjice *ProGED* kot model z najnižjo napako odkril enak model kot linearna in ridge regresija prej, le da je koeficient nekoliko drugačen. Napake naslednjih najboljših predlaganih modelov so skoraj dvakrat višje, kot ta. Morda bi torej veljalo razmisliti o tem, da je to res lahko zelo dober približek pravilne enačbe. Preizkusil sem še več različnih vnosov za desno stran enačbe, vendar se z nobenim nisem mogel niti približati napaki, ki jo da zgornji model.\n",
    "\n",
    "Kot zadnji poskus uporabimo še eno knjižnico predlagano na vajah *pysr*."
   ]
  },
  {
   "cell_type": "code",
   "execution_count": 121,
   "metadata": {},
   "outputs": [
    {
     "name": "stderr",
     "output_type": "stream",
     "text": [
      "c:\\Users\\Uporabnik\\AppData\\Local\\Programs\\Python\\Python311\\Lib\\site-packages\\pysr\\sr.py:1296: UserWarning: Note: it looks like you are running in Jupyter. The progress bar will be turned off.\n",
      "  warnings.warn(\n",
      "c:\\Users\\Uporabnik\\AppData\\Local\\Programs\\Python\\Python311\\Lib\\site-packages\\pysr\\sr.py:1814: UserWarning: Note: you are running with 10 features or more. Genetic algorithms like used in PySR scale poorly with large numbers of features. You should run PySR for more `niterations` to ensure it can find the correct variables, or, alternatively, do a dimensionality reduction beforehand. For example, `X = PCA(n_components=6).fit_transform(X)`, using scikit-learn's `PCA` class, will reduce the number of features to 6 in an interpretable way, as each resultant feature will be a linear combination of the original features. \n",
      "  warnings.warn(\n",
      "c:\\Users\\Uporabnik\\AppData\\Local\\Programs\\Python\\Python311\\Lib\\site-packages\\julia\\juliainfo.py:93: UserWarning: julia warned:\n",
      "The latest version of Julia in the `release` channel is 1.9.1+0.x64.w64.mingw32. You currently have `1.9.0+0.x64.w64.mingw32` installed. Run:\n",
      "\n",
      "  juliaup update\n",
      "\n",
      "to install Julia 1.9.1+0.x64.w64.mingw32 and update the `release` channel to that version.\n",
      "  warnings.warn(\"{} warned:\\n{}\".format(julia, stderr))\n"
     ]
    },
    {
     "name": "stdout",
     "output_type": "stream",
     "text": [
      "PySRRegressor.equations_ = [\n",
      "\t    pick         score                                           equation  \\\n",
      "\t0         0.000000e+00                                          theta_hat   \n",
      "\t1         4.348354e-01                               (0.0020884955 * Tr2)   \n",
      "\t2         9.306089e-08                          (sin(0.0020884955) * Tr2)   \n",
      "\t3         1.234184e+00                 (0.0032669827 * (Tr2 * theta_hat))   \n",
      "\t4         1.359078e-02    (((0.003519328 * Tr2) - eta_hat_3) * theta_hat)   \n",
      "\t5         1.105713e+00    (0.0038847136 * ((Tr2 * cos(eta)) * theta_hat))   \n",
      "\t6   >>>>  1.094360e+00  (0.0026820262 * ((Tr2 / (0.5930055 + eta_hat_3...   \n",
      "\t7         6.946522e-02  (((0.0020650676 * Tr2) / sqrt(eta_hat_3 - -0.1...   \n",
      "\t8         9.368985e-04  (((0.0020843227 * Tr2) / sqrt(eta_hat_3 - -0.1...   \n",
      "\t9         2.646622e-03  (((0.0020651445 * (Tr2 + cos(Tr2))) / sqrt(eta...   \n",
      "\t10        3.803729e-02  (((0.0020655172 * (Tr2 + (cos(Tr2) * Tr))) / s...   \n",
      "\t11        8.613127e-08  (((sin(0.0020655172) * (Tr2 + (cos(Tr2) * Tr))...   \n",
      "\t12        4.955213e-02  (((0.0020594378 * Tr2) / square(sqrt(sqrt(eta_...   \n",
      "\t13        4.812112e-03  (((0.002065001 * (Tr2 + (cos((Tr2 + eta) + eta...   \n",
      "\t14        4.302921e-03  (((0.002065001 * (Tr2 + (cos(Tr2 + sin(eta ^ -...   \n",
      "\t\n",
      "\t        loss  complexity  \n",
      "\t0   1.025619           1  \n",
      "\t1   0.429826           3  \n",
      "\t2   0.429826           4  \n",
      "\t3   0.125110           5  \n",
      "\t4   0.121756           7  \n",
      "\t5   0.040298           8  \n",
      "\t6   0.013490           9  \n",
      "\t7   0.012585          10  \n",
      "\t8   0.012561          12  \n",
      "\t9   0.012528          13  \n",
      "\t10  0.011610          15  \n",
      "\t11  0.011610          16  \n",
      "\t12  0.011049          17  \n",
      "\t13  0.010943          19  \n",
      "\t14  0.010896          20  \n",
      "]\n"
     ]
    }
   ],
   "source": [
    "from pysr import PySRRegressor\n",
    "\n",
    "model = PySRRegressor(\n",
    "    niterations= 1000,\n",
    "    binary_operators=['+','*','-','^','/'],\n",
    "    unary_operators=['cos', 'sin', 'sqrt', 'square'],\n",
    "    loss='loss(prediction, target) = (prediction - target)^2'\n",
    ")\n",
    "\n",
    "X = podatki_osnovna.drop(\"Q\", axis=1)\n",
    "y = podatki_osnovna[\"Q\"]\n",
    "\n",
    "model.fit(X,y)\n",
    "model.latex()\n",
    "print(model)"
   ]
  },
  {
   "cell_type": "code",
   "execution_count": 122,
   "metadata": {},
   "outputs": [
    {
     "name": "stdout",
     "output_type": "stream",
     "text": [
      "Vrednost korena povprečne kvadratične napake za 5. enačbo je: 0.01348992911238157\n"
     ]
    }
   ],
   "source": [
    "Q_hat5 = 0.0026820262 * ((podatki_osnovna['Tr2'] / (0.5930055 + podatki_osnovna['eta_hat_3'])) * podatki_osnovna['theta_hat'])\n",
    "MSE_5 = mean_squared_error(podatki_osnovna['Q'], Q_hat5)\n",
    "print(f\"Vrednost korena povprečne kvadratične napake za 5. enačbo je: {MSE_5}\")"
   ]
  },
  {
   "attachments": {},
   "cell_type": "markdown",
   "metadata": {},
   "source": [
    "Zgornja funkcija očitno deluje precej drugače, saj je uspela odkriti popolnoma novo enačbo, ki pa je hkrati tudi precej boljša kot vse, ki smo jih odkrili prej - in to precej. Poleg tega je tudi rang napake primerljiv s tem, kar smo si želeli na začetku. Formula vključuje tudi vse 3 parametre, kar je tudi precj ugodneje glede na prejšnje odkrite enačbe. Glavni problem prejšnjih metod je bil očitno v tem, da so parameter $\\eta$ lahko vključevale samo neposredno bodisi v števec bodisi v imenovalec. Funkcija iz knjižnjice *pysr* pa je odkrila obliko, kjer je $\\eta$ vključena v imenovalcu in ji je dodana še konstanta A torej kot $A + \\eta^2$, kar lahko popolnoma spremeni vreednosti, ki jih izračunamo z enačbo.\n",
    "\n",
    "Enačba: $$Q = 0.0026820262 * \\frac{(T_w - T_a)^2}{0.5930055 + \\eta^2} * \\sin(\\theta)$$"
   ]
  },
  {
   "attachments": {},
   "cell_type": "markdown",
   "metadata": {},
   "source": [
    "Kot najbolj pravilna se mi zdi zadnja poiskana enačba, saj vključuje vse komponentne, ki smo si jih želeli in na način, da ustrezajo vsem točkam domenskega predznanja. Hkrati je tudi povprečna kvadratična napaka po tej enačbi daleč najnižja. Enačba sicer verjetno še ni popolnoma pravilna, povsem možno je da obstaja še kakšna optimizacija, morda s kakšnim drugačnim dodanim parametrom. Vsekakor pa se mi zdi, da poda enačba dovolj dober približek, da ji lahko za generiranje podatkov zaupamo."
   ]
  }
 ],
 "metadata": {
  "kernelspec": {
   "display_name": "napredno_strojno_ucenje",
   "language": "python",
   "name": "python3"
  },
  "language_info": {
   "codemirror_mode": {
    "name": "ipython",
    "version": 3
   },
   "file_extension": ".py",
   "mimetype": "text/x-python",
   "name": "python",
   "nbconvert_exporter": "python",
   "pygments_lexer": "ipython3",
   "version": "3.11.2"
  },
  "orig_nbformat": 4
 },
 "nbformat": 4,
 "nbformat_minor": 2
}
