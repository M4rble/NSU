{
 "cells": [
  {
   "attachments": {},
   "cell_type": "markdown",
   "metadata": {},
   "source": [
    "## 4. DOMAČA NALOGA"
   ]
  },
  {
   "attachments": {},
   "cell_type": "markdown",
   "metadata": {},
   "source": [
    "Odkrivanje enačb in uporaba predznanja\n",
    "V tej nalogi je cilj najti (izmišljeno) enačbo ki opisuje prenos toplote v hladilnem stolpu. Podatki so\n",
    "v datoteki DN4 1 podatki.csv. Hladilni stolp je naprava, ki se uporablja za vrnitev toplotnih\n",
    "izgub v ozračje s hlajenjem vodnega pretoka na nižjo temperaturo. Za reševanje tega problema\n",
    "lahko uporabiš poljubni algoritem za odkrivanje enačb. Predznanja ni nujno uporabljati, se pa\n",
    "toplo priporoča, saj bo to močno zmanjšalo računsko zahtevnost naloge. Zanima nas povezava\n",
    "med toplotnim tokom ter štirimi neodvisnimi spremenljivkami:\n",
    "\n",
    "• spremenljivka na levi strani enačbe je Q, toplotni tok v vatih (W),\n",
    "\n",
    "• Tw je temperatura vode v stopinjah Celzija,\n",
    "\n",
    "• Ta je temperatura zraka v stopinjah Celzija,\n",
    "\n",
    "• θ je kot med smerjo vetra in osjo stolpa v radianih, od 0 do π (0 pomeni, da sta veter in os\n",
    "vzporedna),\n",
    "\n",
    "• η je empirični izolacijski indeks, brez dimenzij.\n",
    "\n",
    "Domensko predznanje\n",
    "\n",
    "• Kot med smerjo vetra in osjo stolpa vpliva na toplotni tok, pri čemer se največ prenosa\n",
    "toplote doseže, ko veter piha pravokotno na os stolpa.\n",
    "\n",
    "• Razlika med temperaturo vode in zraka vpliva na toplotni tok, pri čemer višje razlike v\n",
    "temperaturi prinašajo višji toplotni tok. To razmerje verjetno ni linearno.\n",
    "\n",
    "• Toplotni tok verjetno ni odvisen od absolutnih vrednosti temperature vode ali zraka, ampak\n",
    "samo od njune razlike.\n",
    "\n",
    "• Empirični izolacijski indeks izhaja iz izmerjenih lastnosti tovarniškega procesa izdelave in\n",
    "povzema termične lastnosti materiala vodnega stolpa. Nihče ga zares ne razume, vendar pa\n",
    "vsak ve, da toplotni tok monotono pada z višanjem izolacijskega indeksa.\n",
    "\n",
    "Poročilo naj vsebuje:\n",
    "1. katero orodje si izbrala in zakaj,\n",
    "2. natančen opis postopka reševanja, vključno z vsemi uporabljenimi nastavitvami orodja,\n",
    "3. katero predznanje si uporabila in kako,\n",
    "4. končno enačbo,\n",
    "5. utemeljitev izbire enačbe ter komentar, koliko najdeni enačbi zaupaš in zakaj."
   ]
  },
  {
   "cell_type": "code",
   "execution_count": 139,
   "metadata": {},
   "outputs": [],
   "source": [
    "import numpy as np\n",
    "import pandas as pd\n",
    "import matplotlib.pyplot as plt\n"
   ]
  },
  {
   "cell_type": "code",
   "execution_count": 140,
   "metadata": {},
   "outputs": [
    {
     "name": "stdout",
     "output_type": "stream",
     "text": [
      "            Q         Tw         Ta     theta       eta\n",
      "0    1.711929  53.005339  10.788147  0.321921  0.349083\n",
      "1    0.067135  20.761340  12.225502  2.705824  0.821069\n",
      "2    0.034759  39.546739  35.892183  1.873776  0.756082\n",
      "3    0.417783  33.972185  21.385801  2.089589  0.516134\n",
      "4    1.667614  50.092173  15.254621  0.328350  0.083327\n",
      "..        ...        ...        ...       ...       ...\n",
      "495  1.327393  54.081114  30.039247  1.153132  0.708757\n",
      "496  0.053967  42.933431  39.799381  1.572222  0.022975\n",
      "497  0.707523  47.145488  30.707064  2.093919  0.684035\n",
      "498  0.062350  39.405105  32.647363  0.311168  0.053085\n",
      "499  0.011049  47.549837  45.866743  2.258284  0.139831\n",
      "\n",
      "[500 rows x 5 columns]\n"
     ]
    }
   ],
   "source": [
    "podatki = pd.read_csv(\"DN4_1_podatki.csv\")\n",
    "print(podatki)"
   ]
  },
  {
   "attachments": {},
   "cell_type": "markdown",
   "metadata": {},
   "source": [
    "Poglejmo funkcije, ki smo jih uporabili pri vajah. S tem najprej ugotovimo kater od algoritmov bo za dane podatke najboljši."
   ]
  },
  {
   "cell_type": "code",
   "execution_count": 141,
   "metadata": {},
   "outputs": [],
   "source": [
    "def linearna_regresija(X, y, meja=1e-4):\n",
    "    imena = X.columns\n",
    "    beta = np.linalg.pinv(X.T.dot(X)).dot(X.T).dot(y)\n",
    "\n",
    "    izraz = \"\"\n",
    "    for i,b in enumerate(beta):\n",
    "        if b > meja:\n",
    "            if len(izraz) > 0:\n",
    "                izraz += \" + \"\n",
    "            izraz +=  f\"{b:.3f}*{imena[i]}\"\n",
    "    return izraz\n",
    "\n",
    "\n",
    "def ridge_regresija(X, y, lam=1, meja=1e-4):\n",
    "    imena = X.columns\n",
    "    beta = np.linalg.pinv(X.T.dot(X) + lam*np.identity(X.shape[1])).dot(X.T).dot(y)\n",
    "\n",
    "    izraz = \"\"\n",
    "    for i,b in enumerate(beta):\n",
    "        if b > meja:\n",
    "            if len(izraz) > 0:\n",
    "                izraz += \" + \"\n",
    "            izraz +=  f\"{b:.3f}*{imena[i]}\"\n",
    "    return izraz\n",
    "\n",
    "\n",
    "from scipy.optimize import minimize\n",
    "def lasso_regresija(X, y, lam=1, meja=1e-4):\n",
    "    imena = X.columns\n",
    "\n",
    "    def f(beta):\n",
    "        yhat = X.dot(beta)\n",
    "        return np.sum((yhat-y)**2) + lam*np.sum(np.abs(beta))\n",
    "    beta = minimize(f, np.random.random(X.shape[1]))[\"x\"]\n",
    "    \n",
    "    izraz = \"\"\n",
    "    for i,b in enumerate(beta):\n",
    "        if b > meja:\n",
    "            if len(izraz) > 0:\n",
    "                izraz += \" + \"\n",
    "            izraz +=  f\"{b:.3f}*{imena[i]}\"\n",
    "    return izraz"
   ]
  },
  {
   "attachments": {},
   "cell_type": "markdown",
   "metadata": {},
   "source": [
    "Preizkusimo zgornje algoritme na naših podatkih."
   ]
  },
  {
   "attachments": {},
   "cell_type": "markdown",
   "metadata": {},
   "source": [
    "Še prej si oglejmo domensko predznanje."
   ]
  },
  {
   "attachments": {},
   "cell_type": "markdown",
   "metadata": {},
   "source": [
    "Domensko predznanje\n",
    "\n",
    "• **Kot med smerjo vetra in osjo stolpa vpliva na toplotni tok, pri čemer se največ prenosa\n",
    "toplote doseže, ko veter piha pravokotno na os stolpa.**\n",
    "\n",
    "-- ko je $\\theta$ enaka $\\frac{\\pi}{2}$ bo Q največji pri vseh ostalih konstanih spremenljivkah\n",
    "\n",
    "-- hkrati pa bljižje kot bo $\\theta$  $\\frac{\\pi}{2}$ večji bo Q \n",
    "\n",
    "• **Razlika med temperaturo vode in zraka vpliva na toplotni tok, pri čemer višje razlike v\n",
    "temperaturi prinašajo višji toplotni tok. To razmerje verjetno ni linearno.**\n",
    "\n",
    "-- (Tw - Ta) vecja kot je razika, večji je Q. Ne linearno.\n",
    "\n",
    "Tw - temperatura vode\n",
    "\n",
    "Ta - temperatura zraka \n",
    "\n",
    "• **Toplotni tok verjetno ni odvisen od absolutnih vrednosti temperature vode ali zraka, ampak\n",
    "samo od njune razlike.**\n",
    "\n",
    "\n",
    "• **Empirični izolacijski indeks izhaja iz izmerjenih lastnosti tovarniškega procesa izdelave in\n",
    "povzema termične lastnosti materiala vodnega stolpa. Nihče ga zares ne razume, vendar pa\n",
    "vsak ve, da toplotni tok monotono pada z višanjem izolacijskega indeksa.**\n",
    "\n",
    "-- višji $\\eta$ povzroči nižji toplotni tok"
   ]
  },
  {
   "attachments": {},
   "cell_type": "markdown",
   "metadata": {},
   "source": [
    "Glede na zgornje predpostavke oblikujemo naše podatke na tak način, da bo naša formula upoštevala razmerja med posameznimi spremenljivkami.\n",
    "\n",
    "(1) Podatkom bomo dodali stolpec, ki bo transformacija stolpca s podatki $\\theta$. Stolpec bo vseboval absolutno razliko med $\\theta$ in vrednostjo $\\frac{\\pi}{2}$ = 1,571\n",
    "\n",
    "(2) Velikost vpliva $\\theta$ bi lahko upoštevali tudi tako, da podatkom dodamo stolpec $\\sin(\\theta)$, bližje kot bomo  $\\frac{\\pi}{2}$ višja bo vrednost sinusa pri tem kotu.\n",
    "\n",
    "(3) Podatkom bomo dodali stolpec, ki bo transformacija stolpca s podatki o temperaturi vode in zraka. Stolpec bo vseboval njuni razliki - pri tem bomo upoštevali, da ta razlika ni nujno linearna. --> polinomski čeni (tako kot na vajah)\n",
    "\n",
    "(4) Podatkom dodamo še zadnji stlpec, ki bo transofrmacija podatka o empiričnem indeksu, vemo namreč, da z večanjem indeksa zmanjšujemo toplotni tok. Za pravilno upoštevanje indeksa bomo zato ustvari stolpec, ki bo vseboval $\\frac{1}{\\eta^2}$ --> večji kot bo $\\eta$ manjša bo vrednost podatka"
   ]
  },
  {
   "cell_type": "code",
   "execution_count": 142,
   "metadata": {},
   "outputs": [],
   "source": [
    "# DODAMO STOLPCE Z USTREZNIMI TRANSFORMACIJAMI\n",
    "from sklearn.preprocessing import PolynomialFeatures\n",
    "import pandas as pd\n",
    "\n",
    "podatki['razlika_med_theta_in_pi2'] = (np.pi/2 - podatki['theta']).abs()\n",
    "podatki['sinus_theta'] = np.sin(podatki['theta'])\n",
    "\n",
    "podatki['Tw_minus_Ta'] = (podatki['Tw'] - podatki['Ta'])\n",
    "\n",
    "podatki['eta_2'] = 1/podatki['eta']**2\n",
    "\n",
    "#print(podatki)"
   ]
  },
  {
   "attachments": {},
   "cell_type": "markdown",
   "metadata": {},
   "source": [
    "Uporabimo zgornje transformacije podatkov na naših algoritmih "
   ]
  },
  {
   "attachments": {},
   "cell_type": "markdown",
   "metadata": {},
   "source": [
    "# 1. LINEARNA REGRESIJA"
   ]
  },
  {
   "cell_type": "code",
   "execution_count": 143,
   "metadata": {},
   "outputs": [],
   "source": [
    "from sklearn.preprocessing import PolynomialFeatures\n",
    "\n",
    "poly = PolynomialFeatures(2)\n",
    "X = poly.fit_transform(podatki.iloc[:, -3:])\n",
    "\n",
    "#print(podatki.iloc[:, -3:])\n",
    "\n",
    "imena_stolpcev = poly.get_feature_names_out()\n",
    "X_df = pd.DataFrame(X, columns=imena_stolpcev)"
   ]
  },
  {
   "cell_type": "code",
   "execution_count": 144,
   "metadata": {},
   "outputs": [
    {
     "data": {
      "text/plain": [
       "'0.002*Tw_minus_Ta^2'"
      ]
     },
     "execution_count": 144,
     "metadata": {},
     "output_type": "execute_result"
    }
   ],
   "source": [
    "linearna_regresija(X_df, podatki[\"Q\"])"
   ]
  },
  {
   "attachments": {},
   "cell_type": "markdown",
   "metadata": {},
   "source": [
    "# 2. RIDGE REGRESIJA"
   ]
  },
  {
   "cell_type": "code",
   "execution_count": 145,
   "metadata": {},
   "outputs": [
    {
     "data": {
      "text/plain": [
       "'0.002*Tw_minus_Ta^2'"
      ]
     },
     "execution_count": 145,
     "metadata": {},
     "output_type": "execute_result"
    }
   ],
   "source": [
    "\n",
    "ridge_regresija(X_df, podatki[\"Q\"], lam=0.5)"
   ]
  },
  {
   "attachments": {},
   "cell_type": "markdown",
   "metadata": {},
   "source": [
    "# 3. LASSO REGRESIJA"
   ]
  },
  {
   "cell_type": "code",
   "execution_count": 146,
   "metadata": {},
   "outputs": [
    {
     "data": {
      "text/plain": [
       "'0.381*sinus_theta + 0.142*eta_2 + 0.013*sinus_theta eta_2 + 0.095*Tw_minus_Ta^2'"
      ]
     },
     "execution_count": 146,
     "metadata": {},
     "output_type": "execute_result"
    }
   ],
   "source": [
    "lasso_regresija(X_df, podatki[\"Q\"], lam=1000)"
   ]
  },
  {
   "attachments": {},
   "cell_type": "markdown",
   "metadata": {},
   "source": [
    "# PREGLED NATANČNOSTI PREDLAGANIH ENAČB"
   ]
  },
  {
   "attachments": {},
   "cell_type": "markdown",
   "metadata": {},
   "source": [
    "Zgornji algoritmi so nam glede na podane podatke predlagani različne enačbe s katerimi bi lahko določili vrednost Q v odvisnosti od vrednosti različnih spremenljivk, ki nanj vplivajo. V nadaljevanju nas bo zanimalo kakšna je natančnost predlaganih enačb glede na dejansko vrednost Qja."
   ]
  },
  {
   "cell_type": "code",
   "execution_count": 147,
   "metadata": {},
   "outputs": [],
   "source": [
    "Q_lin = 0.002 * podatki['Tw_minus_Ta']**2\n",
    "Q_ridge = 0.002 * podatki['Tw_minus_Ta']**2\n",
    "Q_lasso = 1.747* podatki['sinus_theta'] + 0.143*podatki['eta_2'] + 1.145*podatki['sinus_theta']**2 + 0.013*podatki['sinus_theta'] * podatki['eta_2'] + 0.094*podatki['Tw_minus_Ta']**2\n",
    "#print(podatki)"
   ]
  },
  {
   "cell_type": "code",
   "execution_count": 148,
   "metadata": {},
   "outputs": [
    {
     "name": "stdout",
     "output_type": "stream",
     "text": [
      "0.4319633566174793\n",
      "2809881.2466726624\n"
     ]
    }
   ],
   "source": [
    "#RAZLIKE MED DEJANSKIM Q IN Q, KI NAM GA VRNEJO ZGORNJI ALGORITMI\n",
    "\n",
    "from sklearn.metrics import mean_squared_error\n",
    "\n",
    "#linearna regresija = ridge regresija \n",
    "mse_lin_reg = mean_squared_error(podatki['Q'], Q_lin)\n",
    "mse_ridge_reg = mean_squared_error(podatki['Q'], Q_ridge)\n",
    "\n",
    "mse_lasso_reg = mean_squared_error(podatki['Q'], Q_lasso)\n",
    "\n",
    "print(mse_lin_reg)\n",
    "print(mse_lasso_reg)"
   ]
  },
  {
   "attachments": {},
   "cell_type": "markdown",
   "metadata": {},
   "source": [
    "Manjša napaka med dejanskim Q in Q izračunanim z regresijo se pojavi pri linearni regresiji. Pri lasso regresiji je ta napaka precej visoka."
   ]
  },
  {
   "attachments": {},
   "cell_type": "markdown",
   "metadata": {},
   "source": [
    "### *******************************************************************************************************************************"
   ]
  },
  {
   "cell_type": "code",
   "execution_count": 149,
   "metadata": {},
   "outputs": [
    {
     "data": {
      "text/html": [
       "<div>\n",
       "<style scoped>\n",
       "    .dataframe tbody tr th:only-of-type {\n",
       "        vertical-align: middle;\n",
       "    }\n",
       "\n",
       "    .dataframe tbody tr th {\n",
       "        vertical-align: top;\n",
       "    }\n",
       "\n",
       "    .dataframe thead th {\n",
       "        text-align: right;\n",
       "    }\n",
       "</style>\n",
       "<table border=\"1\" class=\"dataframe\">\n",
       "  <thead>\n",
       "    <tr style=\"text-align: right;\">\n",
       "      <th></th>\n",
       "      <th>Q</th>\n",
       "      <th>Tw</th>\n",
       "      <th>Ta</th>\n",
       "      <th>theta</th>\n",
       "      <th>eta</th>\n",
       "      <th>razlika_med_theta_in_pi2</th>\n",
       "      <th>sinus_theta</th>\n",
       "      <th>Tw_minus_Ta</th>\n",
       "      <th>eta_2</th>\n",
       "    </tr>\n",
       "  </thead>\n",
       "  <tbody>\n",
       "    <tr>\n",
       "      <th>0</th>\n",
       "      <td>1.711929</td>\n",
       "      <td>53.005339</td>\n",
       "      <td>10.788147</td>\n",
       "      <td>0.321921</td>\n",
       "      <td>0.349083</td>\n",
       "      <td>1.248875</td>\n",
       "      <td>0.316390</td>\n",
       "      <td>42.217191</td>\n",
       "      <td>8.206192</td>\n",
       "    </tr>\n",
       "    <tr>\n",
       "      <th>1</th>\n",
       "      <td>0.067135</td>\n",
       "      <td>20.761340</td>\n",
       "      <td>12.225502</td>\n",
       "      <td>2.705824</td>\n",
       "      <td>0.821069</td>\n",
       "      <td>1.135028</td>\n",
       "      <td>0.422107</td>\n",
       "      <td>8.535838</td>\n",
       "      <td>1.483341</td>\n",
       "    </tr>\n",
       "    <tr>\n",
       "      <th>2</th>\n",
       "      <td>0.034759</td>\n",
       "      <td>39.546739</td>\n",
       "      <td>35.892183</td>\n",
       "      <td>1.873776</td>\n",
       "      <td>0.756082</td>\n",
       "      <td>0.302980</td>\n",
       "      <td>0.954452</td>\n",
       "      <td>3.654556</td>\n",
       "      <td>1.749294</td>\n",
       "    </tr>\n",
       "    <tr>\n",
       "      <th>3</th>\n",
       "      <td>0.417783</td>\n",
       "      <td>33.972185</td>\n",
       "      <td>21.385801</td>\n",
       "      <td>2.089589</td>\n",
       "      <td>0.516134</td>\n",
       "      <td>0.518793</td>\n",
       "      <td>0.868418</td>\n",
       "      <td>12.586385</td>\n",
       "      <td>3.753839</td>\n",
       "    </tr>\n",
       "    <tr>\n",
       "      <th>4</th>\n",
       "      <td>1.667614</td>\n",
       "      <td>50.092173</td>\n",
       "      <td>15.254621</td>\n",
       "      <td>0.328350</td>\n",
       "      <td>0.083327</td>\n",
       "      <td>1.242446</td>\n",
       "      <td>0.322482</td>\n",
       "      <td>34.837551</td>\n",
       "      <td>144.021782</td>\n",
       "    </tr>\n",
       "    <tr>\n",
       "      <th>...</th>\n",
       "      <td>...</td>\n",
       "      <td>...</td>\n",
       "      <td>...</td>\n",
       "      <td>...</td>\n",
       "      <td>...</td>\n",
       "      <td>...</td>\n",
       "      <td>...</td>\n",
       "      <td>...</td>\n",
       "      <td>...</td>\n",
       "    </tr>\n",
       "    <tr>\n",
       "      <th>495</th>\n",
       "      <td>1.327393</td>\n",
       "      <td>54.081114</td>\n",
       "      <td>30.039247</td>\n",
       "      <td>1.153132</td>\n",
       "      <td>0.708757</td>\n",
       "      <td>0.417664</td>\n",
       "      <td>0.914039</td>\n",
       "      <td>24.041866</td>\n",
       "      <td>1.990698</td>\n",
       "    </tr>\n",
       "    <tr>\n",
       "      <th>496</th>\n",
       "      <td>0.053967</td>\n",
       "      <td>42.933431</td>\n",
       "      <td>39.799381</td>\n",
       "      <td>1.572222</td>\n",
       "      <td>0.022975</td>\n",
       "      <td>0.001425</td>\n",
       "      <td>0.999999</td>\n",
       "      <td>3.134050</td>\n",
       "      <td>1894.479620</td>\n",
       "    </tr>\n",
       "    <tr>\n",
       "      <th>497</th>\n",
       "      <td>0.707523</td>\n",
       "      <td>47.145488</td>\n",
       "      <td>30.707064</td>\n",
       "      <td>2.093919</td>\n",
       "      <td>0.684035</td>\n",
       "      <td>0.523123</td>\n",
       "      <td>0.866263</td>\n",
       "      <td>16.438423</td>\n",
       "      <td>2.137193</td>\n",
       "    </tr>\n",
       "    <tr>\n",
       "      <th>498</th>\n",
       "      <td>0.062350</td>\n",
       "      <td>39.405105</td>\n",
       "      <td>32.647363</td>\n",
       "      <td>0.311168</td>\n",
       "      <td>0.053085</td>\n",
       "      <td>1.259628</td>\n",
       "      <td>0.306171</td>\n",
       "      <td>6.757743</td>\n",
       "      <td>354.865964</td>\n",
       "    </tr>\n",
       "    <tr>\n",
       "      <th>499</th>\n",
       "      <td>0.011049</td>\n",
       "      <td>47.549837</td>\n",
       "      <td>45.866743</td>\n",
       "      <td>2.258284</td>\n",
       "      <td>0.139831</td>\n",
       "      <td>0.687488</td>\n",
       "      <td>0.772843</td>\n",
       "      <td>1.683094</td>\n",
       "      <td>51.143914</td>\n",
       "    </tr>\n",
       "  </tbody>\n",
       "</table>\n",
       "<p>500 rows × 9 columns</p>\n",
       "</div>"
      ],
      "text/plain": [
       "            Q         Tw         Ta     theta       eta  \\\n",
       "0    1.711929  53.005339  10.788147  0.321921  0.349083   \n",
       "1    0.067135  20.761340  12.225502  2.705824  0.821069   \n",
       "2    0.034759  39.546739  35.892183  1.873776  0.756082   \n",
       "3    0.417783  33.972185  21.385801  2.089589  0.516134   \n",
       "4    1.667614  50.092173  15.254621  0.328350  0.083327   \n",
       "..        ...        ...        ...       ...       ...   \n",
       "495  1.327393  54.081114  30.039247  1.153132  0.708757   \n",
       "496  0.053967  42.933431  39.799381  1.572222  0.022975   \n",
       "497  0.707523  47.145488  30.707064  2.093919  0.684035   \n",
       "498  0.062350  39.405105  32.647363  0.311168  0.053085   \n",
       "499  0.011049  47.549837  45.866743  2.258284  0.139831   \n",
       "\n",
       "     razlika_med_theta_in_pi2  sinus_theta  Tw_minus_Ta        eta_2  \n",
       "0                    1.248875     0.316390    42.217191     8.206192  \n",
       "1                    1.135028     0.422107     8.535838     1.483341  \n",
       "2                    0.302980     0.954452     3.654556     1.749294  \n",
       "3                    0.518793     0.868418    12.586385     3.753839  \n",
       "4                    1.242446     0.322482    34.837551   144.021782  \n",
       "..                        ...          ...          ...          ...  \n",
       "495                  0.417664     0.914039    24.041866     1.990698  \n",
       "496                  0.001425     0.999999     3.134050  1894.479620  \n",
       "497                  0.523123     0.866263    16.438423     2.137193  \n",
       "498                  1.259628     0.306171     6.757743   354.865964  \n",
       "499                  0.687488     0.772843     1.683094    51.143914  \n",
       "\n",
       "[500 rows x 9 columns]"
      ]
     },
     "execution_count": 149,
     "metadata": {},
     "output_type": "execute_result"
    }
   ],
   "source": [
    "podatki"
   ]
  },
  {
   "cell_type": "code",
   "execution_count": 150,
   "metadata": {},
   "outputs": [
    {
     "name": "stdout",
     "output_type": "stream",
     "text": [
      "Model skipped. More model parameters than allowed (check max constant).\n",
      "Model skipped. More model parameters than allowed (check max constant).\n",
      "Model skipped. More model parameters than allowed (check max constant).\n"
     ]
    },
    {
     "data": {
      "text/plain": [
       "ModelBox: 65 models\n",
       "-> [156.524057525843*eta*eta_2*theta + 2*eta - eta_2 - 505.414677766949 - 1.14246223072865/(-1.87299101791363*Tw_minus_Ta/sinus_theta + sinus_theta)], p = 4.2679544859209266e-39, error = 10112.013273016088, time = 1.1767299175262451\n",
       "-> [sinus_theta], p = 0.024000000000000004, error = 1.0127283737714943, time = 0\n",
       "-> [-sin(theta - 9.44969937611032)], p = 8.294400000000003e-06, error = 1.0125607996277983, time = 0.038263559341430664\n",
       "-> [cos(theta)], p = 7.4649600000000045e-06, error = 1.4491875386616362, time = 0\n",
       "-> [0.000418897970088092*eta*eta_2 - 0.136211300386157*razlika_med_theta_in_pi2 + sinus_theta + 0.149482920386556], p = 2.3084466527482714e-20, error = 1.0097729786841974, time = 0.173309326171875\n",
       "-> [Tw_minus_Ta - 14.1566705084246 + 0.000400118502247798/(eta*theta)], p = 3.019898880000003e-12, error = 9.657679172843965, time = 0.12145662307739258\n",
       "-> [5.6930943412995e-6*eta_2*theta], p = 2.5600000000000012e-05, error = 1.2707085657598123, time = 0.05423712730407715\n",
       "-> [1.78555262040465*eta*exp(-4.30567994132449*razlika_med_theta_in_pi2*sinus_theta/eta_2)], p = 1.6777216000000027e-14, error = 1.1490989316491023, time = 0.11168265342712402\n",
       "-> [cos(15080.9395482523*eta_2*exp(sinus_theta))], p = 7.962624000000006e-10, error = 1.4033714493726255, time = 0.2904043197631836\n",
       "-> [Tw_minus_Ta], p = 0.024000000000000004, error = 17.124961121205533, time = 0\n",
       "-> [-60911.1955995058/sinus_theta + eta_2/eta], p = 2.0480000000000011e-07, error = 4628311.628702799, time = 0.04093742370605469\n",
       "-> [1.0172397418989e-5*(2401.06113689109*eta + 1261.41921001064*sin(cos(Tw_minus_Ta + 0.405372575612239)) + 1.69630002226122/eta)/theta], p = 2.154057740612469e-28, error = 1.2687281971674795, time = 4.588955402374268\n",
       "-> [0.851987746166559/eta_2], p = 0.0019200000000000003, error = 1.2134446407314543, time = 0.01683354377746582\n",
       "-> [sinus_theta + 0.0457078843230311], p = 0.0011520000000000002, error = 1.0116963640400227, time = 0.014968633651733398\n",
       "-> [0.0924496622727894*Tw_minus_Ta + razlika_med_theta_in_pi2*sin(razlika_med_theta_in_pi2)/sinus_theta - 3.24455337422584 + 0.203482909783093/(0.556890859159417*razlika_med_theta_in_pi2*sinus_theta - theta)], p = 3.6935146443972367e-26, error = 9.617619346850805, time = 0.7812609672546387\n",
       "-> [0.453241719804593*razlika_med_theta_in_pi2], p = 0.00015413084160000005, error = 1.2032837250020005, time = 0.015702247619628906\n",
       "-> [0.0238114486651849*sin(Tw_minus_Ta*eta_2*razlika_med_theta_in_pi2 + Tw_minus_Ta*theta)], p = 2.621440000000004e-13, error = 1.2712825465276198, time = 0.030052661895751953\n",
       "-> [0.685504187821284 - 0.000343458410346578/eta], p = 5.898240000000003e-07, error = 1.0722983066512923, time = 0.07769536972045898\n",
       "-> [razlika_med_theta_in_pi2 - 0.101154673422916], p = 1.9110297600000009e-07, error = 1.297267778636838, time = 0.02129220962524414\n",
       "-> [eta_2/(eta*(eta - 692101.634620469))], p = 4.246732800000004e-10, error = 6.870372688802038, time = 0.42470622062683105\n",
       "-> [0.0771175316195712*Tw_minus_Ta - 0.459987439834972], p = 9.216000000000003e-05, error = 0.7081653733778198, time = 0.06689167022705078\n",
       "-> [0.110807490841464*Tw_minus_Ta*eta*sinus_theta], p = 3.413333333333336e-07, error = 0.9755233332300256, time = 0.01968073844909668\n",
       "-> [-Tw_minus_Ta*theta + sinus_theta + theta], p = 2.048000000000002e-08, error = 31.09319659913159, time = 0\n",
       "-> [1.36163301710599 - cos(razlika_med_theta_in_pi2 - 0.449493162943137/Tw_minus_Ta)], p = 5.308416000000004e-09, error = 1.1877316072379431, time = 0.21970534324645996\n",
       "-> [C0*sinus_theta + C1 + C2/Tw_minus_Ta + sinus_theta - theta + sqrt(C3 + C4/(C5*exp(C6*Tw_minus_Ta*sqrt(C7 + eta_2) + C8)/(Tw_minus_Ta*razlika_med_theta_in_pi2) + cos(C9*razlika_med_theta_in_pi2/eta)) - razlika_med_theta_in_pi2 + sinus_theta) + exp(C10 + razlika_med_theta_in_pi2 + cos(C11 + sinus_theta))], p = 2.989274528307167e-71\n",
       "-> [exp(razlika_med_theta_in_pi2) - 1.73923437051633], p = 8.294400000000003e-06, error = 1.7535201559456775, time = 0.01627206802368164\n",
       "-> [0.00377731269993556*Tw_minus_Ta*razlika_med_theta_in_pi2*sinus_theta/eta - 0.00451203896565875/eta], p = 2.3301688888888923e-13, error = 1.2216697955070006, time = 0.16304612159729004\n",
       "-> [-eta*razlika_med_theta_in_pi2 - eta_2 + 958.493766111951], p = 9.830400000000008e-09, error = 11258.025664042363, time = 0.07529187202453613\n",
       "-> [0.60974511475124*eta*razlika_med_theta_in_pi2], p = 2.5600000000000012e-05, error = 1.232476964231136, time = 0.019694089889526367\n",
       "-> [eta], p = 0.024000000000000004, error = 1.177132194019579, time = 0\n",
       "-> [-0.124699792484151*eta + sinus_theta], p = 1.2288000000000008e-06, error = 1.0101555243506468, time = 0.029268264770507812\n",
       "-> [Tw_minus_Ta + eta_2 - theta - 969.562426958423], p = 1.1007531417600013e-12, error = 11257.799691499307, time = 0.03436565399169922\n",
       "-> [C0*(C1*razlika_med_theta_in_pi2 + C2)*sin(C3*exp(C4*(C5*eta_2 + razlika_med_theta_in_pi2)) + C6 - razlika_med_theta_in_pi2/sinus_theta)], p = 1.786661652373605e-29\n",
       "-> [0.337834763663527*theta], p = 0.0019496951808000002, error = 1.1213145900644321, time = 0.02266097068786621\n",
       "-> [0.681259355478869 - 1.49002129050297e-8*(eta_2 + theta + 9.9678204758873)/eta], p = 2.7052109211893794e-16, error = 1.0719510474026568, time = 0.6164815425872803\n",
       "-> [0.0563767603867044*Tw_minus_Ta], p = 0.003840000000000001, error = 0.7560964680393214, time = 0.026535511016845703\n",
       "-> [-2.87690351937098e-5*eta_2*sqrt(theta)*cos(6.22845194575581*eta_2) - theta + 2.21239218048239], p = 6.155857740662058e-26, error = 1.4155889701119988, time = 0.9883899688720703\n",
       "-> [1.18518125886662 - eta], p = 3.9813120000000015e-07, error = 1.0544385047554743, time = 0.01663661003112793\n",
       "-> [0.00351489295604219/razlika_med_theta_in_pi2], p = 6.635520000000003e-06, error = 1.266116285107268, time = 0.02144789695739746\n",
       "-> [sinus_theta*cos(-eta + sinus_theta - 0.94348303863727 + 0.174139444606236/sinus_theta + 0.0243612567966561*theta/Tw_minus_Ta**2)], p = 6.155857740662064e-26, error = 1.0064122064853487, time = 8.371622085571289\n",
       "-> [-464.015589914457*Tw_minus_Ta/(razlika_med_theta_in_pi2 - 15163.7757197991 + 137.175894593192*sinus_theta/razlika_med_theta_in_pi2) + eta], p = 1.2524124635136024e-17, error = 0.9926171546462002, time = 1.5264647006988525\n",
       "-> [theta/eta], p = 0.00032000000000000013, error = 32.76261599711263, time = 0\n",
       "-> [3.403012867489e-7*eta_2/razlika_med_theta_in_pi2 + 0.010206141940331/sinus_theta], p = 4.529848320000004e-12, error = 1.2669876161715252, time = 0.3862166404724121\n",
       "-> [0.0166290555755133*Tw_minus_Ta*razlika_med_theta_in_pi2 + 0.493569812632613], p = 7.864320000000006e-09, error = 1.0552702980636264, time = 0.09249401092529297\n",
       "-> [1.24735753705438*sinus_theta**2], p = 2.5600000000000012e-05, error = 1.0159684491450713, time = 0.019576072692871094\n",
       "-> [eta + 0.180843769517284], p = 0.0011520000000000002, error = 1.1631572393027807, time = 0.012718677520751953\n",
       "-> [-3.33317122327788e-7*eta_2*sinus_theta/razlika_med_theta_in_pi2 + 0.684226970677731], p = 5.033164800000008e-14, error = 1.0721571807864523, time = 0.39598941802978516\n",
       "-> [eta_2], p = 0.024000000000000004, error = 11298.724217215886, time = 0\n",
       "-> [15.5045587587404 - Tw_minus_Ta], p = 4.423680000000001e-06, error = 11.269413628114373, time = 0.014640331268310547\n",
       "-> [razlika_med_theta_in_pi2], p = 0.024000000000000004, error = 1.30120557663229, time = 0\n",
       "-> [958.23878320914 - eta_2], p = 0.0011520000000000002, error = 11258.0581627199, time = 0.028484106063842773\n",
       "-> [eta**2 - 0.53461147700885*razlika_med_theta_in_pi2 + 0.000567749553705472*theta + 0.548378214022419 + sinus_theta/eta_2], p = 5.3687091200000107e-17, error = 1.2236727222675687, time = 0.18561291694641113\n",
       "-> [C0 + eta_2*(C1 + sqrt(Tw_minus_Ta)*razlika_med_theta_in_pi2 - eta_2 - eta_2/sqrt(C2*eta_2*(C3*eta_2*exp(C4*(sinus_theta + theta)/sinus_theta) + C5 + C6/razlika_med_theta_in_pi2 + eta)) - sinus_theta - theta) + eta_2], p = 4.1644799940312136e-75\n",
       "-> [-5.81314659115966e-7*eta_2*razlika_med_theta_in_pi2 + 0.0105177996195061/theta], p = 7.077888000000006e-10, error = 1.2688258213244399, time = 0.17322063446044922\n",
       "-> [eta - theta], p = 0.00019200000000000009, error = 2.2605222405185366, time = 0\n",
       "-> [-0.00691235175196887/sin(eta_2 + sinus_theta + 6.55957269926261 - 2.85035128014354*sqrt(Tw_minus_Ta + 0.755959158849289)/eta)], p = 2.1035720123168626e-22, error = 1.26932726486781, time = 2.615471601486206\n",
       "-> [0.844855738993649*eta], p = 0.0019200000000000003, error = 1.1737060083996003, time = 0.017971277236938477\n",
       "-> [-Tw_minus_Ta + eta + 0.935406482730556/Tw_minus_Ta], p = 1.2288000000000008e-07, error = 18.74650857348419, time = 0.020615577697753906\n",
       "-> [-1.44032157437787e-6*eta_2*sinus_theta**2*theta*exp(razlika_med_theta_in_pi2) + 0.683740452194267], p = 4.348654387200007e-17, error = 1.0723039318032719, time = 0.27228522300720215\n",
       "-> [1.35072038733807 - exp(-eta)*exp(1.11575024794406*exp(-Tw_minus_Ta))], p = 4.382441692326796e-21, error = 1.110258817685199, time = 0.11884188652038574\n",
       "-> [0.00522422212109557*razlika_med_theta_in_pi2 + 0.681090365878292 - 0.00522422212109557*razlika_med_theta_in_pi2**2*theta/eta_2], p = 2.899102924800005e-16, error = 1.0723405975766849, time = 1.3372726440429688\n",
       "-> [theta], p = 0.024000000000000004, error = 1.623843640169816, time = 0\n",
       "-> [9.36859028348727e-10*eta_2/eta], p = 2.0384317440000014e-10, error = 1.27137746070239, time = 0.22166800498962402\n",
       "-> [0.0145878356669134*eta/theta], p = 1.1059200000000006e-06, error = 1.269854889833032, time = 0.01967597007751465\n",
       "-> [sinus_theta/Tw_minus_Ta], p = 0.00032000000000000013, error = 1.311238722013131, time = 0"
      ]
     },
     "execution_count": 150,
     "metadata": {},
     "output_type": "execute_result"
    }
   ],
   "source": [
    "import ProGED as pg\n",
    "\n",
    "np.random.seed(1)\n",
    "ED1 = pg.EqDisco(data=podatki, \n",
    "                lhs_vars=[\"Q\"],\n",
    "                rhs_vars=[\"theta\", \"eta\", \"razlika_med_theta_in_pi2\", \"sinus_theta\", \"Tw_minus_Ta\", \"eta_2\"],\n",
    "                sample_size=100)\n",
    "\n",
    "ED1.generate_models()\n",
    "ED1.fit_models()"
   ]
  },
  {
   "cell_type": "code",
   "execution_count": 151,
   "metadata": {},
   "outputs": [
    {
     "data": {
      "text/plain": [
       "ModelBox: 1 models\n",
       "-> [0.0771175316195712*Tw_minus_Ta - 0.459987439834972], p = 9.216000000000003e-05, error = 0.7081653733778198, time = 0.06689167022705078"
      ]
     },
     "execution_count": 151,
     "metadata": {},
     "output_type": "execute_result"
    }
   ],
   "source": [
    "ED1.get_results()"
   ]
  },
  {
   "attachments": {},
   "cell_type": "markdown",
   "metadata": {},
   "source": [
    "Višja napaka kot prej, slabše. Dodamo v podatke kvadratr in poiskusimo tako"
   ]
  },
  {
   "cell_type": "code",
   "execution_count": null,
   "metadata": {},
   "outputs": [
    {
     "name": "stdout",
     "output_type": "stream",
     "text": [
      "Model skipped. More model parameters than allowed (check max constant).\n",
      "Model skipped. More model parameters than allowed (check max constant).\n",
      "Model skipped. More model parameters than allowed (check max constant).\n",
      "Model skipped. More model parameters than allowed (check max constant).\n",
      "Model skipped. More model parameters than allowed (check max constant).\n",
      "Model skipped. More model parameters than allowed (check max constant).\n",
      "Model skipped. More model parameters than allowed (check max constant).\n",
      "Model skipped. More model parameters than allowed (check max constant).\n",
      "Model skipped. More model parameters than allowed (check max constant).\n",
      "Model skipped. More model parameters than allowed (check max constant).\n",
      "Model skipped. More model parameters than allowed (check max constant).\n",
      "Model skipped. More model parameters than allowed (check max constant).\n",
      "Model skipped. More model parameters than allowed (check max constant).\n",
      "Model skipped. More model parameters than allowed (check max constant).\n",
      "Model skipped. More model parameters than allowed (check max constant).\n",
      "Model skipped. More model parameters than allowed (check max constant).\n",
      "Model skipped. More model parameters than allowed (check max constant).\n",
      "Model skipped. More model parameters than allowed (check max constant).\n",
      "Model skipped. More model parameters than allowed (check max constant).\n",
      "Model skipped. More model parameters than allowed (check max constant).\n",
      "Model skipped. More model parameters than allowed (check max constant).\n",
      "Model skipped. More model parameters than allowed (check max constant).\n",
      "Model skipped. More model parameters than allowed (check max constant).\n",
      "Model skipped. More model parameters than allowed (check max constant).\n",
      "Model skipped. More model parameters than allowed (check max constant).\n",
      "Model skipped. More model parameters than allowed (check max constant).\n",
      "Model skipped. More model parameters than allowed (check max constant).\n",
      "Model skipped. More model parameters than allowed (check max constant).\n",
      "Model skipped. More model parameters than allowed (check max constant).\n",
      "Model skipped. More model parameters than allowed (check max constant).\n",
      "Model skipped. More model parameters than allowed (check max constant).\n",
      "Model skipped. More model parameters than allowed (check max constant).\n",
      "Model skipped. More model parameters than allowed (check max constant).\n",
      "Model skipped. More model parameters than allowed (check max constant).\n",
      "Model skipped. More model parameters than allowed (check max constant).\n",
      "Model skipped. More model parameters than allowed (check max constant).\n",
      "Model skipped. More model parameters than allowed (check max constant).\n",
      "Model skipped. More model parameters than allowed (check max constant).\n",
      "Model skipped. More model parameters than allowed (check max constant).\n",
      "Model skipped. More model parameters than allowed (check max constant).\n",
      "Model skipped. More model parameters than allowed (check max constant).\n",
      "Model skipped. More model parameters than allowed (check max constant).\n",
      "Model skipped. More model parameters than allowed (check max constant).\n",
      "Model skipped. More model parameters than allowed (check max constant).\n",
      "Model skipped. More model parameters than allowed (check max constant).\n",
      "Model skipped. More model parameters than allowed (check max constant).\n",
      "Model skipped. More model parameters than allowed (check max constant).\n",
      "Model skipped. More model parameters than allowed (check max constant).\n",
      "Model skipped. More model parameters than allowed (check max constant).\n",
      "Model skipped. More model parameters than allowed (check max constant).\n",
      "Model skipped. More model parameters than allowed (check max constant).\n",
      "Model skipped. More model parameters than allowed (check max constant).\n",
      "Model skipped. More model parameters than allowed (check max constant).\n",
      "Model skipped. More model parameters than allowed (check max constant).\n",
      "Model skipped. More model parameters than allowed (check max constant).\n",
      "Model skipped. More model parameters than allowed (check max constant).\n",
      "Model skipped. More model parameters than allowed (check max constant).\n",
      "Model skipped. More model parameters than allowed (check max constant).\n",
      "Model skipped. More model parameters than allowed (check max constant).\n",
      "Model skipped. More model parameters than allowed (check max constant).\n",
      "Model skipped. More model parameters than allowed (check max constant).\n",
      "Model skipped. More model parameters than allowed (check max constant).\n",
      "Model skipped. More model parameters than allowed (check max constant).\n",
      "Model skipped. More model parameters than allowed (check max constant).\n",
      "Model skipped. More model parameters than allowed (check max constant).\n",
      "Model skipped. More model parameters than allowed (check max constant).\n",
      "Model skipped. More model parameters than allowed (check max constant).\n",
      "Model skipped. More model parameters than allowed (check max constant).\n",
      "Model skipped. More model parameters than allowed (check max constant).\n",
      "Model skipped. More model parameters than allowed (check max constant).\n",
      "Model skipped. More model parameters than allowed (check max constant).\n",
      "Model skipped. More model parameters than allowed (check max constant).\n",
      "Model skipped. More model parameters than allowed (check max constant).\n",
      "Model skipped. More model parameters than allowed (check max constant).\n",
      "Model skipped. More model parameters than allowed (check max constant).\n",
      "Model skipped. More model parameters than allowed (check max constant).\n",
      "Model skipped. More model parameters than allowed (check max constant).\n",
      "Model skipped. More model parameters than allowed (check max constant).\n",
      "Model skipped. More model parameters than allowed (check max constant).\n",
      "Model skipped. More model parameters than allowed (check max constant).\n",
      "Model skipped. More model parameters than allowed (check max constant).\n",
      "Model skipped. More model parameters than allowed (check max constant).\n",
      "Model skipped. More model parameters than allowed (check max constant).\n",
      "Model skipped. More model parameters than allowed (check max constant).\n",
      "Model skipped. More model parameters than allowed (check max constant).\n",
      "Model skipped. More model parameters than allowed (check max constant).\n",
      "Model skipped. More model parameters than allowed (check max constant).\n",
      "Model skipped. More model parameters than allowed (check max constant).\n",
      "Model skipped. More model parameters than allowed (check max constant).\n",
      "Model skipped. More model parameters than allowed (check max constant).\n",
      "Model skipped. More model parameters than allowed (check max constant).\n",
      "Model skipped. More model parameters than allowed (check max constant).\n",
      "Model skipped. More model parameters than allowed (check max constant).\n",
      "Model skipped. More model parameters than allowed (check max constant).\n",
      "Model skipped. More model parameters than allowed (check max constant).\n",
      "Model skipped. More model parameters than allowed (check max constant).\n",
      "Model skipped. More model parameters than allowed (check max constant).\n",
      "Model skipped. More model parameters than allowed (check max constant).\n",
      "Model skipped. More model parameters than allowed (check max constant).\n",
      "Model skipped. More model parameters than allowed (check max constant).\n",
      "Model skipped. More model parameters than allowed (check max constant).\n",
      "Model skipped. More model parameters than allowed (check max constant).\n",
      "Model skipped. More model parameters than allowed (check max constant).\n",
      "Model skipped. More model parameters than allowed (check max constant).\n",
      "Model skipped. More model parameters than allowed (check max constant).\n",
      "Model skipped. More model parameters than allowed (check max constant).\n",
      "Model skipped. More model parameters than allowed (check max constant).\n",
      "Model skipped. More model parameters than allowed (check max constant).\n",
      "Model skipped. More model parameters than allowed (check max constant).\n",
      "Model skipped. More model parameters than allowed (check max constant).\n",
      "Model skipped. More model parameters than allowed (check max constant).\n",
      "Model skipped. More model parameters than allowed (check max constant).\n",
      "Model skipped. More model parameters than allowed (check max constant).\n",
      "Model skipped. More model parameters than allowed (check max constant).\n",
      "Model skipped. More model parameters than allowed (check max constant).\n",
      "Model skipped. More model parameters than allowed (check max constant).\n",
      "Model skipped. More model parameters than allowed (check max constant).\n",
      "Model skipped. More model parameters than allowed (check max constant).\n",
      "Model skipped. More model parameters than allowed (check max constant).\n",
      "Model skipped. More model parameters than allowed (check max constant).\n",
      "Model skipped. More model parameters than allowed (check max constant).\n",
      "Model skipped. More model parameters than allowed (check max constant).\n",
      "Model skipped. More model parameters than allowed (check max constant).\n",
      "Model skipped. More model parameters than allowed (check max constant).\n",
      "Model skipped. More model parameters than allowed (check max constant).\n",
      "Model skipped. More model parameters than allowed (check max constant).\n",
      "Model skipped. More model parameters than allowed (check max constant).\n",
      "Model skipped. More model parameters than allowed (check max constant).\n",
      "Model skipped. More model parameters than allowed (check max constant).\n",
      "Model skipped. More model parameters than allowed (check max constant).\n"
     ]
    },
    {
     "data": {
      "text/plain": [
       "ModelBox: 1 models\n",
       "-> [0.460215746004746*Tw/Ta], p = 0.000144, error = 0.8869595230442364, time = 0.02766275405883789"
      ]
     },
     "execution_count": 73,
     "metadata": {},
     "output_type": "execute_result"
    }
   ],
   "source": [
    "import ProGED as pg\n",
    "\n",
    "gramatika = \"E -> E '+' F [0.1]| E '-' F [0.4]| F [0.5] \\n\"\n",
    "gramatika = \"F -> F '*' T [0.4]| F '/' T [0.2]| 'C' '*' T [0.4] \\n\"\n",
    "gramatika += \"T -> 'C' '*' V [0.5]| '('F')' [0.2] | 'sin' '('F')' [0.3] \\n\"\n",
    "gramatika += \"V  -> 'eta' [0.1]| 'theta' [0.3] | 'Tw' [0.3] | 'Ta' [0.3]\"\n",
    "grammar = pg.GeneratorGrammar(gramatika)\n",
    "\n",
    "np.random.seed(1)\n",
    "ED2 = pg.EqDisco(data=podatki, \n",
    "                lhs_vars=[\"Q\"],\n",
    "                rhs_vars=[\"theta\", \"eta\", \"Tw\", \"Ta\"],\n",
    "                sample_size=1000,\n",
    "                generator = grammar)\n",
    "\n",
    "ED2.generate_models()\n",
    "ED2.fit_models()\n",
    "ED2.get_results()"
   ]
  },
  {
   "cell_type": "code",
   "execution_count": 88,
   "metadata": {},
   "outputs": [
    {
     "data": {
      "text/html": [
       "<div>\n",
       "<style scoped>\n",
       "    .dataframe tbody tr th:only-of-type {\n",
       "        vertical-align: middle;\n",
       "    }\n",
       "\n",
       "    .dataframe tbody tr th {\n",
       "        vertical-align: top;\n",
       "    }\n",
       "\n",
       "    .dataframe thead th {\n",
       "        text-align: right;\n",
       "    }\n",
       "</style>\n",
       "<table border=\"1\" class=\"dataframe\">\n",
       "  <thead>\n",
       "    <tr style=\"text-align: right;\">\n",
       "      <th></th>\n",
       "      <th>Q</th>\n",
       "      <th>Tw</th>\n",
       "      <th>Ta</th>\n",
       "      <th>theta</th>\n",
       "      <th>eta</th>\n",
       "      <th>razlika_med_theta_ in_ pi2</th>\n",
       "      <th>sinus_theta</th>\n",
       "      <th>Tw_-_Ta</th>\n",
       "      <th>1/eta^2</th>\n",
       "    </tr>\n",
       "  </thead>\n",
       "  <tbody>\n",
       "    <tr>\n",
       "      <th>0</th>\n",
       "      <td>1.711929</td>\n",
       "      <td>53.005339</td>\n",
       "      <td>10.788147</td>\n",
       "      <td>0.321921</td>\n",
       "      <td>0.349083</td>\n",
       "      <td>1.248875</td>\n",
       "      <td>0.316390</td>\n",
       "      <td>42.217191</td>\n",
       "      <td>8.206192</td>\n",
       "    </tr>\n",
       "    <tr>\n",
       "      <th>1</th>\n",
       "      <td>0.067135</td>\n",
       "      <td>20.761340</td>\n",
       "      <td>12.225502</td>\n",
       "      <td>2.705824</td>\n",
       "      <td>0.821069</td>\n",
       "      <td>1.135028</td>\n",
       "      <td>0.422107</td>\n",
       "      <td>8.535838</td>\n",
       "      <td>1.483341</td>\n",
       "    </tr>\n",
       "    <tr>\n",
       "      <th>2</th>\n",
       "      <td>0.034759</td>\n",
       "      <td>39.546739</td>\n",
       "      <td>35.892183</td>\n",
       "      <td>1.873776</td>\n",
       "      <td>0.756082</td>\n",
       "      <td>0.302980</td>\n",
       "      <td>0.954452</td>\n",
       "      <td>3.654556</td>\n",
       "      <td>1.749294</td>\n",
       "    </tr>\n",
       "    <tr>\n",
       "      <th>3</th>\n",
       "      <td>0.417783</td>\n",
       "      <td>33.972185</td>\n",
       "      <td>21.385801</td>\n",
       "      <td>2.089589</td>\n",
       "      <td>0.516134</td>\n",
       "      <td>0.518793</td>\n",
       "      <td>0.868418</td>\n",
       "      <td>12.586385</td>\n",
       "      <td>3.753839</td>\n",
       "    </tr>\n",
       "    <tr>\n",
       "      <th>4</th>\n",
       "      <td>1.667614</td>\n",
       "      <td>50.092173</td>\n",
       "      <td>15.254621</td>\n",
       "      <td>0.328350</td>\n",
       "      <td>0.083327</td>\n",
       "      <td>1.242446</td>\n",
       "      <td>0.322482</td>\n",
       "      <td>34.837551</td>\n",
       "      <td>144.021782</td>\n",
       "    </tr>\n",
       "    <tr>\n",
       "      <th>...</th>\n",
       "      <td>...</td>\n",
       "      <td>...</td>\n",
       "      <td>...</td>\n",
       "      <td>...</td>\n",
       "      <td>...</td>\n",
       "      <td>...</td>\n",
       "      <td>...</td>\n",
       "      <td>...</td>\n",
       "      <td>...</td>\n",
       "    </tr>\n",
       "    <tr>\n",
       "      <th>495</th>\n",
       "      <td>1.327393</td>\n",
       "      <td>54.081114</td>\n",
       "      <td>30.039247</td>\n",
       "      <td>1.153132</td>\n",
       "      <td>0.708757</td>\n",
       "      <td>0.417664</td>\n",
       "      <td>0.914039</td>\n",
       "      <td>24.041866</td>\n",
       "      <td>1.990698</td>\n",
       "    </tr>\n",
       "    <tr>\n",
       "      <th>496</th>\n",
       "      <td>0.053967</td>\n",
       "      <td>42.933431</td>\n",
       "      <td>39.799381</td>\n",
       "      <td>1.572222</td>\n",
       "      <td>0.022975</td>\n",
       "      <td>0.001425</td>\n",
       "      <td>0.999999</td>\n",
       "      <td>3.134050</td>\n",
       "      <td>1894.479620</td>\n",
       "    </tr>\n",
       "    <tr>\n",
       "      <th>497</th>\n",
       "      <td>0.707523</td>\n",
       "      <td>47.145488</td>\n",
       "      <td>30.707064</td>\n",
       "      <td>2.093919</td>\n",
       "      <td>0.684035</td>\n",
       "      <td>0.523123</td>\n",
       "      <td>0.866263</td>\n",
       "      <td>16.438423</td>\n",
       "      <td>2.137193</td>\n",
       "    </tr>\n",
       "    <tr>\n",
       "      <th>498</th>\n",
       "      <td>0.062350</td>\n",
       "      <td>39.405105</td>\n",
       "      <td>32.647363</td>\n",
       "      <td>0.311168</td>\n",
       "      <td>0.053085</td>\n",
       "      <td>1.259628</td>\n",
       "      <td>0.306171</td>\n",
       "      <td>6.757743</td>\n",
       "      <td>354.865964</td>\n",
       "    </tr>\n",
       "    <tr>\n",
       "      <th>499</th>\n",
       "      <td>0.011049</td>\n",
       "      <td>47.549837</td>\n",
       "      <td>45.866743</td>\n",
       "      <td>2.258284</td>\n",
       "      <td>0.139831</td>\n",
       "      <td>0.687488</td>\n",
       "      <td>0.772843</td>\n",
       "      <td>1.683094</td>\n",
       "      <td>51.143914</td>\n",
       "    </tr>\n",
       "  </tbody>\n",
       "</table>\n",
       "<p>500 rows × 9 columns</p>\n",
       "</div>"
      ],
      "text/plain": [
       "            Q         Tw         Ta     theta       eta  \\\n",
       "0    1.711929  53.005339  10.788147  0.321921  0.349083   \n",
       "1    0.067135  20.761340  12.225502  2.705824  0.821069   \n",
       "2    0.034759  39.546739  35.892183  1.873776  0.756082   \n",
       "3    0.417783  33.972185  21.385801  2.089589  0.516134   \n",
       "4    1.667614  50.092173  15.254621  0.328350  0.083327   \n",
       "..        ...        ...        ...       ...       ...   \n",
       "495  1.327393  54.081114  30.039247  1.153132  0.708757   \n",
       "496  0.053967  42.933431  39.799381  1.572222  0.022975   \n",
       "497  0.707523  47.145488  30.707064  2.093919  0.684035   \n",
       "498  0.062350  39.405105  32.647363  0.311168  0.053085   \n",
       "499  0.011049  47.549837  45.866743  2.258284  0.139831   \n",
       "\n",
       "     razlika_med_theta_ in_ pi2  sinus_theta    Tw_-_Ta      1/eta^2  \n",
       "0                      1.248875     0.316390  42.217191     8.206192  \n",
       "1                      1.135028     0.422107   8.535838     1.483341  \n",
       "2                      0.302980     0.954452   3.654556     1.749294  \n",
       "3                      0.518793     0.868418  12.586385     3.753839  \n",
       "4                      1.242446     0.322482  34.837551   144.021782  \n",
       "..                          ...          ...        ...          ...  \n",
       "495                    0.417664     0.914039  24.041866     1.990698  \n",
       "496                    0.001425     0.999999   3.134050  1894.479620  \n",
       "497                    0.523123     0.866263  16.438423     2.137193  \n",
       "498                    1.259628     0.306171   6.757743   354.865964  \n",
       "499                    0.687488     0.772843   1.683094    51.143914  \n",
       "\n",
       "[500 rows x 9 columns]"
      ]
     },
     "execution_count": 88,
     "metadata": {},
     "output_type": "execute_result"
    }
   ],
   "source": [
    "podatki"
   ]
  },
  {
   "cell_type": "code",
   "execution_count": 152,
   "metadata": {},
   "outputs": [
    {
     "name": "stderr",
     "output_type": "stream",
     "text": [
      "c:\\Users\\Uporabnik\\AppData\\Local\\Programs\\Python\\Python311\\Lib\\site-packages\\pysr\\sr.py:1296: UserWarning: Note: it looks like you are running in Jupyter. The progress bar will be turned off.\n",
      "  warnings.warn(\n"
     ]
    },
    {
     "name": "stdout",
     "output_type": "stream",
     "text": [
      "Compiling Julia backend...\n"
     ]
    },
    {
     "name": "stderr",
     "output_type": "stream",
     "text": [
      "c:\\Users\\Uporabnik\\AppData\\Local\\Programs\\Python\\Python311\\Lib\\site-packages\\julia\\juliainfo.py:93: UserWarning: julia warned:\n",
      "The latest version of Julia in the `release` channel is 1.9.1+0.x64.w64.mingw32. You currently have `1.9.0+0.x64.w64.mingw32` installed. Run:\n",
      "\n",
      "  juliaup update\n",
      "\n",
      "to install Julia 1.9.1+0.x64.w64.mingw32 and update the `release` channel to that version.\n",
      "  warnings.warn(\"{} warned:\\n{}\".format(julia, stderr))\n"
     ]
    },
    {
     "name": "stdout",
     "output_type": "stream",
     "text": [
      "PySRRegressor.equations_ = [\n",
      "\t    pick     score                                           equation  \\\n",
      "\t0         0.000000                                        sinus_theta   \n",
      "\t1         0.292235                        (0.056379296 * Tw_minus_Ta)   \n",
      "\t2         0.285201                  square(Tw_minus_Ta * 0.045700118)   \n",
      "\t3         0.307830        ((Tw_minus_Ta * 0.087604776) * sinus_theta)   \n",
      "\t4         0.926354  (square(Tw_minus_Ta * -0.05715749) * sinus_theta)   \n",
      "\t5         0.400656  (square((Tw_minus_Ta * -0.071140714) + eta) * ...   \n",
      "\t6         1.074180  (square((Tw_minus_Ta * cos(eta)) * 0.065970734...   \n",
      "\t7   >>>>  0.178153  ((square(Tw_minus_Ta * 0.059228055) / (0.67033...   \n",
      "\t8         0.172884  ((square(Tw_minus_Ta * -0.051895067) * sinus_t...   \n",
      "\t9         0.070161  ((square(Tw_minus_Ta * -0.045416106) * sinus_t...   \n",
      "\t10        0.000007  (square(Tw_minus_Ta * -0.042200424) / (sqrt(0....   \n",
      "\t11        0.001132  ((square(Tw_minus_Ta * -0.04543934) * (sinus_t...   \n",
      "\t12        0.009822  ((square(Tw_minus_Ta * -0.0452107) * sinus_the...   \n",
      "\t13        0.005512  ((square(Tw_minus_Ta * -0.0452107) / sqrt(0.19...   \n",
      "\t14        0.104344  ((square((Tw_minus_Ta - sin(eta_2 / Ta)) * 0.0...   \n",
      "\t15        0.002654  ((square((Tw_minus_Ta - sin(eta_2 / Ta)) * 0.0...   \n",
      "\t16        0.014964  ((square((Tw_minus_Ta - sin(eta_2 / (Ta + 0.26...   \n",
      "\t17        0.002606  ((square((Tw_minus_Ta - sin(eta_2 / (Ta + 0.26...   \n",
      "\t\n",
      "\t        loss  complexity  \n",
      "\t0   1.025619           1  \n",
      "\t1   0.571682           3  \n",
      "\t2   0.429826           4  \n",
      "\t3   0.315940           5  \n",
      "\t4   0.125110           6  \n",
      "\t5   0.056142           8  \n",
      "\t6   0.019177           9  \n",
      "\t7   0.016047          10  \n",
      "\t8   0.013500          11  \n",
      "\t9   0.012585          12  \n",
      "\t10  0.012585          13  \n",
      "\t11  0.012571          14  \n",
      "\t12  0.012448          15  \n",
      "\t13  0.012379          16  \n",
      "\t14  0.011153          17  \n",
      "\t15  0.011123          18  \n",
      "\t16  0.010958          19  \n",
      "\t17  0.010929          20  \n",
      "]\n"
     ]
    }
   ],
   "source": [
    "from pysr import PySRRegressor\n",
    "\n",
    "model = PySRRegressor(\n",
    "    niterations= 1000,\n",
    "    binary_operators=['+','*','-','^','/'],\n",
    "    unary_operators=['cos', 'sin', 'sqrt', 'square'],\n",
    "    loss='loss(prediction, target) = (prediction - target)^2'\n",
    ")\n",
    "\n",
    "X = podatki.drop(\"Q\", axis=1)\n",
    "y = podatki[\"Q\"]\n",
    "\n",
    "model.fit(X,y)\n",
    "model.latex()\n",
    "print(model)"
   ]
  },
  {
   "attachments": {},
   "cell_type": "markdown",
   "metadata": {},
   "source": [
    "Zmagovalni model"
   ]
  },
  {
   "cell_type": "code",
   "execution_count": 154,
   "metadata": {},
   "outputs": [
    {
     "data": {
      "text/plain": [
       "0.0160474864686204"
      ]
     },
     "execution_count": 154,
     "metadata": {},
     "output_type": "execute_result"
    }
   ],
   "source": [
    "Q_pysr = ((podatki['Tw_minus_Ta'] * 0.059228055)**2 / (0.670336 + podatki['eta'])) * podatki['sinus_theta']\n",
    "mse_pysr = mean_squared_error(podatki['Q'], Q_pysr)\n",
    "mse_pysr"
   ]
  }
 ],
 "metadata": {
  "kernelspec": {
   "display_name": "Python 3",
   "language": "python",
   "name": "python3"
  },
  "language_info": {
   "codemirror_mode": {
    "name": "ipython",
    "version": 3
   },
   "file_extension": ".py",
   "mimetype": "text/x-python",
   "name": "python",
   "nbconvert_exporter": "python",
   "pygments_lexer": "ipython3",
   "version": "3.11.2"
  },
  "orig_nbformat": 4
 },
 "nbformat": 4,
 "nbformat_minor": 2
}
