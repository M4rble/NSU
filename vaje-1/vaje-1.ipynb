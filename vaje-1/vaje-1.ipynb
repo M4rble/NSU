{
 "cells": [
  {
   "attachments": {},
   "cell_type": "markdown",
   "metadata": {},
   "source": [
    "# NSU, vaje 1: osnove strojnega učenja v Pythonu"
   ]
  },
  {
   "cell_type": "code",
   "execution_count": 1,
   "metadata": {},
   "outputs": [],
   "source": [
    "import numpy as np\n",
    "import pandas as pd"
   ]
  },
  {
   "attachments": {},
   "cell_type": "markdown",
   "metadata": {},
   "source": [
    "### A: obdelava podatkov\n",
    "A.1: Naložite podatke iz CSV datoteke s paketom **pandas**. "
   ]
  },
  {
   "cell_type": "code",
   "execution_count": 2,
   "metadata": {},
   "outputs": [
    {
     "data": {
      "text/html": [
       "<div>\n",
       "<style scoped>\n",
       "    .dataframe tbody tr th:only-of-type {\n",
       "        vertical-align: middle;\n",
       "    }\n",
       "\n",
       "    .dataframe tbody tr th {\n",
       "        vertical-align: top;\n",
       "    }\n",
       "\n",
       "    .dataframe thead th {\n",
       "        text-align: right;\n",
       "    }\n",
       "</style>\n",
       "<table border=\"1\" class=\"dataframe\">\n",
       "  <thead>\n",
       "    <tr style=\"text-align: right;\">\n",
       "      <th></th>\n",
       "      <th>X1</th>\n",
       "      <th>X2</th>\n",
       "      <th>X3</th>\n",
       "      <th>X4</th>\n",
       "      <th>X5</th>\n",
       "      <th>X6</th>\n",
       "      <th>Y</th>\n",
       "    </tr>\n",
       "  </thead>\n",
       "  <tbody>\n",
       "    <tr>\n",
       "      <th>1</th>\n",
       "      <td>0.452553</td>\n",
       "      <td>69.113756</td>\n",
       "      <td>-2.558555</td>\n",
       "      <td>car</td>\n",
       "      <td>23.210163</td>\n",
       "      <td>NaN</td>\n",
       "      <td>1</td>\n",
       "    </tr>\n",
       "    <tr>\n",
       "      <th>2</th>\n",
       "      <td>0.865373</td>\n",
       "      <td>39.855286</td>\n",
       "      <td>-0.727901</td>\n",
       "      <td>bike</td>\n",
       "      <td>24.136736</td>\n",
       "      <td>NaN</td>\n",
       "      <td>0</td>\n",
       "    </tr>\n",
       "    <tr>\n",
       "      <th>3</th>\n",
       "      <td>NaN</td>\n",
       "      <td>82.321769</td>\n",
       "      <td>-6.092819</td>\n",
       "      <td>bike</td>\n",
       "      <td>70.441331</td>\n",
       "      <td>937875.790987164</td>\n",
       "      <td>0</td>\n",
       "    </tr>\n",
       "    <tr>\n",
       "      <th>4</th>\n",
       "      <td>0.568116</td>\n",
       "      <td>82.638111</td>\n",
       "      <td>-8.248877</td>\n",
       "      <td>car</td>\n",
       "      <td>NaN</td>\n",
       "      <td>197308.828588575</td>\n",
       "      <td>1</td>\n",
       "    </tr>\n",
       "    <tr>\n",
       "      <th>5</th>\n",
       "      <td>0.936621</td>\n",
       "      <td>34.460152</td>\n",
       "      <td>-9.577684</td>\n",
       "      <td>NaN</td>\n",
       "      <td>46.773121</td>\n",
       "      <td>253860.316937789</td>\n",
       "      <td>0</td>\n",
       "    </tr>\n",
       "    <tr>\n",
       "      <th>...</th>\n",
       "      <td>...</td>\n",
       "      <td>...</td>\n",
       "      <td>...</td>\n",
       "      <td>...</td>\n",
       "      <td>...</td>\n",
       "      <td>...</td>\n",
       "      <td>...</td>\n",
       "    </tr>\n",
       "    <tr>\n",
       "      <th>496</th>\n",
       "      <td>0.062005</td>\n",
       "      <td>1.529036</td>\n",
       "      <td>NaN</td>\n",
       "      <td>train</td>\n",
       "      <td>96.551636</td>\n",
       "      <td>NaN</td>\n",
       "      <td>0</td>\n",
       "    </tr>\n",
       "    <tr>\n",
       "      <th>497</th>\n",
       "      <td>0.293445</td>\n",
       "      <td>66.051744</td>\n",
       "      <td>8.402215</td>\n",
       "      <td>NaN</td>\n",
       "      <td>83.083566</td>\n",
       "      <td>410337.066976354</td>\n",
       "      <td>0</td>\n",
       "    </tr>\n",
       "    <tr>\n",
       "      <th>498</th>\n",
       "      <td>NaN</td>\n",
       "      <td>27.250772</td>\n",
       "      <td>7.462399</td>\n",
       "      <td>train</td>\n",
       "      <td>54.262281</td>\n",
       "      <td>NaN</td>\n",
       "      <td>0</td>\n",
       "    </tr>\n",
       "    <tr>\n",
       "      <th>499</th>\n",
       "      <td>NaN</td>\n",
       "      <td>45.993650</td>\n",
       "      <td>NaN</td>\n",
       "      <td>train</td>\n",
       "      <td>84.765766</td>\n",
       "      <td>768879.832467064</td>\n",
       "      <td>0</td>\n",
       "    </tr>\n",
       "    <tr>\n",
       "      <th>500</th>\n",
       "      <td>0.815238</td>\n",
       "      <td>36.760951</td>\n",
       "      <td>-5.379489</td>\n",
       "      <td>NaN</td>\n",
       "      <td>18.727611</td>\n",
       "      <td>448788.94998692</td>\n",
       "      <td>1</td>\n",
       "    </tr>\n",
       "  </tbody>\n",
       "</table>\n",
       "<p>500 rows × 7 columns</p>\n",
       "</div>"
      ],
      "text/plain": [
       "           X1         X2        X3     X4         X5                X6  Y\n",
       "1    0.452553  69.113756 -2.558555    car  23.210163               NaN  1\n",
       "2    0.865373  39.855286 -0.727901   bike  24.136736               NaN  0\n",
       "3         NaN  82.321769 -6.092819   bike  70.441331  937875.790987164  0\n",
       "4    0.568116  82.638111 -8.248877    car        NaN  197308.828588575  1\n",
       "5    0.936621  34.460152 -9.577684    NaN  46.773121  253860.316937789  0\n",
       "..        ...        ...       ...    ...        ...               ... ..\n",
       "496  0.062005   1.529036       NaN  train  96.551636               NaN  0\n",
       "497  0.293445  66.051744  8.402215    NaN  83.083566  410337.066976354  0\n",
       "498       NaN  27.250772  7.462399  train  54.262281               NaN  0\n",
       "499       NaN  45.993650       NaN  train  84.765766  768879.832467064  0\n",
       "500  0.815238  36.760951 -5.379489    NaN  18.727611   448788.94998692  1\n",
       "\n",
       "[500 rows x 7 columns]"
      ]
     },
     "execution_count": 2,
     "metadata": {},
     "output_type": "execute_result"
    }
   ],
   "source": [
    "df = pd.read_csv(\"podatki.csv\", index_col = 0)\n",
    "df"
   ]
  },
  {
   "attachments": {},
   "cell_type": "markdown",
   "metadata": {},
   "source": [
    "A.2: Osnovne informacij o podatkih. Izpišite prvih nekaj vrstic podatkov in si jih oglejte, nato pa izpišite še:\n",
    "- število vrstic in stolpcev\n",
    "- vrsto spremenljivke v vsakem stolpcu (v pomoč je funkcija **dtypes**), \n",
    "- povzetek statistike (pandas nam pomaga z **describe**), \n",
    "- število manjkajočih vrednosti v vsakem stolpcu (koristna je funkcija **isnull**)."
   ]
  },
  {
   "cell_type": "code",
   "execution_count": 3,
   "metadata": {},
   "outputs": [
    {
     "name": "stdout",
     "output_type": "stream",
     "text": [
      "<bound method NDFrame.head of            X1         X2        X3     X4         X5                X6  Y\n",
      "1    0.452553  69.113756 -2.558555    car  23.210163               NaN  1\n",
      "2    0.865373  39.855286 -0.727901   bike  24.136736               NaN  0\n",
      "3         NaN  82.321769 -6.092819   bike  70.441331  937875.790987164  0\n",
      "4    0.568116  82.638111 -8.248877    car        NaN  197308.828588575  1\n",
      "5    0.936621  34.460152 -9.577684    NaN  46.773121  253860.316937789  0\n",
      "..        ...        ...       ...    ...        ...               ... ..\n",
      "496  0.062005   1.529036       NaN  train  96.551636               NaN  0\n",
      "497  0.293445  66.051744  8.402215    NaN  83.083566  410337.066976354  0\n",
      "498       NaN  27.250772  7.462399  train  54.262281               NaN  0\n",
      "499       NaN  45.993650       NaN  train  84.765766  768879.832467064  0\n",
      "500  0.815238  36.760951 -5.379489    NaN  18.727611   448788.94998692  1\n",
      "\n",
      "[500 rows x 7 columns]>\n",
      "7 500\n",
      "X1    float64\n",
      "X2    float64\n",
      "X3    float64\n",
      "X4     object\n",
      "X5    float64\n",
      "X6     object\n",
      "Y       int64\n",
      "dtype: object\n",
      "               X1          X2          X3          X5           Y\n",
      "count  417.000000  425.000000  401.000000  418.000000  500.000000\n",
      "mean     0.480240   49.712517   -0.326907   50.498433    0.376000\n",
      "std      0.284564   28.518534    5.705867   29.939186    0.484865\n",
      "min      0.002002    0.185484   -9.974356    0.048450    0.000000\n",
      "25%      0.241174   25.220756   -5.220926   24.334954    0.000000\n",
      "50%      0.466964   50.124783   -0.611887   49.792287    0.000000\n",
      "75%      0.722863   74.834014    4.451901   78.042819    1.000000\n",
      "max      0.999430   99.852905    9.928626   99.584908    1.000000\n"
     ]
    },
    {
     "data": {
      "text/plain": [
       "X1     83\n",
       "X2     75\n",
       "X3     99\n",
       "X4     91\n",
       "X5     82\n",
       "X6    134\n",
       "Y       0\n",
       "dtype: int64"
      ]
     },
     "execution_count": 3,
     "metadata": {},
     "output_type": "execute_result"
    }
   ],
   "source": [
    "print(df.head)\n",
    "st_stolpcev = len(df.columns)\n",
    "st_vrstic = len(df.index)\n",
    "print(st_stolpcev, st_vrstic)\n",
    "print(df.dtypes)\n",
    "print(df.describe())\n",
    "df.isnull().sum()"
   ]
  },
  {
   "attachments": {},
   "cell_type": "markdown",
   "metadata": {},
   "source": [
    "A.3: Očistite podatke tako, da odpravite manjkajoče vrednosti. Na stolpcih, v katerih manjka manj kot petina vrednosti, izvedete imputacijo manjkajočih vrednosti s povprečjem oziroma najpogostejšo vrednostjo. Stolpce, v katerih manjka več kot petina vrednosti, odstranite."
   ]
  },
  {
   "cell_type": "code",
   "execution_count": 4,
   "metadata": {},
   "outputs": [
    {
     "name": "stdout",
     "output_type": "stream",
     "text": [
      "         X1         X2        X3    X4         X5  Y\n",
      "1  0.452553  69.113756 -2.558555   car  23.210163  1\n",
      "2  0.865373  39.855286 -0.727901  bike  24.136736  0\n",
      "3  0.480240  82.321769 -6.092819  bike  70.441331  0\n",
      "4  0.568116  82.638111 -8.248877   car  50.498433  1\n",
      "5  0.936621  34.460152 -9.577684   car  46.773121  0\n"
     ]
    }
   ],
   "source": [
    "for column in df:\n",
    "    if df[column].isnull().sum()/len(df[column]) > 1/5:\n",
    "        df.drop(column, inplace=True, axis=1)\n",
    "    elif df[column].dtypes == \"float64\":\n",
    "        df[column] = df[column].fillna(df[column].mean())\n",
    "    else:\n",
    "        df[column] = df[column].fillna(df[column].mode()[0])\n",
    "print(df.head())"
   ]
  },
  {
   "attachments": {},
   "cell_type": "markdown",
   "metadata": {},
   "source": [
    "A.4: Narišite grafe, ki vam bodo pomagali razumeti značilnosti podatkov:\n",
    "- histogrami značilk in ciljne spremenljivke (pandas nudi **hist**)\n",
    "- korelacijska matrika (pandas nudi tudi **corr**)"
   ]
  },
  {
   "cell_type": "code",
   "execution_count": 6,
   "metadata": {},
   "outputs": [
    {
     "data": {
      "text/plain": [
       "array([[<Axes: title={'center': 'X1'}>, <Axes: title={'center': 'X2'}>],\n",
       "       [<Axes: title={'center': 'X3'}>, <Axes: title={'center': 'X5'}>],\n",
       "       [<Axes: title={'center': 'Y'}>, <Axes: >]], dtype=object)"
      ]
     },
     "execution_count": 6,
     "metadata": {},
     "output_type": "execute_result"
    },
    {
     "data": {
      "image/png": "[encoded data removed]",
      "text/plain": [
       "<Figure size 640x480 with 6 Axes>"
      ]
     },
     "metadata": {},
     "output_type": "display_data"
    }
   ],
   "source": [
    "df.hist()"
   ]
  },
  {
   "cell_type": "code",
   "execution_count": 7,
   "metadata": {},
   "outputs": [
    {
     "name": "stderr",
     "output_type": "stream",
     "text": [
      "C:\\Users\\Uporabnik\\AppData\\Local\\Temp\\ipykernel_10144\\1134722465.py:1: FutureWarning: The default value of numeric_only in DataFrame.corr is deprecated. In a future version, it will default to False. Select only valid columns or specify the value of numeric_only to silence this warning.\n",
      "  df.corr()\n"
     ]
    },
    {
     "data": {
      "text/html": [
       "<div>\n",
       "<style scoped>\n",
       "    .dataframe tbody tr th:only-of-type {\n",
       "        vertical-align: middle;\n",
       "    }\n",
       "\n",
       "    .dataframe tbody tr th {\n",
       "        vertical-align: top;\n",
       "    }\n",
       "\n",
       "    .dataframe thead th {\n",
       "        text-align: right;\n",
       "    }\n",
       "</style>\n",
       "<table border=\"1\" class=\"dataframe\">\n",
       "  <thead>\n",
       "    <tr style=\"text-align: right;\">\n",
       "      <th></th>\n",
       "      <th>X1</th>\n",
       "      <th>X2</th>\n",
       "      <th>X3</th>\n",
       "      <th>X5</th>\n",
       "      <th>Y</th>\n",
       "    </tr>\n",
       "  </thead>\n",
       "  <tbody>\n",
       "    <tr>\n",
       "      <th>X1</th>\n",
       "      <td>1.000000</td>\n",
       "      <td>-0.024074</td>\n",
       "      <td>0.014056</td>\n",
       "      <td>0.022152</td>\n",
       "      <td>-0.007998</td>\n",
       "    </tr>\n",
       "    <tr>\n",
       "      <th>X2</th>\n",
       "      <td>-0.024074</td>\n",
       "      <td>1.000000</td>\n",
       "      <td>-0.046150</td>\n",
       "      <td>0.053113</td>\n",
       "      <td>-0.197583</td>\n",
       "    </tr>\n",
       "    <tr>\n",
       "      <th>X3</th>\n",
       "      <td>0.014056</td>\n",
       "      <td>-0.046150</td>\n",
       "      <td>1.000000</td>\n",
       "      <td>0.029721</td>\n",
       "      <td>-0.053161</td>\n",
       "    </tr>\n",
       "    <tr>\n",
       "      <th>X5</th>\n",
       "      <td>0.022152</td>\n",
       "      <td>0.053113</td>\n",
       "      <td>0.029721</td>\n",
       "      <td>1.000000</td>\n",
       "      <td>-0.031855</td>\n",
       "    </tr>\n",
       "    <tr>\n",
       "      <th>Y</th>\n",
       "      <td>-0.007998</td>\n",
       "      <td>-0.197583</td>\n",
       "      <td>-0.053161</td>\n",
       "      <td>-0.031855</td>\n",
       "      <td>1.000000</td>\n",
       "    </tr>\n",
       "  </tbody>\n",
       "</table>\n",
       "</div>"
      ],
      "text/plain": [
       "          X1        X2        X3        X5         Y\n",
       "X1  1.000000 -0.024074  0.014056  0.022152 -0.007998\n",
       "X2 -0.024074  1.000000 -0.046150  0.053113 -0.197583\n",
       "X3  0.014056 -0.046150  1.000000  0.029721 -0.053161\n",
       "X5  0.022152  0.053113  0.029721  1.000000 -0.031855\n",
       "Y  -0.007998 -0.197583 -0.053161 -0.031855  1.000000"
      ]
     },
     "execution_count": 7,
     "metadata": {},
     "output_type": "execute_result"
    }
   ],
   "source": [
    "df.corr()"
   ]
  },
  {
   "attachments": {},
   "cell_type": "markdown",
   "metadata": {},
   "source": [
    "A.5: V nadaljevanju bomo za strojno učenje uporabljali knjižnico **scikit-learn**, ki ima pomembno omejitev: direktno ne podpira kategoričnih značilk, kot je X4 v naših podatkih. Reši to zagato z uporabo kodirnika **sklearn.preprocessing.OneHotEncoder**."
   ]
  },
  {
   "attachments": {},
   "cell_type": "markdown",
   "metadata": {},
   "source": [
    "Kako deluje:\n",
    "- orodje = .... (nastavitve)\n",
    "- orodje.fit(podatki)\n",
    "- podatki2 = orodje.transform(podatki)\n",
    "\n",
    "skupaj: orodje.fit_transform"
   ]
  },
  {
   "cell_type": "code",
   "execution_count": 8,
   "metadata": {},
   "outputs": [
    {
     "name": "stdout",
     "output_type": "stream",
     "text": [
      "   X4_bike  X4_car  X4_train        X1         X2        X3         X5  Y\n",
      "1      0.0     1.0       0.0  0.452553  69.113756 -2.558555  23.210163  1\n",
      "2      1.0     0.0       0.0  0.865373  39.855286 -0.727901  24.136736  0\n",
      "3      1.0     0.0       0.0  0.480240  82.321769 -6.092819  70.441331  0\n",
      "4      0.0     1.0       0.0  0.568116  82.638111 -8.248877  50.498433  1\n",
      "5      0.0     1.0       0.0  0.936621  34.460152 -9.577684  46.773121  0\n"
     ]
    },
    {
     "name": "stderr",
     "output_type": "stream",
     "text": [
      "c:\\Users\\Uporabnik\\AppData\\Local\\Programs\\Python\\Python311\\Lib\\site-packages\\sklearn\\preprocessing\\_encoders.py:868: FutureWarning: `sparse` was renamed to `sparse_output` in version 1.2 and will be removed in 1.4. `sparse_output` is ignored unless you leave `sparse` to its default value.\n",
      "  warnings.warn(\n"
     ]
    }
   ],
   "source": [
    "from sklearn.preprocessing import OneHotEncoder\n",
    "\n",
    "# izberemo kategorične stolpce\n",
    "categorical_cols = df.columns[df.dtypes == \"object\"]\n",
    "\n",
    "# ustvarimo encoder za kodiranje\n",
    "OH_encoder = OneHotEncoder(sparse=False)\n",
    "# izvedemo kodiranje\n",
    "OH_cols = OH_encoder.fit_transform(df[categorical_cols])\n",
    "\n",
    "# sestavimo df z enkodiranimi stolpci namesto originalnih\n",
    "OH_cols = pd.DataFrame(OH_cols, columns = OH_encoder.get_feature_names_out())\n",
    "OH_cols.index = df.index\n",
    "numeric_data = df.drop(categorical_cols, axis = 1)\n",
    "data = pd.concat([OH_cols, numeric_data], axis=1)\n",
    "\n",
    "# preverimo\n",
    "print(data.head())"
   ]
  },
  {
   "attachments": {},
   "cell_type": "markdown",
   "metadata": {},
   "source": [
    "### B: Binarna klasifikacija s scikit-learn\n",
    "\n",
    "B.1: Na celotnih podatkih natreniraj model najbližjih sosedov (**sklearn.neighbors.KNeighborsClassifier**)."
   ]
  },
  {
   "cell_type": "code",
   "execution_count": 9,
   "metadata": {},
   "outputs": [
    {
     "data": {
      "text/html": [
       "<style>#sk-container-id-1 {color: black;background-color: white;}#sk-container-id-1 pre{padding: 0;}#sk-container-id-1 div.sk-toggleable {background-color: white;}#sk-container-id-1 label.sk-toggleable__label {cursor: pointer;display: block;width: 100%;margin-bottom: 0;padding: 0.3em;box-sizing: border-box;text-align: center;}#sk-container-id-1 label.sk-toggleable__label-arrow:before {content: \"▸\";float: left;margin-right: 0.25em;color: #696969;}#sk-container-id-1 label.sk-toggleable__label-arrow:hover:before {color: black;}#sk-container-id-1 div.sk-estimator:hover label.sk-toggleable__label-arrow:before {color: black;}#sk-container-id-1 div.sk-toggleable__content {max-height: 0;max-width: 0;overflow: hidden;text-align: left;background-color: #f0f8ff;}#sk-container-id-1 div.sk-toggleable__content pre {margin: 0.2em;color: black;border-radius: 0.25em;background-color: #f0f8ff;}#sk-container-id-1 input.sk-toggleable__control:checked~div.sk-toggleable__content {max-height: 200px;max-width: 100%;overflow: auto;}#sk-container-id-1 input.sk-toggleable__control:checked~label.sk-toggleable__label-arrow:before {content: \"▾\";}#sk-container-id-1 div.sk-estimator input.sk-toggleable__control:checked~label.sk-toggleable__label {background-color: #d4ebff;}#sk-container-id-1 div.sk-label input.sk-toggleable__control:checked~label.sk-toggleable__label {background-color: #d4ebff;}#sk-container-id-1 input.sk-hidden--visually {border: 0;clip: rect(1px 1px 1px 1px);clip: rect(1px, 1px, 1px, 1px);height: 1px;margin: -1px;overflow: hidden;padding: 0;position: absolute;width: 1px;}#sk-container-id-1 div.sk-estimator {font-family: monospace;background-color: #f0f8ff;border: 1px dotted black;border-radius: 0.25em;box-sizing: border-box;margin-bottom: 0.5em;}#sk-container-id-1 div.sk-estimator:hover {background-color: #d4ebff;}#sk-container-id-1 div.sk-parallel-item::after {content: \"\";width: 100%;border-bottom: 1px solid gray;flex-grow: 1;}#sk-container-id-1 div.sk-label:hover label.sk-toggleable__label {background-color: #d4ebff;}#sk-container-id-1 div.sk-serial::before {content: \"\";position: absolute;border-left: 1px solid gray;box-sizing: border-box;top: 0;bottom: 0;left: 50%;z-index: 0;}#sk-container-id-1 div.sk-serial {display: flex;flex-direction: column;align-items: center;background-color: white;padding-right: 0.2em;padding-left: 0.2em;position: relative;}#sk-container-id-1 div.sk-item {position: relative;z-index: 1;}#sk-container-id-1 div.sk-parallel {display: flex;align-items: stretch;justify-content: center;background-color: white;position: relative;}#sk-container-id-1 div.sk-item::before, #sk-container-id-1 div.sk-parallel-item::before {content: \"\";position: absolute;border-left: 1px solid gray;box-sizing: border-box;top: 0;bottom: 0;left: 50%;z-index: -1;}#sk-container-id-1 div.sk-parallel-item {display: flex;flex-direction: column;z-index: 1;position: relative;background-color: white;}#sk-container-id-1 div.sk-parallel-item:first-child::after {align-self: flex-end;width: 50%;}#sk-container-id-1 div.sk-parallel-item:last-child::after {align-self: flex-start;width: 50%;}#sk-container-id-1 div.sk-parallel-item:only-child::after {width: 0;}#sk-container-id-1 div.sk-dashed-wrapped {border: 1px dashed gray;margin: 0 0.4em 0.5em 0.4em;box-sizing: border-box;padding-bottom: 0.4em;background-color: white;}#sk-container-id-1 div.sk-label label {font-family: monospace;font-weight: bold;display: inline-block;line-height: 1.2em;}#sk-container-id-1 div.sk-label-container {text-align: center;}#sk-container-id-1 div.sk-container {/* jupyter's `normalize.less` sets `[hidden] { display: none; }` but bootstrap.min.css set `[hidden] { display: none !important; }` so we also need the `!important` here to be able to override the default hidden behavior on the sphinx rendered scikit-learn.org. See: https://github.com/scikit-learn/scikit-learn/issues/21755 */display: inline-block !important;position: relative;}#sk-container-id-1 div.sk-text-repr-fallback {display: none;}</style><div id=\"sk-container-id-1\" class=\"sk-top-container\"><div class=\"sk-text-repr-fallback\"><pre>KNeighborsClassifier(n_neighbors=2)</pre><b>In a Jupyter environment, please rerun this cell to show the HTML representation or trust the notebook. <br />On GitHub, the HTML representation is unable to render, please try loading this page with nbviewer.org.</b></div><div class=\"sk-container\" hidden><div class=\"sk-item\"><div class=\"sk-estimator sk-toggleable\"><input class=\"sk-toggleable__control sk-hidden--visually\" id=\"sk-estimator-id-1\" type=\"checkbox\" checked><label for=\"sk-estimator-id-1\" class=\"sk-toggleable__label sk-toggleable__label-arrow\">KNeighborsClassifier</label><div class=\"sk-toggleable__content\"><pre>KNeighborsClassifier(n_neighbors=2)</pre></div></div></div></div></div>"
      ],
      "text/plain": [
       "KNeighborsClassifier(n_neighbors=2)"
      ]
     },
     "execution_count": 9,
     "metadata": {},
     "output_type": "execute_result"
    }
   ],
   "source": [
    "from sklearn.neighbors import KNeighborsClassifier\n",
    "\n",
    "X = data.drop(\"Y\", axis = 1)\n",
    "y = data[\"Y\"]\n",
    "\n",
    "# Instanciramo model KNN za k = 2\n",
    "knn = KNeighborsClassifier(2)\n",
    "# naučimo model\n",
    "knn.fit(X,y)"
   ]
  },
  {
   "attachments": {},
   "cell_type": "markdown",
   "metadata": {},
   "source": [
    "B.2: Izračunaj natančnost modela na učni množici (celotnih podatkih)."
   ]
  },
  {
   "cell_type": "code",
   "execution_count": 10,
   "metadata": {},
   "outputs": [
    {
     "name": "stdout",
     "output_type": "stream",
     "text": [
      "0.806\n"
     ]
    }
   ],
   "source": [
    "from sklearn.metrics import accuracy_score\n",
    "\n",
    "# napovedi na učni množici\n",
    "predicted = knn.predict(X)\n",
    "# knn.predict_proba(X)\n",
    "\n",
    "acc = accuracy_score(y, predicted)\n",
    "print(acc)"
   ]
  },
  {
   "cell_type": "code",
   "execution_count": 11,
   "metadata": {},
   "outputs": [
    {
     "data": {
      "text/plain": [
       "0.806"
      ]
     },
     "execution_count": 11,
     "metadata": {},
     "output_type": "execute_result"
    }
   ],
   "source": [
    "# še na roke\n",
    "sum(predicted == y)/len(y)"
   ]
  },
  {
   "cell_type": "code",
   "execution_count": 12,
   "metadata": {},
   "outputs": [
    {
     "name": "stdout",
     "output_type": "stream",
     "text": [
      "0.8059999999999998\n"
     ]
    }
   ],
   "source": [
    "# še na roke po Tinetovo\n",
    "print(1 - sum(abs(y-predicted)/len(y)))"
   ]
  },
  {
   "attachments": {},
   "cell_type": "markdown",
   "metadata": {},
   "source": [
    "Pride isto, odlično!"
   ]
  },
  {
   "attachments": {},
   "cell_type": "markdown",
   "metadata": {},
   "source": [
    "B.3: Ocena na učnih podatkih ni dovolj dobra, saj nam ne zagotavlja, da bo model dobro deloval na novih podatkih. Model lahko preprosto zapomni vse podatke v učni množici, vendar ne bo deloval dobro na novih podatkih. Boljša metoda bi bila, da model preskusimo na novih podatkih. Da oceniš sposobnost generaliziranja, razdeli podatke podatkov na učno in testno množico v razmerju 4:1. Pri tem si lahko pomagaš s funkcijo **sklearn.validation.train_test_split**. \n",
    "Potem na novo natreniraj model na učni množici ter izračunaj njegovo natančnost na testni množici.\n",
    "\n",
    "Opomba: deljenje na učno in testno množico vključuje element naključnosti. Za ponovljive poskuse moramo nastaviti seme naključnega generatorja, npr. **np.random.seed(0)**."
   ]
  },
  {
   "cell_type": "code",
   "execution_count": 13,
   "metadata": {},
   "outputs": [
    {
     "name": "stdout",
     "output_type": "stream",
     "text": [
      "0.63\n"
     ]
    }
   ],
   "source": [
    "from sklearn.model_selection import train_test_split\n",
    "\n",
    "X_train, X_test, y_train, y_test = train_test_split(X, y, test_size=0.2, random_state=42)\n",
    "\n",
    "# naučimo model\n",
    "knn.fit(X_train,y_train)\n",
    "\n",
    "# preverimo natančnost na testni množici\n",
    "predicted_2  = knn.predict(X_test)\n",
    "\n",
    "acc2 = accuracy_score(y_test, predicted_2)\n",
    "print(acc2)"
   ]
  },
  {
   "attachments": {},
   "cell_type": "markdown",
   "metadata": {},
   "source": [
    "B.4: Se ti zdi, da model deluje dobro? \n",
    "Metoda najbližjih sosedov je lahko občutljiva na relativne magnitude značilk. Poskusi podatke skalirati z standardno transformacijo $x_i' = \\frac{x_i-\\bar{x_i}}{\\sigma_{x_i}}$. Pomagaš si lahko s **sklearn.preprocessing.StandardScaler**.\n",
    "Metoda najbližjih sosedov ima tudi en pomemben *hiperparameter*: število sosedov. Nariši graf odvisnosti natančnosti modela (na skaliranih podatkih) v odvisnosti od števila sosedov 1-30. Katero je najboljše?"
   ]
  },
  {
   "cell_type": "code",
   "execution_count": 14,
   "metadata": {},
   "outputs": [
    {
     "data": {
      "text/plain": [
       "[0.7,\n",
       " 0.69,\n",
       " 0.65,\n",
       " 0.65,\n",
       " 0.67,\n",
       " 0.69,\n",
       " 0.71,\n",
       " 0.72,\n",
       " 0.75,\n",
       " 0.72,\n",
       " 0.71,\n",
       " 0.72,\n",
       " 0.68,\n",
       " 0.71,\n",
       " 0.7,\n",
       " 0.75,\n",
       " 0.72,\n",
       " 0.73,\n",
       " 0.7,\n",
       " 0.75,\n",
       " 0.71,\n",
       " 0.73,\n",
       " 0.73,\n",
       " 0.75,\n",
       " 0.72,\n",
       " 0.73,\n",
       " 0.72,\n",
       " 0.77,\n",
       " 0.76,\n",
       " 0.74]"
      ]
     },
     "execution_count": 14,
     "metadata": {},
     "output_type": "execute_result"
    }
   ],
   "source": [
    "from sklearn.preprocessing import StandardScaler\n",
    "\n",
    "scaler = StandardScaler()\n",
    "\n",
    "X_train_scaled = scaler.fit_transform(X_train)\n",
    "X_test_scaled = scaler.fit_transform(X_test)\n",
    "\n",
    "k_seznam = list(range(1,31))\n",
    "seznam_acc = []\n",
    "for k in k_seznam:\n",
    "    knn = KNeighborsClassifier(k)\n",
    "    knn.fit(X_train_scaled,y_train)\n",
    "    predicted = knn.predict(X_test_scaled)\n",
    "    acc = accuracy_score(y_test, predicted)\n",
    "    seznam_acc.append(acc)\n",
    "\n",
    "seznam_acc"
   ]
  },
  {
   "cell_type": "code",
   "execution_count": 15,
   "metadata": {},
   "outputs": [
    {
     "data": {
      "text/plain": [
       "Text(0, 0.5, 'Accuracy')"
      ]
     },
     "execution_count": 15,
     "metadata": {},
     "output_type": "execute_result"
    },
    {
     "data": {
      "image/png": "[encoded data removed]",
      "text/plain": [
       "<Figure size 640x480 with 1 Axes>"
      ]
     },
     "metadata": {},
     "output_type": "display_data"
    }
   ],
   "source": [
    "import matplotlib.pyplot as plt\n",
    "plt.plot(k_seznam, seznam_acc)\n",
    "plt.title('Accuracy in relation to k for KNN model')\n",
    "plt.xlabel('k')\n",
    "plt.ylabel('Accuracy')"
   ]
  },
  {
   "attachments": {},
   "cell_type": "markdown",
   "metadata": {},
   "source": [
    "Pri KNN manjši kot je k večji bo overfitting - bolje vzeti večji k. V tem primeru bi dober k že bil 8, vendar bi tudi 28 bil čisto ustrezen."
   ]
  },
  {
   "attachments": {},
   "cell_type": "markdown",
   "metadata": {},
   "source": [
    "B.5: Natančnost je mera uspešnosti, ki se pogosto uporablja pri klasifikacijskih problemih. V našem primeru imamo poseben primer klasifikacije, pri katerem ima ciljna spremenljivka samo dva razreda: binarna klasifikacija. Kadar je porazdelitev razredov v podatkih neenakomerna, natančnost ni več dobra mera. V takih primerih si pomagamo z matriko zmede (confusion matrix), preciznostjo in priklicem (precision and recall), ROC krivuljo (ROC curve) ter ploščino pod le-to (ROC-AUC). Izpiši vse našteto za KNN z izbranim k (vsaj 10)."
   ]
  },
  {
   "cell_type": "code",
   "execution_count": 16,
   "metadata": {},
   "outputs": [
    {
     "data": {
      "text/plain": [
       "array([[61,  5],\n",
       "       [18, 16]], dtype=int64)"
      ]
     },
     "execution_count": 16,
     "metadata": {},
     "output_type": "execute_result"
    }
   ],
   "source": [
    "from sklearn.metrics import confusion_matrix\n",
    "from sklearn.metrics import precision_recall_curve\n",
    "from sklearn.metrics import roc_curve\n",
    "from sklearn.metrics import roc_auc_score\n",
    "\n",
    "k = 28\n",
    "knn = KNeighborsClassifier(k)\n",
    "knn.fit(X_train_scaled,y_train)\n",
    "predicted = knn.predict(X_test_scaled)\n",
    "acc = accuracy_score(y_test, predicted)\n",
    "\n",
    "conf_mat = confusion_matrix(y_test, predicted)\n",
    "conf_mat"
   ]
  },
  {
   "cell_type": "code",
   "execution_count": 17,
   "metadata": {},
   "outputs": [
    {
     "data": {
      "image/png": "[encoded data removed]",
      "text/plain": [
       "<Figure size 640x480 with 1 Axes>"
      ]
     },
     "metadata": {},
     "output_type": "display_data"
    }
   ],
   "source": [
    "# Izračunamo precision and recall\n",
    "precision, recall, thresholds = precision_recall_curve(y_test, predicted)\n",
    "\n",
    "# Ustvarimo krivuljo\n",
    "fig, ax = plt.subplots()\n",
    "ax.plot(recall, precision, color='purple')\n",
    "\n",
    "# Dodamo oznake osi\n",
    "ax.set_title('Precision-Recall Curve')\n",
    "ax.set_ylabel('Precision')\n",
    "ax.set_xlabel('Recall')\n",
    "\n",
    "# Narišemo krivuljo\n",
    "plt.show()"
   ]
  },
  {
   "cell_type": "code",
   "execution_count": 18,
   "metadata": {},
   "outputs": [
    {
     "data": {
      "image/png": "[encoded data removed]",
      "text/plain": [
       "<Figure size 640x480 with 1 Axes>"
      ]
     },
     "metadata": {},
     "output_type": "display_data"
    }
   ],
   "source": [
    "# poračunamo ROC curve\n",
    "fpr, tpr, _ = roc_curve(y_test,  predicted)\n",
    "\n",
    "# narišemo ROC curve\n",
    "plt.plot(fpr,tpr)\n",
    "plt.ylabel('True Positive Rate')\n",
    "plt.xlabel('False Positive Rate')\n",
    "plt.show()"
   ]
  },
  {
   "cell_type": "code",
   "execution_count": 19,
   "metadata": {},
   "outputs": [
    {
     "data": {
      "text/plain": [
       "0.6974153297682709"
      ]
     },
     "execution_count": 19,
     "metadata": {},
     "output_type": "execute_result"
    }
   ],
   "source": [
    "roc_auc_score(y_test, predicted)"
   ]
  },
  {
   "attachments": {},
   "cell_type": "markdown",
   "metadata": {},
   "source": [
    "B.DODATNO: Preizkusi še nekaj drugih metod strojnega učenja, npr. logistično regresijo (**sklearn.linear_model.LogisticRegression**), odločitveno drevo (**sklearn.tree.DecisionTreeClassifier**), naključni gozd (**sklearn.ensemble.RandomForestClassifier**) ter metodo podpornih vektorjev (**sklearn.svm.SVC**)."
   ]
  },
  {
   "attachments": {},
   "cell_type": "markdown",
   "metadata": {},
   "source": [
    "### C: regresija - napovedovanje numerične ciljne spremenljivke\n",
    "Za nalogo regresije uporabljamo druge metode strojnega učenja kot za klasifikacijo, vendar pa med njimi pogosto obstajajo analogije.\n",
    "Drugačne so tudi metrike za računanje napake in uspešnosti modelov. Pri regresiji so koristne metrike MSE, RMSE, $R^2$, NMSE, itd.\n",
    "\n",
    "C.1: Naloži podatke v datoteki \"podatki_regresija.csv\". Napovedna spremenljivka se imenuje \"target\", tokrat so podatki že očiščeni. Nauči model linearne regresije (**sklearn.linear_model.LinearRegression**) ter izračunaj njegov RMSE ter $R^2$."
   ]
  },
  {
   "cell_type": "code",
   "execution_count": 20,
   "metadata": {},
   "outputs": [
    {
     "data": {
      "text/html": [
       "<div>\n",
       "<style scoped>\n",
       "    .dataframe tbody tr th:only-of-type {\n",
       "        vertical-align: middle;\n",
       "    }\n",
       "\n",
       "    .dataframe tbody tr th {\n",
       "        vertical-align: top;\n",
       "    }\n",
       "\n",
       "    .dataframe thead th {\n",
       "        text-align: right;\n",
       "    }\n",
       "</style>\n",
       "<table border=\"1\" class=\"dataframe\">\n",
       "  <thead>\n",
       "    <tr style=\"text-align: right;\">\n",
       "      <th></th>\n",
       "      <th>age</th>\n",
       "      <th>sex</th>\n",
       "      <th>bmi</th>\n",
       "      <th>bp</th>\n",
       "      <th>s1</th>\n",
       "      <th>s2</th>\n",
       "      <th>s3</th>\n",
       "      <th>s4</th>\n",
       "      <th>s5</th>\n",
       "      <th>s6</th>\n",
       "      <th>target</th>\n",
       "    </tr>\n",
       "  </thead>\n",
       "  <tbody>\n",
       "    <tr>\n",
       "      <th>0</th>\n",
       "      <td>0.038076</td>\n",
       "      <td>0.050680</td>\n",
       "      <td>0.061696</td>\n",
       "      <td>0.021872</td>\n",
       "      <td>-0.044223</td>\n",
       "      <td>-0.034821</td>\n",
       "      <td>-0.043401</td>\n",
       "      <td>-0.002592</td>\n",
       "      <td>0.019908</td>\n",
       "      <td>-0.017646</td>\n",
       "      <td>151.0</td>\n",
       "    </tr>\n",
       "    <tr>\n",
       "      <th>1</th>\n",
       "      <td>-0.001882</td>\n",
       "      <td>-0.044642</td>\n",
       "      <td>-0.051474</td>\n",
       "      <td>-0.026328</td>\n",
       "      <td>-0.008449</td>\n",
       "      <td>-0.019163</td>\n",
       "      <td>0.074412</td>\n",
       "      <td>-0.039493</td>\n",
       "      <td>-0.068330</td>\n",
       "      <td>-0.092204</td>\n",
       "      <td>75.0</td>\n",
       "    </tr>\n",
       "    <tr>\n",
       "      <th>2</th>\n",
       "      <td>0.085299</td>\n",
       "      <td>0.050680</td>\n",
       "      <td>0.044451</td>\n",
       "      <td>-0.005671</td>\n",
       "      <td>-0.045599</td>\n",
       "      <td>-0.034194</td>\n",
       "      <td>-0.032356</td>\n",
       "      <td>-0.002592</td>\n",
       "      <td>0.002864</td>\n",
       "      <td>-0.025930</td>\n",
       "      <td>141.0</td>\n",
       "    </tr>\n",
       "    <tr>\n",
       "      <th>3</th>\n",
       "      <td>-0.089063</td>\n",
       "      <td>-0.044642</td>\n",
       "      <td>-0.011595</td>\n",
       "      <td>-0.036656</td>\n",
       "      <td>0.012191</td>\n",
       "      <td>0.024991</td>\n",
       "      <td>-0.036038</td>\n",
       "      <td>0.034309</td>\n",
       "      <td>0.022692</td>\n",
       "      <td>-0.009362</td>\n",
       "      <td>206.0</td>\n",
       "    </tr>\n",
       "    <tr>\n",
       "      <th>4</th>\n",
       "      <td>0.005383</td>\n",
       "      <td>-0.044642</td>\n",
       "      <td>-0.036385</td>\n",
       "      <td>0.021872</td>\n",
       "      <td>0.003935</td>\n",
       "      <td>0.015596</td>\n",
       "      <td>0.008142</td>\n",
       "      <td>-0.002592</td>\n",
       "      <td>-0.031991</td>\n",
       "      <td>-0.046641</td>\n",
       "      <td>135.0</td>\n",
       "    </tr>\n",
       "    <tr>\n",
       "      <th>...</th>\n",
       "      <td>...</td>\n",
       "      <td>...</td>\n",
       "      <td>...</td>\n",
       "      <td>...</td>\n",
       "      <td>...</td>\n",
       "      <td>...</td>\n",
       "      <td>...</td>\n",
       "      <td>...</td>\n",
       "      <td>...</td>\n",
       "      <td>...</td>\n",
       "      <td>...</td>\n",
       "    </tr>\n",
       "    <tr>\n",
       "      <th>437</th>\n",
       "      <td>0.041708</td>\n",
       "      <td>0.050680</td>\n",
       "      <td>0.019662</td>\n",
       "      <td>0.059744</td>\n",
       "      <td>-0.005697</td>\n",
       "      <td>-0.002566</td>\n",
       "      <td>-0.028674</td>\n",
       "      <td>-0.002592</td>\n",
       "      <td>0.031193</td>\n",
       "      <td>0.007207</td>\n",
       "      <td>178.0</td>\n",
       "    </tr>\n",
       "    <tr>\n",
       "      <th>438</th>\n",
       "      <td>-0.005515</td>\n",
       "      <td>0.050680</td>\n",
       "      <td>-0.015906</td>\n",
       "      <td>-0.067642</td>\n",
       "      <td>0.049341</td>\n",
       "      <td>0.079165</td>\n",
       "      <td>-0.028674</td>\n",
       "      <td>0.034309</td>\n",
       "      <td>-0.018118</td>\n",
       "      <td>0.044485</td>\n",
       "      <td>104.0</td>\n",
       "    </tr>\n",
       "    <tr>\n",
       "      <th>439</th>\n",
       "      <td>0.041708</td>\n",
       "      <td>0.050680</td>\n",
       "      <td>-0.015906</td>\n",
       "      <td>0.017282</td>\n",
       "      <td>-0.037344</td>\n",
       "      <td>-0.013840</td>\n",
       "      <td>-0.024993</td>\n",
       "      <td>-0.011080</td>\n",
       "      <td>-0.046879</td>\n",
       "      <td>0.015491</td>\n",
       "      <td>132.0</td>\n",
       "    </tr>\n",
       "    <tr>\n",
       "      <th>440</th>\n",
       "      <td>-0.045472</td>\n",
       "      <td>-0.044642</td>\n",
       "      <td>0.039062</td>\n",
       "      <td>0.001215</td>\n",
       "      <td>0.016318</td>\n",
       "      <td>0.015283</td>\n",
       "      <td>-0.028674</td>\n",
       "      <td>0.026560</td>\n",
       "      <td>0.044528</td>\n",
       "      <td>-0.025930</td>\n",
       "      <td>220.0</td>\n",
       "    </tr>\n",
       "    <tr>\n",
       "      <th>441</th>\n",
       "      <td>-0.045472</td>\n",
       "      <td>-0.044642</td>\n",
       "      <td>-0.073030</td>\n",
       "      <td>-0.081414</td>\n",
       "      <td>0.083740</td>\n",
       "      <td>0.027809</td>\n",
       "      <td>0.173816</td>\n",
       "      <td>-0.039493</td>\n",
       "      <td>-0.004220</td>\n",
       "      <td>0.003064</td>\n",
       "      <td>57.0</td>\n",
       "    </tr>\n",
       "  </tbody>\n",
       "</table>\n",
       "<p>442 rows × 11 columns</p>\n",
       "</div>"
      ],
      "text/plain": [
       "          age       sex       bmi        bp        s1        s2        s3  \\\n",
       "0    0.038076  0.050680  0.061696  0.021872 -0.044223 -0.034821 -0.043401   \n",
       "1   -0.001882 -0.044642 -0.051474 -0.026328 -0.008449 -0.019163  0.074412   \n",
       "2    0.085299  0.050680  0.044451 -0.005671 -0.045599 -0.034194 -0.032356   \n",
       "3   -0.089063 -0.044642 -0.011595 -0.036656  0.012191  0.024991 -0.036038   \n",
       "4    0.005383 -0.044642 -0.036385  0.021872  0.003935  0.015596  0.008142   \n",
       "..        ...       ...       ...       ...       ...       ...       ...   \n",
       "437  0.041708  0.050680  0.019662  0.059744 -0.005697 -0.002566 -0.028674   \n",
       "438 -0.005515  0.050680 -0.015906 -0.067642  0.049341  0.079165 -0.028674   \n",
       "439  0.041708  0.050680 -0.015906  0.017282 -0.037344 -0.013840 -0.024993   \n",
       "440 -0.045472 -0.044642  0.039062  0.001215  0.016318  0.015283 -0.028674   \n",
       "441 -0.045472 -0.044642 -0.073030 -0.081414  0.083740  0.027809  0.173816   \n",
       "\n",
       "           s4        s5        s6  target  \n",
       "0   -0.002592  0.019908 -0.017646   151.0  \n",
       "1   -0.039493 -0.068330 -0.092204    75.0  \n",
       "2   -0.002592  0.002864 -0.025930   141.0  \n",
       "3    0.034309  0.022692 -0.009362   206.0  \n",
       "4   -0.002592 -0.031991 -0.046641   135.0  \n",
       "..        ...       ...       ...     ...  \n",
       "437 -0.002592  0.031193  0.007207   178.0  \n",
       "438  0.034309 -0.018118  0.044485   104.0  \n",
       "439 -0.011080 -0.046879  0.015491   132.0  \n",
       "440  0.026560  0.044528 -0.025930   220.0  \n",
       "441 -0.039493 -0.004220  0.003064    57.0  \n",
       "\n",
       "[442 rows x 11 columns]"
      ]
     },
     "execution_count": 20,
     "metadata": {},
     "output_type": "execute_result"
    }
   ],
   "source": [
    "df2 = pd.read_csv(\"podatki_regresija.csv\")\n",
    "df2"
   ]
  },
  {
   "cell_type": "code",
   "execution_count": 21,
   "metadata": {},
   "outputs": [
    {
     "name": "stdout",
     "output_type": "stream",
     "text": [
      "MSE: 2900.173287883231\n",
      "RMSE: 53.853256984914395\n",
      "R^2: 0.4526066021617381\n"
     ]
    }
   ],
   "source": [
    "from sklearn.linear_model import LinearRegression\n",
    "import sklearn.metrics as metrics\n",
    "\n",
    "X = df2.drop(\"target\", axis=1)\n",
    "y = df2[\"target\"]\n",
    "X_train, X_test, y_train, y_test = train_test_split(X, y, test_size=0.2, random_state=42)\n",
    "\n",
    "reg = LinearRegression().fit(X_train,y_train)\n",
    "predicted = reg.predict(X_test)\n",
    "\n",
    "# metrike\n",
    "mse = metrics.mean_squared_error(y_test, predicted)\n",
    "print(\"MSE:\", mse)\n",
    "rmse = np.sqrt(mse) # or mse**(0.5) \n",
    "print(\"RMSE:\", rmse) \n",
    "r2 = metrics.r2_score(y_test,predicted)\n",
    "print(\"R^2:\", r2)"
   ]
  },
  {
   "attachments": {},
   "cell_type": "markdown",
   "metadata": {},
   "source": [
    "C.2: Delitev na učno in testno množico ni slab pristop, boljšo oceno napake pa lahko pridobimo s prečnim preverjanjem (k-fold cross-validation). Pri tem postopku podatke razdelimo na k (tipično 5 ali 10) enakih delov. Kot učno množico uporabimo vse razen enega dela, ki služi kot testna množica. Ta postopek izvedemo k-krat, pri čemer na vsaki iteraciji za testno množico razglasimo drug del podatkov. Ponavadi na koncu napake povprečimo. Ker pri prečnem preverjanju učimo model k-krat, je lahko ta postopek zamuden, če imamo zelo veliko podatkov in/ali počasno metodo strojnega učenja.\n",
    "\n",
    "Z metodo 5-kratnega prečnega preverjanja preizkusi vsaj 3 različne metode ter določi, katera je najboljša za naše podatke. Nekaj predlogov: linearna regresija, podporni vektorji (**sklearn.svm.SVR**), naključni gozd (**sklearn.ensemble.RandomForestRegressor**), najbližji sosedi (**sklearn.neighbor.KNeighborsRegressor**). Pomagaš si lahko s funkcijo **sklearn.model_selection.cross_validate** (preprosta) ali **sklearn.model_selection.KFold** (več nadzora)."
   ]
  },
  {
   "cell_type": "code",
   "execution_count": 22,
   "metadata": {},
   "outputs": [
    {
     "name": "stdout",
     "output_type": "stream",
     "text": [
      "[0.4823, 0.1468, 0.43, 0.3765]\n",
      "[54.6917, 70.4435, 57.4541, 60.1264]\n"
     ]
    }
   ],
   "source": [
    "from sklearn.svm import SVR\n",
    "from sklearn.ensemble import RandomForestRegressor\n",
    "from sklearn.neighbors import KNeighborsRegressor\n",
    "from sklearn.model_selection import cross_validate\n",
    "from sklearn.model_selection import KFold\n",
    "\n",
    "k = 5\n",
    "reg = LinearRegression()\n",
    "svr = SVR()\n",
    "rf = RandomForestRegressor()\n",
    "knn = KNeighborsRegressor()\n",
    "\n",
    "seznam_metod = [reg, svr, rf, knn]\n",
    "scores_r2 = []\n",
    "scores_rmse = []\n",
    "\n",
    "for metoda in seznam_metod:\n",
    "    score = cross_validate(metoda, X, y, cv=k,\n",
    "                           scoring = ('r2', 'neg_mean_squared_error'))\n",
    "    r2 = round(np.mean(score['test_r2']),4)\n",
    "    rmse = round(np.mean(np.sqrt(np.abs(score['test_neg_mean_squared_error']))),4)\n",
    "    scores_r2.append(r2)\n",
    "    scores_rmse.append(rmse)\n",
    "\n",
    "print(scores_r2)\n",
    "print(scores_rmse)"
   ]
  },
  {
   "attachments": {},
   "cell_type": "markdown",
   "metadata": {},
   "source": [
    "Vidimo lahko, da je tako po metriki R^2 kot po metriki RMSE najbolj natančna metoda za naše podatke linearna regresija, saj ima največji R^2 in najmanjši RMSE."
   ]
  }
 ],
 "metadata": {
  "kernelspec": {
   "display_name": "napredno_strojno_ucenje",
   "language": "python",
   "name": "python3"
  },
  "language_info": {
   "codemirror_mode": {
    "name": "ipython",
    "version": 3
   },
   "file_extension": ".py",
   "mimetype": "text/x-python",
   "name": "python",
   "nbconvert_exporter": "python",
   "pygments_lexer": "ipython3",
   "version": "3.11.2"
  },
  "orig_nbformat": 4,
  "vscode": {
   "interpreter": {
    "hash": "1fac2d8ee790ff79d732d38524f18d31bd910b6f6fd5880a74115b1b28eea8c6"
   }
  }
 },
 "nbformat": 4,
 "nbformat_minor": 2
}
