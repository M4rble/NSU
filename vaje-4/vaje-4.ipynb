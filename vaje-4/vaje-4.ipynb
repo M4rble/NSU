{
 "cells": [
  {
   "attachments": {},
   "cell_type": "markdown",
   "metadata": {},
   "source": [
    "# Vaje 4 - optimizacija hiperparametrov s knjižnico hyperopt"
   ]
  },
  {
   "attachments": {},
   "cell_type": "markdown",
   "metadata": {},
   "source": [
    "A.1 Hyperopt je nekoliko bolj zapletena optimizacija, zato bomo za začetek poskusili najti x, ki minimizira funkcijo\n",
    "   optimalne f(x) = x^2. Kandidate za ta x bomo iskali na intervalu\n",
    "   a) [-4, 4]\n",
    "   b) [4, 8].\n",
    "Oglejte si se druge moznosti zrebanja po prostoru: https://github.com/hyperopt/hyperopt/wiki/FMin (razdelek 2.1)"
   ]
  },
  {
   "cell_type": "code",
   "execution_count": 1,
   "metadata": {},
   "outputs": [
    {
     "name": "stdout",
     "output_type": "stream",
     "text": [
      "100%|██████████| 100/100 [00:00<00:00, 1018.67trial/s, best loss: 0.0006727160322501248]\n",
      "{'x': 0.025936769888521678}\n",
      "{'x': 0.025936769888521678} 0.0006727160322501248\n"
     ]
    }
   ],
   "source": [
    "from sklearn.ensemble import RandomForestRegressor\n",
    "from sklearn.linear_model import LinearRegression\n",
    "from sklearn.svm import SVR\n",
    "from hyperopt import hp, tpe, rand, fmin, Trials, space_eval\n",
    "from hyperopt import pyll, base\n",
    "import numpy as np\n",
    "\n",
    "prostorA = {\"x\": hp.uniform(\"x\", -4, 4)}\n",
    "prostorB = {\"x\": hp.uniform(\"x\", 4, 8)}\n",
    "\n",
    "def kriterijska_funkcija(parametri):\n",
    "    x = parametri[\"x\"]\n",
    "    return x ** 2\n",
    "\n",
    "trials = Trials()\n",
    "best = fmin(fn = kriterijska_funkcija,\n",
    "            space = prostorA,\n",
    "            algo = tpe.suggest,\n",
    "            max_evals = 100,\n",
    "            trials = trials\n",
    ")\n",
    "print(best)\n",
    "\n",
    "best = space_eval(prostorA, best)\n",
    "best_value = kriterijska_funkcija(best)\n",
    "\n",
    "# vse vrednosti parametrov in kriterijske funkcije, ki smo jih preizkusili\n",
    "xs = [trial[\"misc\"][\"vals\"][\"x\"][0] for trial in trials.trials]\n",
    "ys = [trial[\"result\"][\"loss\"] for trial in trials.trials]\n",
    "\n",
    "print(best, best_value)"
   ]
  },
  {
   "cell_type": "code",
   "execution_count": 2,
   "metadata": {},
   "outputs": [
    {
     "name": "stdout",
     "output_type": "stream",
     "text": [
      "100%|██████████| 100/100 [00:00<00:00, 874.29trial/s, best loss: 16.02469150762708]\n",
      "{'x': 4.003085248608513}\n",
      "{'x': 4.003085248608513} 16.02469150762708\n"
     ]
    }
   ],
   "source": [
    "trials = Trials()\n",
    "best = fmin(fn = kriterijska_funkcija,\n",
    "            space = prostorB,\n",
    "            algo = tpe.suggest,\n",
    "            max_evals = 100,\n",
    "            trials = trials\n",
    ")\n",
    "print(best)\n",
    "\n",
    "best = space_eval(prostorB, best)\n",
    "best_value = kriterijska_funkcija(best)\n",
    "\n",
    "# vse vrednosti parametrov in kriterijske funkcije, ki smo jih preizkusili\n",
    "xs = [trial[\"misc\"][\"vals\"][\"x\"][0] for trial in trials.trials]\n",
    "ys = [trial[\"result\"][\"loss\"] for trial in trials.trials]\n",
    "\n",
    "print(best, best_value)"
   ]
  },
  {
   "attachments": {},
   "cell_type": "markdown",
   "metadata": {},
   "source": [
    "A.2 Pogosto je treba najti več kot en optimalni parameter. Minimiziraj funkcijo $f(x, y) = (x - y)^2 + (y - 1)^2$.\n",
    "   Prostora ne preiskuj enakomerno, ampak z normalno porazdelitvijo."
   ]
  },
  {
   "cell_type": "code",
   "execution_count": 3,
   "metadata": {},
   "outputs": [
    {
     "name": "stdout",
     "output_type": "stream",
     "text": [
      "100%|██████████| 100/100 [00:00<00:00, 821.08trial/s, best loss: 0.1733538571121536]\n",
      "{'x': 0.4129918986474908, 'y': 0.683424304546934} 0.1733538571121536\n"
     ]
    }
   ],
   "source": [
    "prostor_xy = {\"x\": hp.normal(\"x\", 5, 10),\n",
    "              \"y\": hp.normal(\"y\", -5, 10)}\n",
    "\n",
    "def kriterijska_funkcija_2(parametri):\n",
    "    x = parametri[\"x\"]\n",
    "    y = parametri[\"y\"]\n",
    "    return (x-y) ** 2 + (y-1) ** 2\n",
    "\n",
    "trials = Trials()\n",
    "best = fmin(fn = kriterijska_funkcija_2,\n",
    "            space = prostor_xy,\n",
    "            algo = tpe.suggest,\n",
    "            max_evals = 100,\n",
    "            trials = trials\n",
    ")\n",
    "\n",
    "best = space_eval(prostor_xy, best)\n",
    "best_value = kriterijska_funkcija_2(best)\n",
    "print(best, best_value)"
   ]
  },
  {
   "attachments": {},
   "cell_type": "markdown",
   "metadata": {},
   "source": [
    "A.3. Včasih moramo izvesti tudi diskretno izbiro, npr. ko izbiramo algoritem. Za spodnje podatke najdi najprimernejsi\n",
    "   algoritem. Izbiraj med kNN, odlocitvenim drevesom in metodo podpornih vektorjev."
   ]
  },
  {
   "cell_type": "code",
   "execution_count": 4,
   "metadata": {},
   "outputs": [],
   "source": [
    "n_primerov = 1000\n",
    "n_znacilk = 5\n",
    "\n",
    "x = np.random.rand(n_primerov, n_znacilk)\n",
    "y = np.dot(x, list(range(n_znacilk)))\n",
    "\n",
    "povprecje = np.mean(y)\n",
    "pozitivni = y >= povprecje\n",
    "y[pozitivni] = 1\n",
    "y[~pozitivni] = 0"
   ]
  },
  {
   "cell_type": "code",
   "execution_count": 5,
   "metadata": {},
   "outputs": [
    {
     "name": "stdout",
     "output_type": "stream",
     "text": [
      "100%|██████████| 100/100 [00:00<00:00, 164.43trial/s, best loss: 0.030000000000000027]\n",
      "[{'algo': [0]}, {'algo': [0]}, {'algo': [1]}, {'algo': [0]}, {'algo': [1]}, {'algo': [1]}, {'algo': [0]}, {'algo': [0]}, {'algo': [2]}, {'algo': [1]}, {'algo': [1]}, {'algo': [0]}, {'algo': [0]}, {'algo': [2]}, {'algo': [1]}, {'algo': [2]}, {'algo': [0]}, {'algo': [2]}, {'algo': [1]}, {'algo': [1]}, {'algo': [2]}, {'algo': [2]}, {'algo': [2]}, {'algo': [2]}, {'algo': [2]}, {'algo': [2]}, {'algo': [2]}, {'algo': [2]}, {'algo': [2]}, {'algo': [2]}, {'algo': [2]}, {'algo': [2]}, {'algo': [2]}, {'algo': [2]}, {'algo': [2]}, {'algo': [2]}, {'algo': [0]}, {'algo': [2]}, {'algo': [2]}, {'algo': [0]}, {'algo': [1]}, {'algo': [2]}, {'algo': [0]}, {'algo': [1]}, {'algo': [2]}, {'algo': [2]}, {'algo': [0]}, {'algo': [1]}, {'algo': [2]}, {'algo': [0]}, {'algo': [2]}, {'algo': [1]}, {'algo': [2]}, {'algo': [2]}, {'algo': [1]}, {'algo': [0]}, {'algo': [2]}, {'algo': [2]}, {'algo': [2]}, {'algo': [1]}, {'algo': [2]}, {'algo': [0]}, {'algo': [2]}, {'algo': [2]}, {'algo': [2]}, {'algo': [2]}, {'algo': [2]}, {'algo': [2]}, {'algo': [2]}, {'algo': [2]}, {'algo': [2]}, {'algo': [2]}, {'algo': [2]}, {'algo': [2]}, {'algo': [2]}, {'algo': [1]}, {'algo': [0]}, {'algo': [2]}, {'algo': [2]}, {'algo': [2]}, {'algo': [2]}, {'algo': [1]}, {'algo': [0]}, {'algo': [2]}, {'algo': [2]}, {'algo': [2]}, {'algo': [1]}, {'algo': [0]}, {'algo': [2]}, {'algo': [2]}, {'algo': [2]}, {'algo': [2]}, {'algo': [1]}, {'algo': [0]}, {'algo': [2]}, {'algo': [2]}, {'algo': [2]}, {'algo': [2]}, {'algo': [1]}, {'algo': [2]}]\n",
      "[0.14500000000000002, 0.10999999999999999, 0.04500000000000004, 0.125, 0.04500000000000004, 0.04500000000000004, 0.13, 0.12, 0.030000000000000027, 0.04500000000000004, 0.04500000000000004, 0.13, 0.135, 0.030000000000000027, 0.04500000000000004, 0.030000000000000027, 0.125, 0.030000000000000027, 0.04500000000000004, 0.04500000000000004, 0.030000000000000027, 0.030000000000000027, 0.030000000000000027, 0.030000000000000027, 0.030000000000000027, 0.030000000000000027, 0.030000000000000027, 0.030000000000000027, 0.030000000000000027, 0.030000000000000027, 0.030000000000000027, 0.030000000000000027, 0.030000000000000027, 0.030000000000000027, 0.030000000000000027, 0.030000000000000027, 0.12, 0.030000000000000027, 0.030000000000000027, 0.125, 0.04500000000000004, 0.030000000000000027, 0.135, 0.04500000000000004, 0.030000000000000027, 0.030000000000000027, 0.13, 0.04500000000000004, 0.030000000000000027, 0.13, 0.030000000000000027, 0.04500000000000004, 0.030000000000000027, 0.030000000000000027, 0.04500000000000004, 0.12, 0.030000000000000027, 0.030000000000000027, 0.030000000000000027, 0.04500000000000004, 0.030000000000000027, 0.13, 0.030000000000000027, 0.030000000000000027, 0.030000000000000027, 0.030000000000000027, 0.030000000000000027, 0.030000000000000027, 0.030000000000000027, 0.030000000000000027, 0.030000000000000027, 0.030000000000000027, 0.030000000000000027, 0.030000000000000027, 0.030000000000000027, 0.04500000000000004, 0.13, 0.030000000000000027, 0.030000000000000027, 0.030000000000000027, 0.030000000000000027, 0.04500000000000004, 0.12, 0.030000000000000027, 0.030000000000000027, 0.030000000000000027, 0.04500000000000004, 0.12, 0.030000000000000027, 0.030000000000000027, 0.030000000000000027, 0.030000000000000027, 0.04500000000000004, 0.12, 0.030000000000000027, 0.030000000000000027, 0.030000000000000027, 0.030000000000000027, 0.04500000000000004, 0.030000000000000027]\n",
      "{'algo': 'svc'} 0.030000000000000027\n"
     ]
    }
   ],
   "source": [
    "from sklearn.model_selection import train_test_split\n",
    "from sklearn.neighbors import KNeighborsClassifier\n",
    "from sklearn.tree import DecisionTreeClassifier\n",
    "from sklearn.svm import SVC\n",
    "from sklearn.metrics import accuracy_score\n",
    "\n",
    "prostor_algo = {\"algo\": hp.choice(\"algo\", [\n",
    "    \"drevo\",\"knn\",\"svc\"\n",
    "    ]\n",
    ")}\n",
    "\n",
    "np.random.seed(0)\n",
    "x_ucna, x_testna, y_ucna, y_testna = train_test_split(x, y, test_size=0.2)\n",
    "\n",
    "\n",
    "def kriterijska_funkcija_algo(parametri):\n",
    "    a = parametri[\"algo\"]\n",
    "\n",
    "    if a == \"drevo\":\n",
    "        model = DecisionTreeClassifier()\n",
    "    elif a == \"knn\":\n",
    "        model = KNeighborsClassifier()\n",
    "    elif a == \"svc\":\n",
    "        model = SVC()\n",
    "    else:\n",
    "        raise ValueError(f\"Napačen algoritem: {a}\")\n",
    "\n",
    "    model.fit(x_ucna, y_ucna)\n",
    "    y_napoved = model.predict(x_testna)\n",
    "    return 1 - accuracy_score(y_testna, y_napoved)\n",
    "\n",
    "trials = Trials()\n",
    "best = fmin(fn = kriterijska_funkcija_algo,\n",
    "            space = prostor_algo,\n",
    "            algo = tpe.suggest,\n",
    "            max_evals = 100,\n",
    "            trials = trials\n",
    ")\n",
    "\n",
    "best = space_eval(prostor_algo, best)\n",
    "best_value = kriterijska_funkcija_algo(best)\n",
    "\n",
    "xs = [trial[\"misc\"][\"vals\"] for trial in trials]\n",
    "acc = [trial[\"result\"][\"loss\"] for trial in trials]\n",
    "print(xs)\n",
    "print(acc)\n",
    "print(best, best_value)\n"
   ]
  },
  {
   "attachments": {},
   "cell_type": "markdown",
   "metadata": {},
   "source": [
    "A.4 Poleg samega algoritma želimo iskati tudi optimalne vrednosti hiperparametrov. Seveda so hiperparametri odvisni od\n",
    "   samega algoritma, zato je preiskovani prostor treba definirati gnezdeno, kot kaze primer.\n",
    "   Razsiri preiskovani prostor tako, da dodas se kaksen parameter. Priporocamo, da jih poimenujes tako, kot so\n",
    "   poimenovani pripadajoci argumenti v konstruktorju za dani model (npr. eden od parametrov za drevo je max_depth,\n",
    "   ki pove, katera je najvecja dovoljena globina drevesa)\n",
    "\n",
    "   Razsiri gnezdeni_prostor_spodaj."
   ]
  },
  {
   "cell_type": "code",
   "execution_count": 6,
   "metadata": {},
   "outputs": [],
   "source": [
    "gnezdeni_prostor = {\n",
    "    \"algo\": hp.choice('algo', [\n",
    "        {\n",
    "            'ime': 'drevo',\n",
    "            'max_depth': hp.choice('max_depth', [2, 4, 8, 16, 32]),\n",
    "            'min_samples_split': hp.choice('min_samples_split', [2, 4, 8, 16]) \n",
    "        },\n",
    "        {\n",
    "            'ime': 'knn',\n",
    "            'n_neighbors': hp.choice('n_neighbors', [2, 4, 8, 16, 32])\n",
    "        },\n",
    "        {\n",
    "            'ime': 'svm',\n",
    "            'C': hp.lognormal('C', 0, 1),\n",
    "            'kernel': hp.choice('kernel', [\n",
    "                {\n",
    "                    'tip': 'linear'  # linearno\n",
    "                },\n",
    "                {\n",
    "                    'tip': 'rbf',  # radialno\n",
    "                    'gamma': hp.lognormal('gamma', 0, 1)\n",
    "                },\n",
    "                {\n",
    "                    'tip': 'poly',  # polinomsko\n",
    "                    'degree': hp.choice('degree', [2, 3, 4, 5, 6, 7, 8])\n",
    "                }\n",
    "            ]),\n",
    "        },\n",
    "    ])\n",
    "}"
   ]
  },
  {
   "attachments": {},
   "cell_type": "markdown",
   "metadata": {},
   "source": [
    "A.5. Kako dobre so prednastavljene vrednosti? Primerjaj rezultate, ki jih dobis s preiskovanjem prostorov\n",
    "   - prostor_algo (tu bodo pri algoritmih vedno uporabljene prednastavljene vrednosti)\n",
    "   - gnezdeni_prostor\n",
    "\n",
    "   Kateri algoritem (in katera konfiguracija parametrov) je najboljsa za dane podatke?\n",
    "   Preizkusi na vseh treh moznih podatkovjih."
   ]
  },
  {
   "cell_type": "code",
   "execution_count": 7,
   "metadata": {},
   "outputs": [],
   "source": [
    "def izracunaj_y(xs, tip_podatkov):\n",
    "    if tip_podatkov not in [1, 2, 3]:\n",
    "        raise ValueError(\"Tip podatkov mora biti element [1, 2, 3].\")\n",
    "    if tip_podatkov == 1:\n",
    "        r = list(range(xs.shape[1]))\n",
    "        cs = np.array(r).reshape((-1, 1))\n",
    "        ys = np.dot(xs, cs).reshape((-1,))\n",
    "        poz = ys >= np.mean(ys)\n",
    "        ys = np.array([\"a\" if p else \"b\" for p in poz])\n",
    "    elif tip_podatkov == 2:\n",
    "        group1 = xs[:, 1] > 0.5\n",
    "        group2 = (xs[:, 1] <= 0.5) & (xs[:, 2] > 0.2)\n",
    "        group3 = (xs[:, 1] <= 0.5) & (xs[:, 2] <= 0.2)\n",
    "        ys = np.zeros(xs.shape[0], dtype=str)\n",
    "        ys[group1] = \"a\"\n",
    "        ys[group2] = \"b\"\n",
    "        ys[group3] = \"c\"\n",
    "    else:\n",
    "        circle = np.sum(np.square(xs), axis=1) > 0.4\n",
    "        ys = np.zeros(xs.shape[0], dtype=str)\n",
    "        ys[circle] = \"a\"\n",
    "        ys[~circle] = \"b\"\n",
    "    return ys\n",
    "\n",
    "\n",
    "def pripravi_podatke(n_ucna, n_test, n_znacilke, p_sum, tip_podatkov):\n",
    "    x = np.random.rand(n_ucna + n_test, n_znacilke)\n",
    "    y = izracunaj_y(x, tip_podatkov)\n",
    "    vrednosti = list(set(y))\n",
    "    for i in range(len(y)):\n",
    "        # zamenjamo vrednost\n",
    "        if np.random.rand(1) < p_sum:\n",
    "            i0 = vrednosti.index(y[i])\n",
    "            y[i] = vrednosti[(i0 + 1) % len(vrednosti)]\n",
    "    x_ucna = x[:n_ucna]\n",
    "    y_ucna = y[:n_ucna]\n",
    "    x_test = x[n_ucna:]\n",
    "    y_test = y[n_ucna:]\n",
    "    return x_ucna, x_test, y_ucna, y_test\n",
    "\n",
    "\n",
    "x_ucna, x_testna, y_ucna, y_testna = pripravi_podatke(1000, 200, 5, 0.1, 2)\n",
    "\n",
    "def kriterijska_funkcija_privzete(parametri):\n",
    "    a = parametri[\"algo\"]\n",
    "\n",
    "    if a == \"drevo\":\n",
    "        model = DecisionTreeClassifier()\n",
    "    elif a == \"knn\":\n",
    "        model = KNeighborsClassifier()\n",
    "    \n",
    "    \n",
    "    elif a == \"svc\":\n",
    "        model = SVC()\n",
    "    else:\n",
    "        raise ValueError(f\"Napačen algoritem: {a}\")\n",
    "    \n",
    "    model.fit(x_ucna, y_ucna)\n",
    "    y_napoved = model.predict(x_testna)\n",
    "    return 1 - accuracy_score(y_testna, y_napoved)\n",
    "\n",
    "def kriterijska_funkcija_razsirjeno(parametri):\n",
    "    a = parametri[\"algo\"]\n",
    "    ime_algoritma = a[\"ime\"]\n",
    "    if ime_algoritma == \"knn\":\n",
    "        model = KNeighborsClassifier(n_neighbors=a[\"n_neighbors\"])\n",
    "\n",
    "    elif ime_algoritma == \"drevo\":\n",
    "        model = DecisionTreeClassifier(max_depth=a[\"max_depth\"],\n",
    "                                       min_samples_split=a[\"min_samples_split\"])\n",
    "\n",
    "    elif ime_algoritma == \"svm\":\n",
    "        # DOPOLNI - kernel in C\n",
    "        C = a[\"C\"]\n",
    "        # gamma in degree moramo definirati v vseh treh primerih: tam, kjer nista vazni, ju damo na 1\n",
    "        neumna_vrednost = 1\n",
    "        kernel = a[\"kernel\"][\"tip\"]\n",
    "        if kernel == \"rbf\":\n",
    "            gamma = a[\"kernel\"][\"gamma\"]\n",
    "            degree = neumna_vrednost\n",
    "        elif kernel == \"linear\":\n",
    "            gamma = neumna_vrednost\n",
    "            degree = neumna_vrednost\n",
    "        else:\n",
    "            gamma = neumna_vrednost\n",
    "            degree = a[\"kernel\"][\"degree\"]\n",
    "        model = SVC(kernel=kernel, gamma=gamma, C=C, degree=degree)\n",
    "    else:\n",
    "        raise ValueError(\"Napacne nastavitve!\")\n",
    "    \n",
    "    model.fit(x_ucna, y_ucna)\n",
    "    y_hat = model.predict(x_testna)\n",
    "    return 1 - accuracy_score(y_testna, y_hat)\n"
   ]
  },
  {
   "cell_type": "code",
   "execution_count": 8,
   "metadata": {},
   "outputs": [
    {
     "name": "stdout",
     "output_type": "stream",
     "text": [
      "100%|██████████| 100/100 [00:00<00:00, 133.38trial/s, best loss: 0.14500000000000002]\n",
      "[{'algo': [2]}, {'algo': [1]}, {'algo': [1]}, {'algo': [1]}, {'algo': [1]}, {'algo': [1]}, {'algo': [1]}, {'algo': [0]}, {'algo': [1]}, {'algo': [1]}, {'algo': [2]}, {'algo': [2]}, {'algo': [0]}, {'algo': [0]}, {'algo': [2]}, {'algo': [1]}, {'algo': [1]}, {'algo': [0]}, {'algo': [2]}, {'algo': [0]}, {'algo': [2]}, {'algo': [0]}, {'algo': [2]}, {'algo': [0]}, {'algo': [2]}, {'algo': [0]}, {'algo': [2]}, {'algo': [0]}, {'algo': [2]}, {'algo': [0]}, {'algo': [0]}, {'algo': [0]}, {'algo': [0]}, {'algo': [0]}, {'algo': [0]}, {'algo': [0]}, {'algo': [0]}, {'algo': [0]}, {'algo': [0]}, {'algo': [0]}, {'algo': [0]}, {'algo': [1]}, {'algo': [0]}, {'algo': [1]}, {'algo': [0]}, {'algo': [0]}, {'algo': [1]}, {'algo': [0]}, {'algo': [0]}, {'algo': [1]}, {'algo': [0]}, {'algo': [0]}, {'algo': [1]}, {'algo': [2]}, {'algo': [0]}, {'algo': [0]}, {'algo': [2]}, {'algo': [1]}, {'algo': [0]}, {'algo': [2]}, {'algo': [0]}, {'algo': [0]}, {'algo': [0]}, {'algo': [2]}, {'algo': [1]}, {'algo': [0]}, {'algo': [0]}, {'algo': [0]}, {'algo': [0]}, {'algo': [0]}, {'algo': [0]}, {'algo': [0]}, {'algo': [0]}, {'algo': [0]}, {'algo': [0]}, {'algo': [0]}, {'algo': [0]}, {'algo': [2]}, {'algo': [0]}, {'algo': [0]}, {'algo': [1]}, {'algo': [0]}, {'algo': [0]}, {'algo': [2]}, {'algo': [0]}, {'algo': [0]}, {'algo': [1]}, {'algo': [0]}, {'algo': [0]}, {'algo': [2]}, {'algo': [0]}, {'algo': [1]}, {'algo': [0]}, {'algo': [0]}, {'algo': [2]}, {'algo': [0]}, {'algo': [0]}, {'algo': [1]}, {'algo': [0]}, {'algo': [0]}]\n",
      "[0.15500000000000003, 0.20499999999999996, 0.20499999999999996, 0.20499999999999996, 0.20499999999999996, 0.20499999999999996, 0.20499999999999996, 0.16000000000000003, 0.20499999999999996, 0.20499999999999996, 0.15500000000000003, 0.15500000000000003, 0.16500000000000004, 0.17500000000000004, 0.15500000000000003, 0.20499999999999996, 0.20499999999999996, 0.18000000000000005, 0.15500000000000003, 0.15000000000000002, 0.15500000000000003, 0.15500000000000003, 0.15500000000000003, 0.17500000000000004, 0.15500000000000003, 0.16000000000000003, 0.15500000000000003, 0.16500000000000004, 0.15500000000000003, 0.14500000000000002, 0.17000000000000004, 0.17000000000000004, 0.18000000000000005, 0.15500000000000003, 0.17500000000000004, 0.17000000000000004, 0.17500000000000004, 0.16000000000000003, 0.16500000000000004, 0.16000000000000003, 0.14500000000000002, 0.20499999999999996, 0.17000000000000004, 0.20499999999999996, 0.16500000000000004, 0.15500000000000003, 0.20499999999999996, 0.16000000000000003, 0.18500000000000005, 0.20499999999999996, 0.17000000000000004, 0.16000000000000003, 0.20499999999999996, 0.15500000000000003, 0.17000000000000004, 0.16000000000000003, 0.15500000000000003, 0.20499999999999996, 0.15500000000000003, 0.15500000000000003, 0.16500000000000004, 0.17500000000000004, 0.17000000000000004, 0.15500000000000003, 0.20499999999999996, 0.17000000000000004, 0.16500000000000004, 0.18000000000000005, 0.14500000000000002, 0.15500000000000003, 0.17500000000000004, 0.16500000000000004, 0.14500000000000002, 0.16000000000000003, 0.16000000000000003, 0.16000000000000003, 0.16000000000000003, 0.15500000000000003, 0.16500000000000004, 0.17500000000000004, 0.20499999999999996, 0.16500000000000004, 0.17500000000000004, 0.15500000000000003, 0.17500000000000004, 0.16500000000000004, 0.20499999999999996, 0.16500000000000004, 0.16000000000000003, 0.15500000000000003, 0.17000000000000004, 0.20499999999999996, 0.18000000000000005, 0.16000000000000003, 0.15500000000000003, 0.16500000000000004, 0.16000000000000003, 0.20499999999999996, 0.15500000000000003, 0.15000000000000002]\n",
      "{'algo': 'drevo'} 0.15500000000000003\n"
     ]
    }
   ],
   "source": [
    "# privzete vrednosti\n",
    "trials = Trials()\n",
    "best = fmin(fn = kriterijska_funkcija_privzete,\n",
    "            space = prostor_algo,\n",
    "            algo = tpe.suggest,\n",
    "            max_evals = 100,\n",
    "            trials = trials\n",
    ")\n",
    "\n",
    "best = space_eval(prostor_algo, best)\n",
    "best_value = kriterijska_funkcija_privzete(best)\n",
    "\n",
    "xs = [trial[\"misc\"][\"vals\"] for trial in trials]\n",
    "acc = [trial[\"result\"][\"loss\"] for trial in trials]\n",
    "print(xs)\n",
    "print(acc)\n",
    "print(best, best_value)"
   ]
  },
  {
   "cell_type": "code",
   "execution_count": 9,
   "metadata": {},
   "outputs": [
    {
     "name": "stdout",
     "output_type": "stream",
     "text": [
      "100%|██████████| 100/100 [00:00<00:00, 107.51trial/s, best loss: 0.08499999999999996]\n",
      "[{'C': [], 'algo': [1], 'degree': [], 'gamma': [], 'kernel': [], 'max_depth': [], 'min_samples_split': [], 'n_neighbors': [4]}, {'C': [0.6965660878517329], 'algo': [2], 'degree': [], 'gamma': [2.369866463508059], 'kernel': [1], 'max_depth': [], 'min_samples_split': [], 'n_neighbors': []}, {'C': [], 'algo': [0], 'degree': [], 'gamma': [], 'kernel': [], 'max_depth': [0], 'min_samples_split': [3], 'n_neighbors': []}, {'C': [], 'algo': [1], 'degree': [], 'gamma': [], 'kernel': [], 'max_depth': [], 'min_samples_split': [], 'n_neighbors': [4]}, {'C': [], 'algo': [0], 'degree': [], 'gamma': [], 'kernel': [], 'max_depth': [1], 'min_samples_split': [2], 'n_neighbors': []}, {'C': [], 'algo': [0], 'degree': [], 'gamma': [], 'kernel': [], 'max_depth': [1], 'min_samples_split': [1], 'n_neighbors': []}, {'C': [], 'algo': [1], 'degree': [], 'gamma': [], 'kernel': [], 'max_depth': [], 'min_samples_split': [], 'n_neighbors': [0]}, {'C': [], 'algo': [0], 'degree': [], 'gamma': [], 'kernel': [], 'max_depth': [1], 'min_samples_split': [1], 'n_neighbors': []}, {'C': [], 'algo': [1], 'degree': [], 'gamma': [], 'kernel': [], 'max_depth': [], 'min_samples_split': [], 'n_neighbors': [2]}, {'C': [], 'algo': [1], 'degree': [], 'gamma': [], 'kernel': [], 'max_depth': [], 'min_samples_split': [], 'n_neighbors': [2]}, {'C': [], 'algo': [1], 'degree': [], 'gamma': [], 'kernel': [], 'max_depth': [], 'min_samples_split': [], 'n_neighbors': [1]}, {'C': [], 'algo': [1], 'degree': [], 'gamma': [], 'kernel': [], 'max_depth': [], 'min_samples_split': [], 'n_neighbors': [1]}, {'C': [], 'algo': [0], 'degree': [], 'gamma': [], 'kernel': [], 'max_depth': [4], 'min_samples_split': [0], 'n_neighbors': []}, {'C': [1.5377955470468292], 'algo': [2], 'degree': [1], 'gamma': [], 'kernel': [2], 'max_depth': [], 'min_samples_split': [], 'n_neighbors': []}, {'C': [], 'algo': [1], 'degree': [], 'gamma': [], 'kernel': [], 'max_depth': [], 'min_samples_split': [], 'n_neighbors': [1]}, {'C': [0.30055883220106844], 'algo': [2], 'degree': [], 'gamma': [0.7822944403875004], 'kernel': [1], 'max_depth': [], 'min_samples_split': [], 'n_neighbors': []}, {'C': [], 'algo': [0], 'degree': [], 'gamma': [], 'kernel': [], 'max_depth': [4], 'min_samples_split': [3], 'n_neighbors': []}, {'C': [2.990330174517606], 'algo': [2], 'degree': [], 'gamma': [], 'kernel': [0], 'max_depth': [], 'min_samples_split': [], 'n_neighbors': []}, {'C': [], 'algo': [1], 'degree': [], 'gamma': [], 'kernel': [], 'max_depth': [], 'min_samples_split': [], 'n_neighbors': [1]}, {'C': [], 'algo': [1], 'degree': [], 'gamma': [], 'kernel': [], 'max_depth': [], 'min_samples_split': [], 'n_neighbors': [0]}, {'C': [], 'algo': [0], 'degree': [], 'gamma': [], 'kernel': [], 'max_depth': [0], 'min_samples_split': [2], 'n_neighbors': []}, {'C': [], 'algo': [0], 'degree': [], 'gamma': [], 'kernel': [], 'max_depth': [0], 'min_samples_split': [2], 'n_neighbors': []}, {'C': [], 'algo': [0], 'degree': [], 'gamma': [], 'kernel': [], 'max_depth': [0], 'min_samples_split': [3], 'n_neighbors': []}, {'C': [], 'algo': [0], 'degree': [], 'gamma': [], 'kernel': [], 'max_depth': [0], 'min_samples_split': [3], 'n_neighbors': []}, {'C': [], 'algo': [0], 'degree': [], 'gamma': [], 'kernel': [], 'max_depth': [3], 'min_samples_split': [3], 'n_neighbors': []}, {'C': [], 'algo': [0], 'degree': [], 'gamma': [], 'kernel': [], 'max_depth': [2], 'min_samples_split': [3], 'n_neighbors': []}, {'C': [], 'algo': [0], 'degree': [], 'gamma': [], 'kernel': [], 'max_depth': [0], 'min_samples_split': [3], 'n_neighbors': []}, {'C': [], 'algo': [0], 'degree': [], 'gamma': [], 'kernel': [], 'max_depth': [0], 'min_samples_split': [3], 'n_neighbors': []}, {'C': [], 'algo': [0], 'degree': [], 'gamma': [], 'kernel': [], 'max_depth': [3], 'min_samples_split': [0], 'n_neighbors': []}, {'C': [], 'algo': [0], 'degree': [], 'gamma': [], 'kernel': [], 'max_depth': [0], 'min_samples_split': [3], 'n_neighbors': []}, {'C': [0.7037265679694914], 'algo': [2], 'degree': [2], 'gamma': [], 'kernel': [2], 'max_depth': [], 'min_samples_split': [], 'n_neighbors': []}, {'C': [], 'algo': [0], 'degree': [], 'gamma': [], 'kernel': [], 'max_depth': [2], 'min_samples_split': [2], 'n_neighbors': []}, {'C': [], 'algo': [0], 'degree': [], 'gamma': [], 'kernel': [], 'max_depth': [0], 'min_samples_split': [2], 'n_neighbors': []}, {'C': [1.4571904263520057], 'algo': [2], 'degree': [], 'gamma': [], 'kernel': [0], 'max_depth': [], 'min_samples_split': [], 'n_neighbors': []}, {'C': [], 'algo': [0], 'degree': [], 'gamma': [], 'kernel': [], 'max_depth': [0], 'min_samples_split': [2], 'n_neighbors': []}, {'C': [], 'algo': [0], 'degree': [], 'gamma': [], 'kernel': [], 'max_depth': [2], 'min_samples_split': [2], 'n_neighbors': []}, {'C': [], 'algo': [0], 'degree': [], 'gamma': [], 'kernel': [], 'max_depth': [3], 'min_samples_split': [0], 'n_neighbors': []}, {'C': [], 'algo': [0], 'degree': [], 'gamma': [], 'kernel': [], 'max_depth': [0], 'min_samples_split': [1], 'n_neighbors': []}, {'C': [11.173992270223305], 'algo': [2], 'degree': [], 'gamma': [], 'kernel': [0], 'max_depth': [], 'min_samples_split': [], 'n_neighbors': []}, {'C': [], 'algo': [0], 'degree': [], 'gamma': [], 'kernel': [], 'max_depth': [4], 'min_samples_split': [3], 'n_neighbors': []}, {'C': [], 'algo': [0], 'degree': [], 'gamma': [], 'kernel': [], 'max_depth': [0], 'min_samples_split': [3], 'n_neighbors': []}, {'C': [], 'algo': [0], 'degree': [], 'gamma': [], 'kernel': [], 'max_depth': [0], 'min_samples_split': [1], 'n_neighbors': []}, {'C': [0.39102942488427295], 'algo': [2], 'degree': [3], 'gamma': [], 'kernel': [2], 'max_depth': [], 'min_samples_split': [], 'n_neighbors': []}, {'C': [], 'algo': [0], 'degree': [], 'gamma': [], 'kernel': [], 'max_depth': [0], 'min_samples_split': [2], 'n_neighbors': []}, {'C': [], 'algo': [1], 'degree': [], 'gamma': [], 'kernel': [], 'max_depth': [], 'min_samples_split': [], 'n_neighbors': [3]}, {'C': [], 'algo': [0], 'degree': [], 'gamma': [], 'kernel': [], 'max_depth': [4], 'min_samples_split': [3], 'n_neighbors': []}, {'C': [], 'algo': [1], 'degree': [], 'gamma': [], 'kernel': [], 'max_depth': [], 'min_samples_split': [], 'n_neighbors': [3]}, {'C': [0.08325542947008388], 'algo': [2], 'degree': [], 'gamma': [0.12509553613411634], 'kernel': [1], 'max_depth': [], 'min_samples_split': [], 'n_neighbors': []}, {'C': [], 'algo': [0], 'degree': [], 'gamma': [], 'kernel': [], 'max_depth': [1], 'min_samples_split': [3], 'n_neighbors': []}, {'C': [], 'algo': [0], 'degree': [], 'gamma': [], 'kernel': [], 'max_depth': [3], 'min_samples_split': [0], 'n_neighbors': []}, {'C': [], 'algo': [1], 'degree': [], 'gamma': [], 'kernel': [], 'max_depth': [], 'min_samples_split': [], 'n_neighbors': [0]}, {'C': [], 'algo': [0], 'degree': [], 'gamma': [], 'kernel': [], 'max_depth': [2], 'min_samples_split': [2], 'n_neighbors': []}, {'C': [3.049947719157517], 'algo': [2], 'degree': [0], 'gamma': [], 'kernel': [2], 'max_depth': [], 'min_samples_split': [], 'n_neighbors': []}, {'C': [], 'algo': [1], 'degree': [], 'gamma': [], 'kernel': [], 'max_depth': [], 'min_samples_split': [], 'n_neighbors': [3]}, {'C': [], 'algo': [0], 'degree': [], 'gamma': [], 'kernel': [], 'max_depth': [0], 'min_samples_split': [2], 'n_neighbors': []}, {'C': [], 'algo': [0], 'degree': [], 'gamma': [], 'kernel': [], 'max_depth': [1], 'min_samples_split': [1], 'n_neighbors': []}, {'C': [], 'algo': [1], 'degree': [], 'gamma': [], 'kernel': [], 'max_depth': [], 'min_samples_split': [], 'n_neighbors': [2]}, {'C': [], 'algo': [0], 'degree': [], 'gamma': [], 'kernel': [], 'max_depth': [0], 'min_samples_split': [1], 'n_neighbors': []}, {'C': [2.4565310057346204], 'algo': [2], 'degree': [], 'gamma': [], 'kernel': [0], 'max_depth': [], 'min_samples_split': [], 'n_neighbors': []}, {'C': [], 'algo': [0], 'degree': [], 'gamma': [], 'kernel': [], 'max_depth': [1], 'min_samples_split': [2], 'n_neighbors': []}, {'C': [], 'algo': [0], 'degree': [], 'gamma': [], 'kernel': [], 'max_depth': [4], 'min_samples_split': [3], 'n_neighbors': []}, {'C': [], 'algo': [0], 'degree': [], 'gamma': [], 'kernel': [], 'max_depth': [0], 'min_samples_split': [3], 'n_neighbors': []}, {'C': [], 'algo': [1], 'degree': [], 'gamma': [], 'kernel': [], 'max_depth': [], 'min_samples_split': [], 'n_neighbors': [4]}, {'C': [0.43312129986027725], 'algo': [2], 'degree': [], 'gamma': [0.7113892485405494], 'kernel': [1], 'max_depth': [], 'min_samples_split': [], 'n_neighbors': []}, {'C': [], 'algo': [0], 'degree': [], 'gamma': [], 'kernel': [], 'max_depth': [1], 'min_samples_split': [0], 'n_neighbors': []}, {'C': [], 'algo': [0], 'degree': [], 'gamma': [], 'kernel': [], 'max_depth': [0], 'min_samples_split': [3], 'n_neighbors': []}, {'C': [], 'algo': [0], 'degree': [], 'gamma': [], 'kernel': [], 'max_depth': [0], 'min_samples_split': [1], 'n_neighbors': []}, {'C': [], 'algo': [0], 'degree': [], 'gamma': [], 'kernel': [], 'max_depth': [0], 'min_samples_split': [1], 'n_neighbors': []}, {'C': [], 'algo': [0], 'degree': [], 'gamma': [], 'kernel': [], 'max_depth': [0], 'min_samples_split': [1], 'n_neighbors': []}, {'C': [], 'algo': [0], 'degree': [], 'gamma': [], 'kernel': [], 'max_depth': [0], 'min_samples_split': [3], 'n_neighbors': []}, {'C': [], 'algo': [0], 'degree': [], 'gamma': [], 'kernel': [], 'max_depth': [0], 'min_samples_split': [3], 'n_neighbors': []}, {'C': [], 'algo': [0], 'degree': [], 'gamma': [], 'kernel': [], 'max_depth': [0], 'min_samples_split': [3], 'n_neighbors': []}, {'C': [], 'algo': [0], 'degree': [], 'gamma': [], 'kernel': [], 'max_depth': [3], 'min_samples_split': [3], 'n_neighbors': []}, {'C': [], 'algo': [0], 'degree': [], 'gamma': [], 'kernel': [], 'max_depth': [4], 'min_samples_split': [3], 'n_neighbors': []}, {'C': [], 'algo': [0], 'degree': [], 'gamma': [], 'kernel': [], 'max_depth': [2], 'min_samples_split': [2], 'n_neighbors': []}, {'C': [], 'algo': [0], 'degree': [], 'gamma': [], 'kernel': [], 'max_depth': [0], 'min_samples_split': [1], 'n_neighbors': []}, {'C': [], 'algo': [0], 'degree': [], 'gamma': [], 'kernel': [], 'max_depth': [0], 'min_samples_split': [1], 'n_neighbors': []}, {'C': [], 'algo': [0], 'degree': [], 'gamma': [], 'kernel': [], 'max_depth': [0], 'min_samples_split': [1], 'n_neighbors': []}, {'C': [1.036591948018733], 'algo': [2], 'degree': [], 'gamma': [1.615311758943311], 'kernel': [1], 'max_depth': [], 'min_samples_split': [], 'n_neighbors': []}, {'C': [], 'algo': [1], 'degree': [], 'gamma': [], 'kernel': [], 'max_depth': [], 'min_samples_split': [], 'n_neighbors': [4]}, {'C': [], 'algo': [0], 'degree': [], 'gamma': [], 'kernel': [], 'max_depth': [3], 'min_samples_split': [0], 'n_neighbors': []}, {'C': [], 'algo': [0], 'degree': [], 'gamma': [], 'kernel': [], 'max_depth': [0], 'min_samples_split': [2], 'n_neighbors': []}, {'C': [], 'algo': [0], 'degree': [], 'gamma': [], 'kernel': [], 'max_depth': [2], 'min_samples_split': [3], 'n_neighbors': []}, {'C': [6.077816987082488], 'algo': [2], 'degree': [], 'gamma': [], 'kernel': [0], 'max_depth': [], 'min_samples_split': [], 'n_neighbors': []}, {'C': [], 'algo': [1], 'degree': [], 'gamma': [], 'kernel': [], 'max_depth': [], 'min_samples_split': [], 'n_neighbors': [3]}, {'C': [], 'algo': [0], 'degree': [], 'gamma': [], 'kernel': [], 'max_depth': [0], 'min_samples_split': [2], 'n_neighbors': []}, {'C': [], 'algo': [0], 'degree': [], 'gamma': [], 'kernel': [], 'max_depth': [4], 'min_samples_split': [2], 'n_neighbors': []}, {'C': [], 'algo': [0], 'degree': [], 'gamma': [], 'kernel': [], 'max_depth': [1], 'min_samples_split': [3], 'n_neighbors': []}, {'C': [0.19958571003751774], 'algo': [2], 'degree': [4], 'gamma': [], 'kernel': [2], 'max_depth': [], 'min_samples_split': [], 'n_neighbors': []}, {'C': [], 'algo': [0], 'degree': [], 'gamma': [], 'kernel': [], 'max_depth': [0], 'min_samples_split': [1], 'n_neighbors': []}, {'C': [], 'algo': [1], 'degree': [], 'gamma': [], 'kernel': [], 'max_depth': [], 'min_samples_split': [], 'n_neighbors': [0]}, {'C': [], 'algo': [0], 'degree': [], 'gamma': [], 'kernel': [], 'max_depth': [3], 'min_samples_split': [0], 'n_neighbors': []}, {'C': [], 'algo': [0], 'degree': [], 'gamma': [], 'kernel': [], 'max_depth': [0], 'min_samples_split': [1], 'n_neighbors': []}, {'C': [], 'algo': [0], 'degree': [], 'gamma': [], 'kernel': [], 'max_depth': [2], 'min_samples_split': [3], 'n_neighbors': []}, {'C': [0.6536645819261131], 'algo': [2], 'degree': [5], 'gamma': [], 'kernel': [2], 'max_depth': [], 'min_samples_split': [], 'n_neighbors': []}, {'C': [], 'algo': [1], 'degree': [], 'gamma': [], 'kernel': [], 'max_depth': [], 'min_samples_split': [], 'n_neighbors': [2]}, {'C': [], 'algo': [0], 'degree': [], 'gamma': [], 'kernel': [], 'max_depth': [0], 'min_samples_split': [2], 'n_neighbors': []}, {'C': [], 'algo': [0], 'degree': [], 'gamma': [], 'kernel': [], 'max_depth': [0], 'min_samples_split': [2], 'n_neighbors': []}, {'C': [], 'algo': [0], 'degree': [], 'gamma': [], 'kernel': [], 'max_depth': [4], 'min_samples_split': [2], 'n_neighbors': []}, {'C': [0.9066131494580557], 'algo': [2], 'degree': [], 'gamma': [0.3603710800681114], 'kernel': [1], 'max_depth': [], 'min_samples_split': [], 'n_neighbors': []}]\n",
      "[0.19499999999999995, 0.15000000000000002, 0.08499999999999996, 0.19499999999999995, 0.09999999999999998, 0.09999999999999998, 0.22999999999999998, 0.09999999999999998, 0.21999999999999997, 0.21999999999999997, 0.24, 0.24, 0.16500000000000004, 0.19999999999999996, 0.24, 0.17500000000000004, 0.14500000000000002, 0.16000000000000003, 0.24, 0.22999999999999998, 0.08499999999999996, 0.08499999999999996, 0.08499999999999996, 0.08499999999999996, 0.14500000000000002, 0.10999999999999999, 0.08499999999999996, 0.08499999999999996, 0.16500000000000004, 0.08499999999999996, 0.20999999999999996, 0.125, 0.08499999999999996, 0.16000000000000003, 0.08499999999999996, 0.125, 0.17000000000000004, 0.08499999999999996, 0.16500000000000004, 0.14500000000000002, 0.08499999999999996, 0.08499999999999996, 0.20499999999999996, 0.08499999999999996, 0.17000000000000004, 0.14, 0.17000000000000004, 0.22499999999999998, 0.09999999999999998, 0.18000000000000005, 0.22999999999999998, 0.12, 0.17000000000000004, 0.17000000000000004, 0.08499999999999996, 0.09999999999999998, 0.21999999999999997, 0.08499999999999996, 0.16000000000000003, 0.09999999999999998, 0.14, 0.08499999999999996, 0.19499999999999995, 0.16000000000000003, 0.09999999999999998, 0.08499999999999996, 0.08499999999999996, 0.08499999999999996, 0.08499999999999996, 0.08499999999999996, 0.08499999999999996, 0.08499999999999996, 0.14, 0.14, 0.12, 0.08499999999999996, 0.08499999999999996, 0.08499999999999996, 0.16000000000000003, 0.19499999999999995, 0.16000000000000003, 0.08499999999999996, 0.10499999999999998, 0.15500000000000003, 0.17000000000000004, 0.08499999999999996, 0.16500000000000004, 0.09999999999999998, 0.20499999999999996, 0.08499999999999996, 0.22999999999999998, 0.16000000000000003, 0.08499999999999996, 0.10999999999999999, 0.19499999999999995, 0.21999999999999997, 0.08499999999999996, 0.08499999999999996, 0.17000000000000004, 0.16000000000000003]\n",
      "{'algo': {'ime': 'drevo', 'max_depth': 2, 'min_samples_split': 16}} 0.08499999999999996\n"
     ]
    }
   ],
   "source": [
    "# razširjene vrednosti\n",
    "trials = Trials()\n",
    "best = fmin(fn = kriterijska_funkcija_razsirjeno,\n",
    "            space = gnezdeni_prostor,\n",
    "            algo = tpe.suggest,\n",
    "            max_evals = 100,\n",
    "            trials = trials\n",
    ")\n",
    "\n",
    "best = space_eval(gnezdeni_prostor, best)\n",
    "best_value = kriterijska_funkcija_razsirjeno(best)\n",
    "\n",
    "xs = [trial[\"misc\"][\"vals\"] for trial in trials]\n",
    "acc = [trial[\"result\"][\"loss\"] for trial in trials]\n",
    "print(xs)\n",
    "print(acc)\n",
    "print(best, best_value)"
   ]
  }
 ],
 "metadata": {
  "kernelspec": {
   "display_name": "base",
   "language": "python",
   "name": "python3"
  },
  "language_info": {
   "codemirror_mode": {
    "name": "ipython",
    "version": 3
   },
   "file_extension": ".py",
   "mimetype": "text/x-python",
   "name": "python",
   "nbconvert_exporter": "python",
   "pygments_lexer": "ipython3",
   "version": "3.11.2"
  },
  "orig_nbformat": 4
 },
 "nbformat": 4,
 "nbformat_minor": 2
}
